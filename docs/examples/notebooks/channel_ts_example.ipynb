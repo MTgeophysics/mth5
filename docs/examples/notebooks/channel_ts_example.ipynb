{
 "cells": [
  {
   "cell_type": "markdown",
   "id": "2e99a6ce-b5a1-4cab-8330-30f75f4f0496",
   "metadata": {},
   "source": [
    "# ChannelTS\n",
    "A `ChannelTS` object is a container for a single channel.  The data are stored in an `xarray.DataArray` and indexed by time according to the metadata provided.  Here we will make a simple `electric` channel and look at how to interogate it."
   ]
  },
  {
   "cell_type": "code",
   "execution_count": 1,
   "id": "41360939-c4a8-4507-92b4-fc831d9ad555",
   "metadata": {},
   "outputs": [
    {
     "ename": "SyntaxError",
     "evalue": "invalid syntax (channel_ts.py, line 740)",
     "output_type": "error",
     "traceback": [
      "Traceback \u001b[1;36m(most recent call last)\u001b[0m:\n",
      "  File \u001b[0;32m\"C:\\Users\\jpeacock\\Anaconda3\\envs\\em\\lib\\site-packages\\IPython\\core\\interactiveshell.py\"\u001b[0m, line \u001b[0;32m3552\u001b[0m, in \u001b[0;35mrun_code\u001b[0m\n    exec(code_obj, self.user_global_ns, self.user_ns)\n",
      "  File \u001b[0;32m\"C:\\Users\\jpeacock\\AppData\\Local\\Temp\\1\\ipykernel_12460\\4102147025.py\"\u001b[0m, line \u001b[0;32m3\u001b[0m, in \u001b[0;35m<cell line: 3>\u001b[0m\n    from mth5.timeseries import ChannelTS\n",
      "  File \u001b[0;32m\"C:\\Users\\jpeacock\\OneDrive - DOI\\Documents\\GitHub\\mth5\\mth5\\__init__.py\"\u001b[0m, line \u001b[0;32m8\u001b[0m, in \u001b[0;35m<module>\u001b[0m\n    from mth5.io.reader import read_file\n",
      "  File \u001b[0;32m\"C:\\Users\\jpeacock\\OneDrive - DOI\\Documents\\GitHub\\mth5\\mth5\\io\\__init__.py\"\u001b[0m, line \u001b[0;32m3\u001b[0m, in \u001b[0;35m<module>\u001b[0m\n    from .reader import read_file\n",
      "  File \u001b[0;32m\"C:\\Users\\jpeacock\\OneDrive - DOI\\Documents\\GitHub\\mth5\\mth5\\io\\reader.py\"\u001b[0m, line \u001b[0;32m54\u001b[0m, in \u001b[0;35m<module>\u001b[0m\n    from mth5.io import zen, nims, usgs_ascii, miniseed, lemi, phoenix\n",
      "  File \u001b[0;32m\"C:\\Users\\jpeacock\\OneDrive - DOI\\Documents\\GitHub\\mth5\\mth5\\io\\zen\\__init__.py\"\u001b[0m, line \u001b[0;32m6\u001b[0m, in \u001b[0;35m<module>\u001b[0m\n    from .zen import Z3D, read_z3d\n",
      "  File \u001b[0;32m\"C:\\Users\\jpeacock\\OneDrive - DOI\\Documents\\GitHub\\mth5\\mth5\\io\\zen\\zen.py\"\u001b[0m, line \u001b[0;32m40\u001b[0m, in \u001b[0;35m<module>\u001b[0m\n    from mth5.timeseries import ChannelTS\n",
      "\u001b[1;36m  File \u001b[1;32m\"C:\\Users\\jpeacock\\OneDrive - DOI\\Documents\\GitHub\\mth5\\mth5\\timeseries\\__init__.py\"\u001b[1;36m, line \u001b[1;32m1\u001b[1;36m, in \u001b[1;35m<module>\u001b[1;36m\u001b[0m\n\u001b[1;33m    from .channel_ts import ChannelTS\u001b[0m\n",
      "\u001b[1;36m  File \u001b[1;32m\"C:\\Users\\jpeacock\\OneDrive - DOI\\Documents\\GitHub\\mth5\\mth5\\timeseries\\channel_ts.py\"\u001b[1;36m, line \u001b[1;32m740\u001b[0m\n\u001b[1;33m    if self.sample_rate != self.channel_metadata.sample_rate\u001b[0m\n\u001b[1;37m                                                            ^\u001b[0m\n\u001b[1;31mSyntaxError\u001b[0m\u001b[1;31m:\u001b[0m invalid syntax\n"
     ]
    }
   ],
   "source": [
    "%matplotlib inline\n",
    "import numpy as np\n",
    "from mth5.timeseries import ChannelTS\n",
    "from mt_metadata.timeseries import Electric, Run, Station"
   ]
  },
  {
   "cell_type": "markdown",
   "id": "b6fdf3b3-8fdf-44b8-a03f-419370a0641b",
   "metadata": {},
   "source": [
    "Here create some metadata, the keys are the `time_period.start` and the `sample_rate`. "
   ]
  },
  {
   "cell_type": "code",
   "execution_count": null,
   "id": "ef05db08-3880-4455-bde9-206858be990e",
   "metadata": {},
   "outputs": [],
   "source": [
    "ex_metadata = Electric()\n",
    "ex_metadata.time_period.start = \"2020-01-01T00:00:00\"\n",
    "ex_metadata.sample_rate = 8.0\n",
    "ex_metadata.component = \"ex\"\n",
    "ex_metadata.dipole_length = 100.\n",
    "ex_metadata.units = \"millivolts\""
   ]
  },
  {
   "cell_type": "markdown",
   "id": "91f065db-8098-4d13-a1b5-290247af2cc9",
   "metadata": {},
   "source": [
    "Create `Station` and `Run` metadata"
   ]
  },
  {
   "cell_type": "code",
   "execution_count": null,
   "id": "ea0fc78c-728e-4710-98f5-d794ef412af2",
   "metadata": {},
   "outputs": [],
   "source": [
    "station_metadata = Station(id=\"mt001\")\n",
    "run_metadata = Run(id=\"001\")"
   ]
  },
  {
   "cell_type": "markdown",
   "id": "265150c9-d33d-4615-adca-130a2990cc16",
   "metadata": {},
   "source": [
    "Create \"realistic\" data "
   ]
  },
  {
   "cell_type": "code",
   "execution_count": null,
   "id": "7cc82a95-4ae0-46c5-a185-9a9731d9d0eb",
   "metadata": {},
   "outputs": [],
   "source": [
    "n_samples = 4096\n",
    "t = np.arange(n_samples)\n",
    "data = np.sum([np.cos(2*np.pi*w*t + phi) for w, phi in zip(np.logspace(-3, 3, 20), np.random.rand(20))], axis=0)"
   ]
  },
  {
   "cell_type": "code",
   "execution_count": null,
   "id": "916bc841-f41b-44b2-a050-b8cbcb6cd22f",
   "metadata": {},
   "outputs": [],
   "source": [
    "ex = ChannelTS(channel_type=\"electric\",\n",
    "              data=data,\n",
    "              channel_metadata=ex_metadata,\n",
    "              run_metadata=run_metadata,\n",
    "              station_metadata=station_metadata)"
   ]
  },
  {
   "cell_type": "code",
   "execution_count": null,
   "id": "c85554d1-8c4e-4878-b13f-c65995060688",
   "metadata": {},
   "outputs": [],
   "source": [
    "ex"
   ]
  },
  {
   "cell_type": "markdown",
   "id": "13a00356-75dc-4221-ad17-7699c4fbf7e5",
   "metadata": {},
   "source": [
    "## Get a slice of the data\n",
    "Here we will provide a start time of the slice and the number of samples that we want the slice to be\n"
   ]
  },
  {
   "cell_type": "code",
   "execution_count": null,
   "id": "dad07c45-b051-447b-be9c-560868cd9685",
   "metadata": {},
   "outputs": [],
   "source": [
    "ex_slice = ex.get_slice(\"2020-01-01T00:00:00\", n_samples=256)"
   ]
  },
  {
   "cell_type": "code",
   "execution_count": null,
   "id": "74e9dc21-1425-486b-af36-e39b3720bde5",
   "metadata": {},
   "outputs": [],
   "source": [
    "ex_slice"
   ]
  },
  {
   "cell_type": "markdown",
   "id": "feb3f1cf-101e-4dfb-93e6-1daaaccff4c8",
   "metadata": {},
   "source": [
    "## Plot the data\n",
    "This is a work in progress, but this can be done through the `xarray` container."
   ]
  },
  {
   "cell_type": "code",
   "execution_count": null,
   "id": "fd67df38-e967-4054-852b-72a5fd0c43d6",
   "metadata": {},
   "outputs": [],
   "source": [
    "ex_slice.plot()"
   ]
  },
  {
   "cell_type": "markdown",
   "id": "7eaaafce-84a5-4ba0-a526-93042ccdad35",
   "metadata": {},
   "source": [
    "## Convert to an `xarray`\n",
    "We can convert the `ChannelTS` object to an `xarray.DataArray` which could be easier to use."
   ]
  },
  {
   "cell_type": "code",
   "execution_count": null,
   "id": "da891210-fd11-4e16-8eec-a5bd97681027",
   "metadata": {},
   "outputs": [],
   "source": [
    "ex_xarray = ex.to_xarray()"
   ]
  },
  {
   "cell_type": "code",
   "execution_count": null,
   "id": "7ccf4a25-ad95-4e00-a075-81281d999c84",
   "metadata": {},
   "outputs": [],
   "source": [
    "ex_xarray"
   ]
  },
  {
   "cell_type": "code",
   "execution_count": null,
   "id": "47a32e4d-96ca-4ecb-8e29-8a6f4623ee96",
   "metadata": {},
   "outputs": [],
   "source": [
    "ex_xarray.plot()"
   ]
  },
  {
   "cell_type": "markdown",
   "id": "f1f7160c-baa7-4af4-907f-4d9a05df19c5",
   "metadata": {},
   "source": [
    "## Convert to an `Obspy.Trace` object\n",
    "The `ChannelTS` object can be converted to an `obspy.Trace` object.  This can be useful when dealing with data received from a mainly seismic archive like IRIS.  This can also be useful for using some tools provided by [Obspy](https://docs.obspy.org/).  \n",
    "\n",
    "**Note** there is a loss of information when doing this because an `obspy.Trace` is based on miniSEED data formats which has minimal metadata.  "
   ]
  },
  {
   "cell_type": "code",
   "execution_count": null,
   "id": "dbd2ca4e-dfeb-483b-8f1f-c21366ef554d",
   "metadata": {},
   "outputs": [],
   "source": [
    "ex.station_metadata.fdsn.id = \"mt001\"\n",
    "ex_trace = ex.to_obspy_trace()"
   ]
  },
  {
   "cell_type": "code",
   "execution_count": null,
   "id": "d15f5711-1767-4755-b1e2-d95c595206b6",
   "metadata": {},
   "outputs": [],
   "source": [
    "ex_trace"
   ]
  },
  {
   "cell_type": "markdown",
   "id": "017d075e-acae-4c35-b676-8a4651ab94e8",
   "metadata": {},
   "source": [
    "## Convert from an `Obspy.Trace` object\n",
    "We can reverse that and convert an `obspy.Trace` into a `ChannelTS`.  Again useful when dealing with seismic dominated archives."
   ]
  },
  {
   "cell_type": "code",
   "execution_count": null,
   "id": "383955d4-a1b4-4ad5-8056-1389c47f6465",
   "metadata": {},
   "outputs": [],
   "source": [
    "ex_from_trace = ChannelTS()\n",
    "ex_from_trace.from_obspy_trace(ex_trace)"
   ]
  },
  {
   "cell_type": "code",
   "execution_count": null,
   "id": "7903fee1-dcf1-4ca5-b512-f752d835da04",
   "metadata": {},
   "outputs": [],
   "source": [
    "ex_from_trace"
   ]
  },
  {
   "cell_type": "code",
   "execution_count": null,
   "id": "6c4e8058-0e41-4f1c-9fd8-96b8ff2cf3bc",
   "metadata": {},
   "outputs": [],
   "source": [
    "ex"
   ]
  },
  {
   "cell_type": "markdown",
   "id": "47dfa436-02c5-44f5-903c-778435bf7c1a",
   "metadata": {},
   "source": [
    "On comparison you can see the loss of metadata information.  "
   ]
  },
  {
   "cell_type": "markdown",
   "id": "12cdc486-657f-40dd-ad0b-78d8eb223b5d",
   "metadata": {},
   "source": [
    "## Calibrate \n",
    "\n",
    "Removing the instrument response to calibrate the data is an important step in processing the data.  A convenience function `ChannelTS.remove_instrument_response` is supplied just for this.  \n",
    "Currently, it will calibrate the whole time series at once and therefore may be slow for large data sets.  \n",
    "\n",
    "**SEE ALSO**: `Make Data From IRIS` examples for working examples."
   ]
  },
  {
   "cell_type": "code",
   "execution_count": null,
   "id": "173827d1-f232-4ea1-a9f0-b3eeeaab0ffe",
   "metadata": {},
   "outputs": [],
   "source": [
    "help(ex.remove_instrument_response)"
   ]
  },
  {
   "cell_type": "markdown",
   "id": "bd8885ed-87f0-445c-a5e2-805c9f8c90db",
   "metadata": {},
   "source": [
    "## Decimate and Filters\n",
    "\n",
    "A common practice when working with time series would be decimating or downsampling the data.  `xarray` has some builtins for resampling, however these do not apply a filter prior to downsampling and has alias issues.  We have added some utilities for decimation and filtering following the package [xr-scipy](https://github.com/fujiisoup/xr-scipy/tree/master/xrscipy).  When MTH5 is initiated a `filt` accessor to `xarray.DataArray` and `xarray.Dataset` which includes some filtering methods as well as decimation.  Therefore for access to these methods use `DataArray.filt.decimate` or `Dataset.filt.decimate`.  There are methods for applying `lowpass`, `highpass`, `bandpass`, and `decimate`.  `ChannelTS` uses `ChannelTS._ts.filt.decimate(new_sample_rate)` for decimation.   \n",
    "\n",
    "<div class=\"alert alert-block alert-info\">\n",
    "<b>Note:</b> In future versions of MTH5 filters will be added to ChannelTS.\n",
    "</div>\n",
    "\n",
    "### Decimate\n",
    "\n",
    "Here we will decimate to a new sample rate of 1 sample per second.  "
   ]
  },
  {
   "cell_type": "code",
   "execution_count": null,
   "id": "a8c432d2-f4e1-46f8-a9fa-13f76eb7ecf3",
   "metadata": {},
   "outputs": [],
   "source": [
    "decimated_ex = ex.decimate(1)"
   ]
  },
  {
   "cell_type": "code",
   "execution_count": null,
   "id": "cdba6422-b43d-47a9-ba53-5f5420ec59f4",
   "metadata": {},
   "outputs": [],
   "source": [
    "decimated_ex.plot()"
   ]
  },
  {
   "cell_type": "markdown",
   "id": "928b694d-41bc-4228-a4a2-5e191df75aaa",
   "metadata": {},
   "source": [
    "## Merge Channels\n",
    "\n",
    "A common step in working with time series would be to combine different segments of collected for the same channel. If the sample rates are the same you can use `channel_01 + channel_02`.  This should also work if the sample rates are not the same, though you should use `ChannelTS.merge` if the sample rates are not the same. The channels combined must have the same component.  There are two builtin methods to combine channels those are `+` and `merge()`.  \n",
    "\n",
    "  1. `added_channel = cnahhel_01 + channel_02`\n",
    "  2. `merged_channel = channel_01.merge(channel_02)` \n",
    "  \n",
    "Both methods use `xarray.combine_by_coords([ch1, rch2], combine_attrs='override'`.  The `combine_by_coords` method simply concatenates along similar dimensions and cares nothing of a monotonix dimension variable.  Therefore, `xarray.DataArray.reindex` is used to create a monotonically increasing time series.  Any gaps are filled interpolated using a 1-D interpolation.  The default method is `slinear` which is probably the most useful for processing time series.  If you want more control over the interpolation method use `ChannelTS.merge([ch1, ch2, ...], gap_method=interpolation_method`.  For more information on interpolation methods see [Scipy.interpolate.interp1d](https://docs.scipy.org/doc/scipy/reference/generated/scipy.interpolate.interp1d.html). Similarly if you want more control on how the datasets are merged use [xarray tools](https://docs.xarray.dev/en/stable/user-guide/combining.html).  \n",
    "\n",
    "### Add Channels\n",
    "\n",
    "Adding channels together does 2 at a time so if you are adding multiple channels together `channel_01 + channel_02 + channel_03 ...` its better to use `merge`.  Also if you want more control on how the channels are merged and how time gaps are interpolated use `merge`."
   ]
  },
  {
   "cell_type": "code",
   "execution_count": null,
   "id": "6f6e0a68-fa6c-4fdf-99de-f35d6aa07274",
   "metadata": {},
   "outputs": [],
   "source": [
    "ex2 = ex.copy()\n",
    "ex2.start = \"2020-01-01T00:08:45\""
   ]
  },
  {
   "cell_type": "code",
   "execution_count": null,
   "id": "cb8c26cb-eaea-4f64-bc38-0e4435a43a30",
   "metadata": {},
   "outputs": [],
   "source": [
    "added_channel = ex + ex2"
   ]
  },
  {
   "cell_type": "code",
   "execution_count": null,
   "id": "451b1f7e-23e5-49ef-b443-4ccfb00f63a2",
   "metadata": {},
   "outputs": [],
   "source": [
    "added_channel"
   ]
  },
  {
   "cell_type": "code",
   "execution_count": null,
   "id": "a6b0b725-116c-4012-87a3-015ea71f443e",
   "metadata": {},
   "outputs": [],
   "source": [
    "added_channel.plot()"
   ]
  },
  {
   "cell_type": "markdown",
   "id": "b4f30e98-bbc1-4435-a1eb-c6d36fc78a68",
   "metadata": {},
   "source": [
    "### Merge Channels And Resample\n",
    "\n",
    "If channels have different sample rates or you want to combine channels and resample to a lower sample rate, use the keyword argument `new_sample_rate`."
   ]
  },
  {
   "cell_type": "code",
   "execution_count": null,
   "id": "cc670f35-280a-449b-846b-1ade62d35c53",
   "metadata": {},
   "outputs": [],
   "source": [
    "merged_channel = ex.merge(ex2, new_sample_rate=1)"
   ]
  },
  {
   "cell_type": "code",
   "execution_count": null,
   "id": "43884a76-9f7d-4761-a27e-c98e301016b8",
   "metadata": {},
   "outputs": [],
   "source": [
    "merged_channel"
   ]
  },
  {
   "cell_type": "code",
   "execution_count": null,
   "id": "7412a1e9-6b65-4c76-9951-9b6c12de9790",
   "metadata": {},
   "outputs": [],
   "source": [
    "merged_channel.plot()"
   ]
  },
  {
   "cell_type": "code",
   "execution_count": null,
   "id": "482f58f3-f981-4d01-b1d6-1a95d77ab204",
   "metadata": {},
   "outputs": [],
   "source": [
    "c = ex.decimate(1) + ex2.decimate(1)"
   ]
  },
  {
   "cell_type": "code",
   "execution_count": null,
   "id": "b7485c6f-5589-48eb-a22c-afa8e3afcb91",
   "metadata": {},
   "outputs": [],
   "source": [
    "c.plot()"
   ]
  },
  {
   "cell_type": "code",
   "execution_count": null,
   "id": "a65c140e-09ec-457e-a5f0-60a5edb369dc",
   "metadata": {},
   "outputs": [],
   "source": [
    "a = ex2.decimate(1)"
   ]
  },
  {
   "cell_type": "code",
   "execution_count": null,
   "id": "519ace79-c50a-4e8f-8a97-3083cb24ae85",
   "metadata": {},
   "outputs": [],
   "source": [
    "ex.plot()\n",
    "a.plot()"
   ]
  },
  {
   "cell_type": "code",
   "execution_count": null,
   "id": "c59a4a8d-6932-4fd6-87a2-cc71aa28532c",
   "metadata": {},
   "outputs": [],
   "source": [
    "ex2"
   ]
  },
  {
   "cell_type": "code",
   "execution_count": null,
   "id": "d3151a88-e365-4d4e-bc71-000e28bd416e",
   "metadata": {},
   "outputs": [],
   "source": [
    "ex.copy()"
   ]
  },
  {
   "cell_type": "code",
   "execution_count": null,
   "id": "786165a5-4627-4a06-a473-5c5fafe1f889",
   "metadata": {},
   "outputs": [],
   "source": [
    "ex.channel_metadata.sample_rate"
   ]
  },
  {
   "cell_type": "code",
   "execution_count": null,
   "id": "88c87b76-3474-42e4-b155-e3f50187d4b3",
   "metadata": {},
   "outputs": [],
   "source": []
  }
 ],
 "metadata": {
  "kernelspec": {
   "display_name": "Python 3 (ipykernel)",
   "language": "python",
   "name": "python3"
  },
  "language_info": {
   "codemirror_mode": {
    "name": "ipython",
    "version": 3
   },
   "file_extension": ".py",
   "mimetype": "text/x-python",
   "name": "python",
   "nbconvert_exporter": "python",
   "pygments_lexer": "ipython3",
   "version": "3.8.13"
  }
 },
 "nbformat": 4,
 "nbformat_minor": 5
}
