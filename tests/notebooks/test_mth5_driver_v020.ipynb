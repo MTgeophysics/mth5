{
 "cells": [
  {
   "cell_type": "markdown",
   "metadata": {},
   "source": [
    "# Make MTH5 from IRIS Data Managment Center v0.2.0 \n",
    "\n",
    "This example demonstrates how to build an MTH5 from data archived at IRIS, it could work with any MT data stored at an FDSN data center (probably).\n",
    "\n",
    "We will use the `mth5.clients.FDSN` class to build the file.  There is also second way using the more generic `mth5.clients.MakeMTH5` class, which will be highlighted below. \n",
    "\n",
    "**Note:** this example assumes that data availability (Network, Station, Channel, Start, End) are all previously known.  If you do not know the data that you want to download use [IRIS tools](https://ds.iris.edu/ds/nodes/dmc/tools/##) to get data availability.   "
   ]
  },
  {
   "cell_type": "code",
   "execution_count": null,
   "metadata": {},
   "outputs": [],
   "source": [
    "from pathlib import Path\n",
    "\n",
    "import numpy as np\n",
    "import pandas as pd\n",
    "from mth5.mth5 import MTH5\n",
    "from mth5.clients.make_mth5 import FDSN\n",
    "\n",
    "from matplotlib import pyplot as plt\n",
    "%matplotlib widget"
   ]
  },
  {
   "cell_type": "markdown",
   "metadata": {},
   "source": [
    "## Set the path to save files to as the current working directory"
   ]
  },
  {
   "cell_type": "code",
   "execution_count": null,
   "metadata": {},
   "outputs": [],
   "source": [
    "default_path = Path().cwd()"
   ]
  },
  {
   "cell_type": "markdown",
   "metadata": {},
   "source": [
    "## Initialize a MakeMTH5 object\n",
    "\n",
    "Here, we are setting the MTH5 file version to 0.2.0 so that we can have multiple surveys in a single file.  Also, setting the client to \"IRIS\".  Here, we are using `obspy.clients` tools for the request.  Here are the available [FDSN clients](https://docs.obspy.org/packages/obspy.clients.fdsn.html). \n",
    "\n",
    "**Note:** Only the \"IRIS\" client has been tested."
   ]
  },
  {
   "cell_type": "code",
   "execution_count": null,
   "metadata": {},
   "outputs": [],
   "source": [
    "fdsn_object = FDSN(mth5_version='0.2.0')\n",
    "fdsn_object.client = \"IRIS\""
   ]
  },
  {
   "cell_type": "markdown",
   "metadata": {},
   "source": [
    "## Make the data inquiry as a DataFrame\n",
    "\n",
    "There are a few ways to make the inquiry to request data.  \n",
    "\n",
    "1. Make a DataFrame by hand.  Here we will make a list of entries and then create a DataFrame with the proper column names\n",
    "2. You can create a CSV file with a row for each entry. There are some formatting that you need to be aware of.  That is the column names and making sure that date-times are YYYY-MM-DDThh:mm:ss\n",
    "\n",
    "\n",
    "| Column Name         |   Description                                                                                                 |\n",
    "| ------------------- | --------------------------------------------------------------------------------------------------------------|\n",
    "| **network**         | [FDSN Network code (2 letters)](http://www.fdsn.org/networks/)                                                |\n",
    "| **station**         | [FDSN Station code (usually 5 characters)](https://ds.iris.edu/ds/nodes/dmc/data/formats/seed-channel-naming/)|\n",
    "| **location**        | [FDSN Location code (typically not used for MT)](http://docs.fdsn.org/projects/source-identifiers/en/v1.0/location-codes.html) |\n",
    "| **channel**         | [FDSN Channel code (3 characters)](http://docs.fdsn.org/projects/source-identifiers/en/v1.0/channel-codes.html)|\n",
    "| **start**           | Start time (YYYY-MM-DDThh:mm:ss) UTC |\n",
    "| **end**             | End time (YYYY-MM-DDThh:mm:ss) UTC  |"
   ]
  },
  {
   "cell_type": "code",
   "execution_count": null,
   "metadata": {},
   "outputs": [],
   "source": [
    "channels = [\"LFE\", \"LFN\", \"LFZ\", \"LQE\", \"LQN\"]\n",
    "CAS04 = [\"8P\", \"CAS04\",  '2020-06-02T19:00:00', '2020-07-13T19:00:00'] \n",
    "NVR08 = [\"8P\", \"NVR08\", '2020-06-02T19:00:00', '2020-07-13T19:00:00']\n",
    "\n",
    "request_list = []\n",
    "for entry in [CAS04, NVR08]:\n",
    "    for channel in channels:\n",
    "        request_list.append(\n",
    "            [entry[0], entry[1], \"\", channel, entry[2], entry[3]]\n",
    "        )\n",
    "\n",
    "# Turn list into dataframe\n",
    "request_df =  pd.DataFrame(request_list, columns=fdsn_object.request_columns) \n",
    "request_df"
   ]
  },
  {
   "cell_type": "markdown",
   "metadata": {},
   "source": [
    "## Save the request as a CSV\n",
    "\n",
    "Its helpful to be able to save the request as a CSV and modify it and use it later.  A CSV can be input as a request to `MakeMTH5`"
   ]
  },
  {
   "cell_type": "code",
   "execution_count": null,
   "metadata": {},
   "outputs": [],
   "source": [
    "request_df.to_csv(default_path.joinpath(\"fdsn_request.csv\"))"
   ]
  },
  {
   "cell_type": "markdown",
   "metadata": {},
   "source": [
    "## Get only the metadata from IRIS\n",
    "\n",
    "It can be helpful to make sure that your request is what you would expect.  For that you can request only the metadata from IRIS.  The request is quick and light so shouldn't need to worry about the speed.  This returns a StationXML file and is loaded into an `obspy.Inventory` object."
   ]
  },
  {
   "cell_type": "code",
   "execution_count": null,
   "metadata": {},
   "outputs": [],
   "source": [
    "inventory, data = fdsn_object.get_inventory_from_df(request_df, data=False)"
   ]
  },
  {
   "cell_type": "markdown",
   "metadata": {},
   "source": [
    "Have a look at the Inventory to make sure it contains what is requested."
   ]
  },
  {
   "cell_type": "code",
   "execution_count": null,
   "metadata": {},
   "outputs": [],
   "source": [
    "inventory"
   ]
  },
  {
   "cell_type": "markdown",
   "metadata": {},
   "source": [
    "## Make an MTH5 from a request\n",
    "\n",
    "Now that we've created a request, and made sure that its what we expect, we can make an MTH5 file.  The input can be either the DataFrame or the CSV file.  \n",
    "\n",
    "We are going to time it just to get an indication how long it might take.  Should take about 4 minutes.\n",
    "\n",
    "**Note:** we are setting `interact=False`.  If you want to just to keep the file open to interogat it set `interact=True`. \n",
    "\n",
    "### Make an MTH5 using MakeMTH5\n",
    "\n",
    "Another way to make a file is using the `mth5.clients.MakeMTH5` class, which is more generic than FDSN, but doesn't have as many methods.  The `MakeMTH5` class is meant to be a convienence method for the various clients.\n",
    "\n",
    "```\n",
    "from mth5.clients import MakeMTH5\n",
    "\n",
    "make_mth5_object = MakeMTH5(mth5_version='0.2.0', interact=False)\n",
    "mth5_filename = make_mth5_object.from_fdsn_client(request_df, client=\"IRIS\")\n",
    "```"
   ]
  },
  {
   "cell_type": "code",
   "execution_count": null,
   "metadata": {},
   "outputs": [],
   "source": [
    "%%time\n",
    "\n",
    "mth5_object = fdsn_object.make_mth5_from_fdsn_client(request_df, interact=False)\n",
    "\n",
    "print(f\"Created {mth5_object}\")"
   ]
  },
  {
   "cell_type": "code",
   "execution_count": null,
   "metadata": {},
   "outputs": [],
   "source": [
    "# open file already created\n",
    "mth5_object = MTH5()\n",
    "mth5_object.open_mth5(\"8P_CAS04_NVR08.h5\")"
   ]
  },
  {
   "cell_type": "markdown",
   "metadata": {},
   "source": [
    "## Have a look at the contents of the created file"
   ]
  },
  {
   "cell_type": "code",
   "execution_count": null,
   "metadata": {
    "tags": []
   },
   "outputs": [],
   "source": [
    "mth5_object"
   ]
  },
  {
   "cell_type": "markdown",
   "metadata": {
    "tags": []
   },
   "source": [
    "## Channel Summary\n",
    "\n",
    "A convenience table is supplied with an MTH5 file.  This table provides some information about each channel that is present in the file.  It also provides columns `hdf5_reference`, `run_hdf5_reference`, and `station_hdf5_reference`, these are internal references within an HDF5 file and can be used to directly access a group or dataset by using `mth5_object.from_reference` method.  \n",
    "\n",
    "**Note:** When a MTH5 file is close the table is resummarized so when you open the file next the `channel_summary` will be up to date. Same with the `tf_summary`."
   ]
  },
  {
   "cell_type": "code",
   "execution_count": null,
   "metadata": {},
   "outputs": [],
   "source": [
    "mth5_object.channel_summary.clear_table()\n",
    "mth5_object.channel_summary.summarize()\n",
    "\n",
    "ch_df = mth5_object.channel_summary.to_dataframe()\n",
    "ch_df"
   ]
  },
  {
   "cell_type": "markdown",
   "metadata": {},
   "source": [
    "## Have a look at a station\n",
    "\n",
    "Lets grab one station `CAS04` and have a look at its metadata and contents.\n",
    "Here we will grab it from the `mth5_object`."
   ]
  },
  {
   "cell_type": "code",
   "execution_count": null,
   "metadata": {},
   "outputs": [],
   "source": [
    "cas04 = mth5_object.get_station(\"CAS04\", survey=\"CONUS_South\")\n",
    "cas04.metadata"
   ]
  },
  {
   "cell_type": "markdown",
   "metadata": {},
   "source": [
    "### Changing Metadata\n",
    "If you want to change the metadata of any group, be sure to use the `write_metadata` method.  Here's an example:"
   ]
  },
  {
   "cell_type": "code",
   "execution_count": null,
   "metadata": {},
   "outputs": [],
   "source": [
    "cas04.metadata.location.declination.value = -13.5\n",
    "cas04.write_metadata()\n",
    "print(cas04.metadata.location.declination)"
   ]
  },
  {
   "cell_type": "markdown",
   "metadata": {
    "tags": []
   },
   "source": [
    "## Have a look at a single channel\n",
    "\n",
    "Let's pick out a channel and interogate it. There are a couple ways\n",
    "1. Get a channel the first will be from the `hdf5_reference` [*demonstrated here*]\n",
    "2. Get a channel from `mth5_object`\n",
    "3. Get a station first then get a channel\n"
   ]
  },
  {
   "cell_type": "code",
   "execution_count": null,
   "metadata": {},
   "outputs": [],
   "source": [
    "ex = mth5_object.from_reference(ch_df.iloc[0].hdf5_reference).to_channel_ts()\n",
    "print(ex)"
   ]
  },
  {
   "cell_type": "code",
   "execution_count": null,
   "metadata": {},
   "outputs": [],
   "source": [
    "ex.channel_metadata"
   ]
  },
  {
   "cell_type": "markdown",
   "metadata": {},
   "source": [
    "## Calibrate time series data\n",
    "Most data loggers output data in digital counts.  Then a series of filters that represent the various instrument responses are applied to get the data into physical units.  The data can then be analyzed and processed. Commonly this is done during the processing step, but it is important to be able to look at time series data in physical units.  Here we provide a `remove_instrument_response` method in the `ChananelTS` object.  Here's an example:  "
   ]
  },
  {
   "cell_type": "code",
   "execution_count": null,
   "metadata": {},
   "outputs": [],
   "source": [
    "print(ex.channel_response_filter)\n",
    "ex.channel_response_filter.plot_response(np.logspace(-4, 1, 50))"
   ]
  },
  {
   "cell_type": "code",
   "execution_count": null,
   "metadata": {},
   "outputs": [],
   "source": [
    "ex.remove_instrument_response(plot=True)"
   ]
  },
  {
   "cell_type": "markdown",
   "metadata": {},
   "source": [
    "## Have a look at a run\n",
    "\n",
    "Let's pick out a run, take a slice of it, and interogate it. There are a couple ways\n",
    "1. Get a run the first will be from the `run_hdf5_reference` [*demonstrated here*]\n",
    "2. Get a run from `mth5_object`\n",
    "3. Get a station first then get a run"
   ]
  },
  {
   "cell_type": "code",
   "execution_count": null,
   "metadata": {},
   "outputs": [],
   "source": [
    "run_from_reference = mth5_object.from_reference(ch_df.iloc[0].run_hdf5_reference).to_runts(start=ch_df.iloc[0].start.isoformat(), n_samples=360)\n",
    "print(run_from_reference)"
   ]
  },
  {
   "cell_type": "code",
   "execution_count": null,
   "metadata": {},
   "outputs": [],
   "source": [
    "run_from_reference.plot()"
   ]
  },
  {
   "cell_type": "markdown",
   "metadata": {},
   "source": [
    "### Calibrate Run"
   ]
  },
  {
   "cell_type": "code",
   "execution_count": null,
   "metadata": {},
   "outputs": [],
   "source": [
    "calibrated_run = run_from_reference.calibrate()\n",
    "calibrated_run.plot()"
   ]
  },
  {
   "cell_type": "markdown",
   "metadata": {},
   "source": [
    "## Load Transfer Functions\n",
    "\n",
    "You can download the transfer functions for **CAS04** and **NVR08** from [IRIS SPUD EMTF](http://ds.iris.edu/spud/emtf).  This has already been done as EMTF XML format and will be loaded here. "
   ]
  },
  {
   "cell_type": "code",
   "execution_count": null,
   "metadata": {},
   "outputs": [],
   "source": [
    "cas04_tf = r\"USMTArray.CAS04.2020.xml\"\n",
    "nvr08_tf = r\"USMTArray.NVR08.2020.xml\""
   ]
  },
  {
   "cell_type": "code",
   "execution_count": null,
   "metadata": {},
   "outputs": [],
   "source": [
    "from mt_metadata.transfer_functions.core import TF"
   ]
  },
  {
   "cell_type": "code",
   "execution_count": null,
   "metadata": {},
   "outputs": [],
   "source": [
    "for tf_fn in [cas04_tf, nvr08_tf]:\n",
    "    tf_obj = TF(tf_fn)\n",
    "    tf_obj.read()\n",
    "    mth5_object.add_transfer_function(tf_obj)"
   ]
  },
  {
   "cell_type": "markdown",
   "metadata": {},
   "source": [
    "### Have a look at the transfer function summary"
   ]
  },
  {
   "cell_type": "code",
   "execution_count": null,
   "metadata": {},
   "outputs": [],
   "source": [
    "mth5_object.tf_summary.summarize()\n",
    "tf_df = mth5_object.tf_summary.to_dataframe()\n",
    "tf_df"
   ]
  },
  {
   "cell_type": "markdown",
   "metadata": {},
   "source": [
    "### Plot the transfer functions using MTpy\n",
    "\n",
    "**Note:** This currently works on branch `mtpy/v2_plots`"
   ]
  },
  {
   "cell_type": "code",
   "execution_count": null,
   "metadata": {},
   "outputs": [],
   "source": [
    "from mtpy import MTCollection"
   ]
  },
  {
   "cell_type": "code",
   "execution_count": null,
   "metadata": {},
   "outputs": [],
   "source": [
    "mc = MTCollection()\n",
    "mc.open_collection(r\"8P_CAS04_NVR08\")"
   ]
  },
  {
   "cell_type": "code",
   "execution_count": null,
   "metadata": {},
   "outputs": [],
   "source": [
    "pmr = mc.plot_mt_response([\"CAS04\", \"NVR08\"], plot_style=\"1\")"
   ]
  },
  {
   "cell_type": "markdown",
   "metadata": {},
   "source": [
    "## Plot Station locations\n",
    "\n",
    "Here we can plot station locations for all stations in the file, or we can give it a bounding box.  If you have internet access a basemap will be plotted using [Contextily](https://contextily.readthedocs.io/en/latest/). "
   ]
  },
  {
   "cell_type": "code",
   "execution_count": null,
   "metadata": {},
   "outputs": [],
   "source": [
    "st = mc.plot_stations(pad=.9, fig_num=5, fig_size=[6, 4])"
   ]
  },
  {
   "cell_type": "code",
   "execution_count": null,
   "metadata": {},
   "outputs": [],
   "source": [
    "st.fig.get_axes()[0].set_xlim((-121.9, -117.75))\n",
    "st.fig.get_axes()[0].set_ylim((37.35, 38.5))\n",
    "st.update_plot()"
   ]
  },
  {
   "cell_type": "code",
   "execution_count": null,
   "metadata": {},
   "outputs": [],
   "source": [
    "mth5_object.close_mth5()"
   ]
  },
  {
   "cell_type": "code",
   "execution_count": null,
   "metadata": {},
   "outputs": [],
   "source": []
  }
 ],
 "metadata": {
  "kernelspec": {
   "display_name": "py37",
   "language": "python",
   "name": "py37"
  },
  "language_info": {
   "codemirror_mode": {
    "name": "ipython",
    "version": 3
   },
   "file_extension": ".py",
   "mimetype": "text/x-python",
   "name": "python",
   "nbconvert_exporter": "python",
   "pygments_lexer": "ipython3",
   "version": "3.7.10"
  }
 },
 "nbformat": 4,
 "nbformat_minor": 4
}
