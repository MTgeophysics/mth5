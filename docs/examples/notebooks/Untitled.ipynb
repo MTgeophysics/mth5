{
 "cells": [
  {
   "cell_type": "markdown",
   "id": "5d0eeafb-5047-44bb-bda1-0acb9e91329d",
   "metadata": {},
   "source": [
    "# Build MTH5 from USGS Geomagnetic data\n",
    "\n",
    "Its common to look at observatory data for geomagnetic storms or to use as a remote reference.  The USGS provides geomagnetic observatory data for observatories in North America.  In the future this will be expanded to the various other observatories using well developed packages like [geomagpy](https://pypi.org/project/geomagpy/). \n",
    "\n",
    "You will need to know ahead of time what observatories you would like to download data from, dates, and type of data.  There are no wildcards.  See [USGS Geomagnetic webservices](https://www.usgs.gov/tools/web-service-geomagnetism-data) for more information on allowed options.\n",
    "\n",
    "Here we will download 2 days of data from 2 different observatories for the x and y components of calibrated data ('adjusted')."
   ]
  },
  {
   "cell_type": "code",
   "execution_count": 1,
   "id": "900acc26-2155-4b3b-9468-2b0877c76b43",
   "metadata": {},
   "outputs": [
    {
     "name": "stderr",
     "output_type": "stream",
     "text": [
      "2023-03-23 15:13:26,224 [line 135] mth5.setup_logger - INFO: Logging file can be found C:\\Users\\jpeacock\\OneDrive - DOI\\Documents\\GitHub\\mth5\\logs\\mth5_debug.log\n"
     ]
    }
   ],
   "source": [
    "import pandas as pd\n",
    "from mth5.clients import MakeMTH5"
   ]
  },
  {
   "cell_type": "markdown",
   "id": "4e3d46ba-9671-4730-8a5f-e25d023e3795",
   "metadata": {},
   "source": [
    "\n",
    "\n",
    "## Create a request DataFrame\n",
    "\n",
    "The request input is in the form of a `pandas.DataFrame` with the following columns\n",
    "\n",
    "| Column | Description | Options |\n",
    "|--------|-------------|---------|\n",
    "| observatory | Observatory code | BDT, BOU, TST, BRW, BRT, BSL, CMO, CMT, DED, DHT, FRD, FRN, GUA, HON, NEW, SHU, SIT, SJG, TUC,  USGS, BLC, BRD, CBB, EUA, FCC, IQA, MEA, OTT, RES, SNK, STJ, VIC, YKC, HAD, HER, KAK|\n",
    "| type | The type of data to download | variation, adjusted, quasi-definitive, definitivevariation, adjusted (*default*), quasi-definitive, definitive |\n",
    "| elements | Components or elements of the geomagnetic data to download, should be a list| D, DIST, DST, E, E-E, E-N, F, G, H, SQ, SV, UK1, UK2, UK3, UK4, X, Y, ZD, DIST, DST, E, E-E, E-N, F, G, H, SQ, SV, UK1, UK2, UK3, UK4, X, Y, Z |\n",
    "| sampling_period | Sampling period of data to download in seconds | 1, 60, 3600 |\n",
    "| start | Start time (YYYY-MM-DDThh:mm:ss)  in UTC time| |\n",
    "| end | End time (YYYY-MM-DDThh:mm:ss) in UTC time||"
   ]
  },
  {
   "cell_type": "code",
   "execution_count": 2,
   "id": "f2f4829b-e7ae-4e60-9bf4-98fbe20499d4",
   "metadata": {},
   "outputs": [],
   "source": [
    "request_df = pd.DataFrame(\n",
    "            {\n",
    "                \"observatory\": [\"frn\", \"frn\", \"ott\", \"ott\"],\n",
    "                \"type\": [\"adjusted\"] * 4,\n",
    "                \"elements\": [[\"x\", \"y\"]] * 4,\n",
    "                \"sampling_period\": [1] * 4,\n",
    "                \"start\": [\n",
    "                    \"2022-01-01T00:00:00\",\n",
    "                    \"2022-01-03T00:00:00\",\n",
    "                    \"2022-01-01T00:00:00\",\n",
    "                    \"2022-01-03T00:00:00\",\n",
    "                ],\n",
    "                \"end\": [\n",
    "                    \"2022-01-02T00:00:00\",\n",
    "                    \"2022-01-04T00:00:00\",\n",
    "                    \"2022-01-02T00:00:00\",\n",
    "                    \"2022-01-04T00:00:00\",\n",
    "                ],\n",
    "            }\n",
    "        )"
   ]
  },
  {
   "cell_type": "code",
   "execution_count": 3,
   "id": "5aeb84bc-db48-47dd-9a82-50b137f942db",
   "metadata": {},
   "outputs": [
    {
     "data": {
      "text/html": [
       "<div>\n",
       "<style scoped>\n",
       "    .dataframe tbody tr th:only-of-type {\n",
       "        vertical-align: middle;\n",
       "    }\n",
       "\n",
       "    .dataframe tbody tr th {\n",
       "        vertical-align: top;\n",
       "    }\n",
       "\n",
       "    .dataframe thead th {\n",
       "        text-align: right;\n",
       "    }\n",
       "</style>\n",
       "<table border=\"1\" class=\"dataframe\">\n",
       "  <thead>\n",
       "    <tr style=\"text-align: right;\">\n",
       "      <th></th>\n",
       "      <th>observatory</th>\n",
       "      <th>type</th>\n",
       "      <th>elements</th>\n",
       "      <th>sampling_period</th>\n",
       "      <th>start</th>\n",
       "      <th>end</th>\n",
       "    </tr>\n",
       "  </thead>\n",
       "  <tbody>\n",
       "    <tr>\n",
       "      <th>0</th>\n",
       "      <td>frn</td>\n",
       "      <td>adjusted</td>\n",
       "      <td>[x, y]</td>\n",
       "      <td>1</td>\n",
       "      <td>2022-01-01T00:00:00</td>\n",
       "      <td>2022-01-02T00:00:00</td>\n",
       "    </tr>\n",
       "    <tr>\n",
       "      <th>1</th>\n",
       "      <td>frn</td>\n",
       "      <td>adjusted</td>\n",
       "      <td>[x, y]</td>\n",
       "      <td>1</td>\n",
       "      <td>2022-01-03T00:00:00</td>\n",
       "      <td>2022-01-04T00:00:00</td>\n",
       "    </tr>\n",
       "    <tr>\n",
       "      <th>2</th>\n",
       "      <td>ott</td>\n",
       "      <td>adjusted</td>\n",
       "      <td>[x, y]</td>\n",
       "      <td>1</td>\n",
       "      <td>2022-01-01T00:00:00</td>\n",
       "      <td>2022-01-02T00:00:00</td>\n",
       "    </tr>\n",
       "    <tr>\n",
       "      <th>3</th>\n",
       "      <td>ott</td>\n",
       "      <td>adjusted</td>\n",
       "      <td>[x, y]</td>\n",
       "      <td>1</td>\n",
       "      <td>2022-01-03T00:00:00</td>\n",
       "      <td>2022-01-04T00:00:00</td>\n",
       "    </tr>\n",
       "  </tbody>\n",
       "</table>\n",
       "</div>"
      ],
      "text/plain": [
       "  observatory      type elements  sampling_period                start  \\\n",
       "0         frn  adjusted   [x, y]                1  2022-01-01T00:00:00   \n",
       "1         frn  adjusted   [x, y]                1  2022-01-03T00:00:00   \n",
       "2         ott  adjusted   [x, y]                1  2022-01-01T00:00:00   \n",
       "3         ott  adjusted   [x, y]                1  2022-01-03T00:00:00   \n",
       "\n",
       "                   end  \n",
       "0  2022-01-02T00:00:00  \n",
       "1  2022-01-04T00:00:00  \n",
       "2  2022-01-02T00:00:00  \n",
       "3  2022-01-04T00:00:00  "
      ]
     },
     "execution_count": 3,
     "metadata": {},
     "output_type": "execute_result"
    }
   ],
   "source": [
    "request_df"
   ]
  },
  {
   "cell_type": "markdown",
   "id": "88cae780-8999-4632-88c1-c02d63eae7c8",
   "metadata": {},
   "source": [
    "## Adding Run ID\n",
    "\n",
    "When the request is input automatically run names will be assigned to different windows of time by `f\"sp{sampling_period}_{count:03}\"`. So the first run is `sp1_001`  "
   ]
  }
 ],
 "metadata": {
  "kernelspec": {
   "display_name": "Python 3 (ipykernel)",
   "language": "python",
   "name": "python3"
  },
  "language_info": {
   "codemirror_mode": {
    "name": "ipython",
    "version": 3
   },
   "file_extension": ".py",
   "mimetype": "text/x-python",
   "name": "python",
   "nbconvert_exporter": "python",
   "pygments_lexer": "ipython3",
   "version": "3.8.13"
  }
 },
 "nbformat": 4,
 "nbformat_minor": 5
}
