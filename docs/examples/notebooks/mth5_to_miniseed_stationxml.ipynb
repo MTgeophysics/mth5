{
 "cells": [
  {
   "cell_type": "markdown",
   "metadata": {},
   "source": [
    "# MTH5 to StationXML and miniseed"
   ]
  },
  {
   "cell_type": "code",
   "execution_count": 1,
   "metadata": {},
   "outputs": [],
   "source": [
    "from pathlib import Path\n",
    "from mth5.mth5 import MTH5"
   ]
  },
  {
   "cell_type": "code",
   "execution_count": 2,
   "metadata": {},
   "outputs": [],
   "source": [
    "h5_path = Path(r\"c:\\Users\\jpeacock\\OneDrive - DOI\\MTData\\CL2021\\archive\\cl008.h5\")"
   ]
  },
  {
   "cell_type": "code",
   "execution_count": 3,
   "metadata": {},
   "outputs": [
    {
     "name": "stdout",
     "output_type": "stream",
     "text": [
      "\u001b[1m2025-03-06T10:15:25.843550-0800 | INFO | mth5.mth5 | close_mth5 | Flushing and closing c:\\Users\\jpeacock\\OneDrive - DOI\\MTData\\CL2021\\archive\\cl008.h5\u001b[0m\n"
     ]
    },
    {
     "ename": "ValueError",
     "evalue": "The input run id is None. Input a string or integer.",
     "output_type": "error",
     "traceback": [
      "\u001b[1;31m---------------------------------------------------------------------------\u001b[0m",
      "\u001b[1;31mValueError\u001b[0m                                Traceback (most recent call last)",
      "Cell \u001b[1;32mIn[3], line 3\u001b[0m\n\u001b[0;32m      1\u001b[0m \u001b[38;5;28;01mwith\u001b[39;00m MTH5() \u001b[38;5;28;01mas\u001b[39;00m m:\n\u001b[0;32m      2\u001b[0m     m\u001b[38;5;241m.\u001b[39mopen_mth5(h5_path)\n\u001b[1;32m----> 3\u001b[0m     experiment \u001b[38;5;241m=\u001b[39m \u001b[43mm\u001b[49m\u001b[38;5;241;43m.\u001b[39;49m\u001b[43mto_experiment\u001b[49m\u001b[43m(\u001b[49m\u001b[43m)\u001b[49m\n\u001b[0;32m      4\u001b[0m     stream_list \u001b[38;5;241m=\u001b[39m []\n\u001b[0;32m      5\u001b[0m     \u001b[38;5;28;01mfor\u001b[39;00m row \u001b[38;5;129;01min\u001b[39;00m m\u001b[38;5;241m.\u001b[39mrun_summary\u001b[38;5;241m.\u001b[39mitertuples():\n",
      "File \u001b[1;32m~\\OneDrive - DOI\\Documents\\GitHub\\mth5\\mth5\\mth5.py:907\u001b[0m, in \u001b[0;36mMTH5.to_experiment\u001b[1;34m(self)\u001b[0m\n\u001b[0;32m    905\u001b[0m     experiment\u001b[38;5;241m.\u001b[39msurveys\u001b[38;5;241m.\u001b[39mappend(\u001b[38;5;28mself\u001b[39m\u001b[38;5;241m.\u001b[39msurvey_group\u001b[38;5;241m.\u001b[39mmetadata)\n\u001b[0;32m    906\u001b[0m \u001b[38;5;28;01melif\u001b[39;00m \u001b[38;5;28mself\u001b[39m\u001b[38;5;241m.\u001b[39mfile_version \u001b[38;5;129;01min\u001b[39;00m [\u001b[38;5;124m\"\u001b[39m\u001b[38;5;124m0.2.0\u001b[39m\u001b[38;5;124m\"\u001b[39m]:\n\u001b[1;32m--> 907\u001b[0m     experiment \u001b[38;5;241m=\u001b[39m \u001b[38;5;28;43mself\u001b[39;49m\u001b[38;5;241;43m.\u001b[39;49m\u001b[43mexperiment_group\u001b[49m\u001b[38;5;241;43m.\u001b[39;49m\u001b[43mmetadata\u001b[49m\n\u001b[0;32m    908\u001b[0m \u001b[38;5;28;01mreturn\u001b[39;00m experiment\n",
      "File \u001b[1;32m~\\OneDrive - DOI\\Documents\\GitHub\\mth5\\mth5\\groups\\experiment.py:91\u001b[0m, in \u001b[0;36mExperimentGroup.metadata\u001b[1;34m(self)\u001b[0m\n\u001b[0;32m     89\u001b[0m     \u001b[38;5;28;01mfor\u001b[39;00m key \u001b[38;5;129;01min\u001b[39;00m \u001b[38;5;28mself\u001b[39m\u001b[38;5;241m.\u001b[39msurveys_group\u001b[38;5;241m.\u001b[39mgroups_list:\n\u001b[0;32m     90\u001b[0m         key_group \u001b[38;5;241m=\u001b[39m \u001b[38;5;28mself\u001b[39m\u001b[38;5;241m.\u001b[39msurveys_group\u001b[38;5;241m.\u001b[39mget_survey(key)\n\u001b[1;32m---> 91\u001b[0m         \u001b[38;5;28mself\u001b[39m\u001b[38;5;241m.\u001b[39m_metadata\u001b[38;5;241m.\u001b[39msurveys\u001b[38;5;241m.\u001b[39mappend(\u001b[43mkey_group\u001b[49m\u001b[38;5;241;43m.\u001b[39;49m\u001b[43mmetadata\u001b[49m)\n\u001b[0;32m     93\u001b[0m \u001b[38;5;28;01mexcept\u001b[39;00m \u001b[38;5;167;01mKeyError\u001b[39;00m:\n\u001b[0;32m     94\u001b[0m     \u001b[38;5;28;01mpass\u001b[39;00m\n",
      "File \u001b[1;32m~\\OneDrive - DOI\\Documents\\GitHub\\mth5\\mth5\\groups\\survey.py:463\u001b[0m, in \u001b[0;36mSurveyGroup.metadata\u001b[1;34m(self)\u001b[0m\n\u001b[0;32m    460\u001b[0m \u001b[38;5;28;01mtry\u001b[39;00m:\n\u001b[0;32m    461\u001b[0m     key_group \u001b[38;5;241m=\u001b[39m \u001b[38;5;28mself\u001b[39m\u001b[38;5;241m.\u001b[39mstations_group\u001b[38;5;241m.\u001b[39mget_station(key)\n\u001b[0;32m    462\u001b[0m     \u001b[38;5;28;01mif\u001b[39;00m (\n\u001b[1;32m--> 463\u001b[0m         \u001b[43mkey_group\u001b[49m\u001b[38;5;241;43m.\u001b[39;49m\u001b[43mmetadata\u001b[49m\u001b[38;5;241m.\u001b[39mid\n\u001b[0;32m    464\u001b[0m         \u001b[38;5;129;01min\u001b[39;00m \u001b[38;5;28mself\u001b[39m\u001b[38;5;241m.\u001b[39m_metadata\u001b[38;5;241m.\u001b[39mstations\u001b[38;5;241m.\u001b[39mkeys()\n\u001b[0;32m    465\u001b[0m     ):\n\u001b[0;32m    466\u001b[0m         \u001b[38;5;28;01mcontinue\u001b[39;00m\n\u001b[0;32m    467\u001b[0m     \u001b[38;5;28mself\u001b[39m\u001b[38;5;241m.\u001b[39m_metadata\u001b[38;5;241m.\u001b[39madd_station(key_group\u001b[38;5;241m.\u001b[39mmetadata)\n",
      "File \u001b[1;32m~\\OneDrive - DOI\\Documents\\GitHub\\mth5\\mth5\\groups\\station.py:551\u001b[0m, in \u001b[0;36mStationGroup.metadata\u001b[1;34m(self)\u001b[0m\n\u001b[0;32m    549\u001b[0m \u001b[38;5;28;01mtry\u001b[39;00m:\n\u001b[0;32m    550\u001b[0m     key_group \u001b[38;5;241m=\u001b[39m \u001b[38;5;28mself\u001b[39m\u001b[38;5;241m.\u001b[39mget_run(key)\n\u001b[1;32m--> 551\u001b[0m     \u001b[38;5;28;43mself\u001b[39;49m\u001b[38;5;241;43m.\u001b[39;49m\u001b[43m_metadata\u001b[49m\u001b[38;5;241;43m.\u001b[39;49m\u001b[43madd_run\u001b[49m\u001b[43m(\u001b[49m\u001b[43mkey_group\u001b[49m\u001b[38;5;241;43m.\u001b[39;49m\u001b[43mmetadata\u001b[49m\u001b[43m)\u001b[49m\n\u001b[0;32m    552\u001b[0m \u001b[38;5;28;01mexcept\u001b[39;00m MTH5Error:\n\u001b[0;32m    553\u001b[0m     \u001b[38;5;28mself\u001b[39m\u001b[38;5;241m.\u001b[39mlogger\u001b[38;5;241m.\u001b[39mwarning(\u001b[38;5;124mf\u001b[39m\u001b[38;5;124m\"\u001b[39m\u001b[38;5;124mCould not find run \u001b[39m\u001b[38;5;132;01m{\u001b[39;00mkey\u001b[38;5;132;01m}\u001b[39;00m\u001b[38;5;124m\"\u001b[39m)\n",
      "File \u001b[1;32m~\\OneDrive - DOI\\Documents\\GitHub\\mt_metadata\\mt_metadata\\timeseries\\station.py:181\u001b[0m, in \u001b[0;36mStation.add_run\u001b[1;34m(self, run_obj, update)\u001b[0m\n\u001b[0;32m    176\u001b[0m     \u001b[38;5;28;01mraise\u001b[39;00m \u001b[38;5;167;01mTypeError\u001b[39;00m(\n\u001b[0;32m    177\u001b[0m         \u001b[38;5;124mf\u001b[39m\u001b[38;5;124m\"\u001b[39m\u001b[38;5;124mInput must be a mt_metadata.timeseries.Run object not \u001b[39m\u001b[38;5;132;01m{\u001b[39;00m\u001b[38;5;28mtype\u001b[39m(run_obj)\u001b[38;5;132;01m}\u001b[39;00m\u001b[38;5;124m\"\u001b[39m\n\u001b[0;32m    178\u001b[0m     )\n\u001b[0;32m    180\u001b[0m \u001b[38;5;28;01mif\u001b[39;00m run_obj\u001b[38;5;241m.\u001b[39mid \u001b[38;5;129;01mis\u001b[39;00m \u001b[38;5;28;01mNone\u001b[39;00m:\n\u001b[1;32m--> 181\u001b[0m     \u001b[38;5;28;01mraise\u001b[39;00m \u001b[38;5;167;01mValueError\u001b[39;00m(\n\u001b[0;32m    182\u001b[0m         \u001b[38;5;124m\"\u001b[39m\u001b[38;5;124mThe input run id is None. Input a string or integer.\u001b[39m\u001b[38;5;124m\"\u001b[39m\n\u001b[0;32m    183\u001b[0m     )\n\u001b[0;32m    184\u001b[0m \u001b[38;5;28;01mif\u001b[39;00m \u001b[38;5;28mself\u001b[39m\u001b[38;5;241m.\u001b[39mhas_run(run_obj\u001b[38;5;241m.\u001b[39mid):\n\u001b[0;32m    185\u001b[0m     \u001b[38;5;28mself\u001b[39m\u001b[38;5;241m.\u001b[39mruns[run_obj\u001b[38;5;241m.\u001b[39mid]\u001b[38;5;241m.\u001b[39mupdate(run_obj)\n",
      "\u001b[1;31mValueError\u001b[0m: The input run id is None. Input a string or integer."
     ]
    }
   ],
   "source": [
    "with MTH5() as m:\n",
    "    m.open_mth5(h5_path)\n",
    "    experiment = m.to_experiment()\n",
    "    stream_list = []\n",
    "    for row in m.run_summary.itertuples():\n",
    "        if row.has_data():\n",
    "            run_ts = m.get_run(row.run_hdf5_reference).to_run_ts()\n",
    "            stream_list.append(run_ts.to_obspy_stream)"
   ]
  },
  {
   "cell_type": "code",
   "execution_count": null,
   "metadata": {},
   "outputs": [],
   "source": []
  }
 ],
 "metadata": {
  "kernelspec": {
   "display_name": "py311",
   "language": "python",
   "name": "python3"
  },
  "language_info": {
   "codemirror_mode": {
    "name": "ipython",
    "version": 3
   },
   "file_extension": ".py",
   "mimetype": "text/x-python",
   "name": "python",
   "nbconvert_exporter": "python",
   "pygments_lexer": "ipython3",
   "version": "3.11.11"
  }
 },
 "nbformat": 4,
 "nbformat_minor": 2
}
