{
 "cells": [
  {
   "cell_type": "markdown",
   "id": "ea8facd4-0d5e-4e60-89a8-4a50827768cd",
   "metadata": {},
   "source": [
    "# Time Series Objects\n",
    "In this example we will explore the time series objects provided in MTH5.  This includes `mth5.timeseries.ChannelTS` and `mth5.timeseries.RunTS`.  Both of these are based on [xarray](http://xarray.pydata.org/) which allows us to easily index the data by time.  `xarray` also includes all the tools for querying, slicing, and indexing that one needs to work with the data."
   ]
  },
  {
   "cell_type": "markdown",
   "id": "2e99a6ce-b5a1-4cab-8330-30f75f4f0496",
   "metadata": {},
   "source": [
    "## ChannelTS\n",
    "A `ChannelTS` object is a container for a single channel.  The data are stored in an `xarray.DataArray` and indexed by time according to the metadata provided.  Here we will make a simple `electric` channel and look at how to interogate it."
   ]
  },
  {
   "cell_type": "code",
   "execution_count": 1,
   "id": "41360939-c4a8-4507-92b4-fc831d9ad555",
   "metadata": {},
   "outputs": [
    {
     "name": "stderr",
     "output_type": "stream",
     "text": [
      "2021-11-17 18:33:24,235 [line 135] mth5.setup_logger - INFO: Logging file can be found C:\\Users\\jpeacock\\Documents\\GitHub\\mth5\\logs\\mth5_debug.log\n"
     ]
    }
   ],
   "source": [
    "import numpy as np\n",
    "from mth5.timeseries import ChannelTS\n",
    "from mt_metadata.timeseries import Electric, Run, Station"
   ]
  },
  {
   "cell_type": "markdown",
   "id": "b6fdf3b3-8fdf-44b8-a03f-419370a0641b",
   "metadata": {},
   "source": [
    "Here create some metadata, the keys are the `time_period.start` and the `sample_rate`. "
   ]
  },
  {
   "cell_type": "code",
   "execution_count": 2,
   "id": "ef05db08-3880-4455-bde9-206858be990e",
   "metadata": {},
   "outputs": [],
   "source": [
    "ex_metadata = Electric()\n",
    "ex_metadata.time_period.start = \"2020-01-01T00:00:00\"\n",
    "ex_metadata.sample_rate = 1.0\n",
    "ex_metadata.component = \"ex\"\n",
    "ex_metadata.dipole_length = 100."
   ]
  },
  {
   "cell_type": "markdown",
   "id": "91f065db-8098-4d13-a1b5-290247af2cc9",
   "metadata": {},
   "source": [
    "Create `Station` and `Run` metadata"
   ]
  },
  {
   "cell_type": "code",
   "execution_count": 3,
   "id": "ea0fc78c-728e-4710-98f5-d794ef412af2",
   "metadata": {},
   "outputs": [],
   "source": [
    "station_metadata = Station(id=\"mt001\")\n",
    "run_metadata = Run(id=\"001\")"
   ]
  },
  {
   "cell_type": "markdown",
   "id": "265150c9-d33d-4615-adca-130a2990cc16",
   "metadata": {},
   "source": [
    "Create \"realistic\" data "
   ]
  },
  {
   "cell_type": "code",
   "execution_count": 4,
   "id": "7cc82a95-4ae0-46c5-a185-9a9731d9d0eb",
   "metadata": {},
   "outputs": [],
   "source": [
    "n_samples = 4096\n",
    "t = np.arange(n_samples)\n",
    "data = np.sum([np.cos(2*np.pi*w*t + phi) for w, phi in zip(np.logspace(-3, 3, 20), np.random.rand(20))], axis=0)"
   ]
  },
  {
   "cell_type": "code",
   "execution_count": 5,
   "id": "916bc841-f41b-44b2-a050-b8cbcb6cd22f",
   "metadata": {},
   "outputs": [],
   "source": [
    "ex = ChannelTS(channel_type=\"electric\",\n",
    "              data=data,\n",
    "              channel_metadata=ex_metadata,\n",
    "              run_metadata=run_metadata,\n",
    "              station_metadata=station_metadata)"
   ]
  },
  {
   "cell_type": "code",
   "execution_count": 6,
   "id": "c85554d1-8c4e-4878-b13f-c65995060688",
   "metadata": {},
   "outputs": [
    {
     "data": {
      "text/plain": [
       "Channel Summary:\n",
       "\tStation:      mt001\n",
       "\tRun:          001\n",
       "\tChannel Type: electric\n",
       "\tComponent:    ex\n",
       "\tSample Rate:  1.0\n",
       "\tStart:        2020-01-01T00:00:00+00:00\n",
       "\tEnd:          2020-01-01T01:08:15+00:00\n",
       "\tN Samples:    4096"
      ]
     },
     "execution_count": 6,
     "metadata": {},
     "output_type": "execute_result"
    }
   ],
   "source": [
    "ex"
   ]
  },
  {
   "cell_type": "markdown",
   "id": "13a00356-75dc-4221-ad17-7699c4fbf7e5",
   "metadata": {},
   "source": [
    "Get a slice of the data"
   ]
  },
  {
   "cell_type": "code",
   "execution_count": 7,
   "id": "dad07c45-b051-447b-be9c-560868cd9685",
   "metadata": {},
   "outputs": [],
   "source": [
    "ex_slice = ex.get_slice(\"2020-01-01T00:00:00\", n_samples=256)"
   ]
  },
  {
   "cell_type": "code",
   "execution_count": 8,
   "id": "74e9dc21-1425-486b-af36-e39b3720bde5",
   "metadata": {},
   "outputs": [
    {
     "data": {
      "text/plain": [
       "Channel Summary:\n",
       "\tStation:      mt001\n",
       "\tRun:          001\n",
       "\tChannel Type: electric\n",
       "\tComponent:    ex\n",
       "\tSample Rate:  1.0\n",
       "\tStart:        2020-01-01T00:00:00+00:00\n",
       "\tEnd:          2020-01-01T00:04:15+00:00\n",
       "\tN Samples:    256"
      ]
     },
     "execution_count": 8,
     "metadata": {},
     "output_type": "execute_result"
    }
   ],
   "source": [
    "ex_slice"
   ]
  },
  {
   "cell_type": "code",
   "execution_count": null,
   "id": "fd67df38-e967-4054-852b-72a5fd0c43d6",
   "metadata": {},
   "outputs": [],
   "source": []
  }
 ],
 "metadata": {
  "kernelspec": {
   "display_name": "Python 3 (ipykernel)",
   "language": "python",
   "name": "python3"
  },
  "language_info": {
   "codemirror_mode": {
    "name": "ipython",
    "version": 3
   },
   "file_extension": ".py",
   "mimetype": "text/x-python",
   "name": "python",
   "nbconvert_exporter": "python",
   "pygments_lexer": "ipython3",
   "version": "3.9.5"
  }
 },
 "nbformat": 4,
 "nbformat_minor": 5
}
