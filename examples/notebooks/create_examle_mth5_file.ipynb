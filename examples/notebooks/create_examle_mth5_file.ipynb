{
 "cells": [
  {
   "cell_type": "markdown",
   "metadata": {},
   "source": [
    "# Make an example MTH5 file\n",
    "\n",
    "This notebook will demonstrate how you can make an MTH5 file from scratch"
   ]
  },
  {
   "cell_type": "code",
   "execution_count": 1,
   "metadata": {},
   "outputs": [
    {
     "name": "stderr",
     "output_type": "stream",
     "text": [
      "2021-03-17 17:27:15,035 [line 107] mth5.setup_logger - INFO: Logging file can be found c:\\Users\\jpeacock\\Documents\\GitHub\\mth5\\logs\\mth5_debug.log\n",
      "2021-03-17 17:27:15,035 [line 107] error.setup_logger - INFO: Logging file can be found c:\\Users\\jpeacock\\Documents\\GitHub\\mth5\\logs\\mth5_error.log\n"
     ]
    }
   ],
   "source": [
    "# this is a hack for now, once we have a real package with an install this should be removed.\n",
    "import os\n",
    "from pathlib import Path\n",
    "import numpy as np\n",
    "\n",
    "from mth5 import mth5, timeseries\n",
    "from mt_metadata import timeseries as metadata"
   ]
  },
  {
   "cell_type": "markdown",
   "metadata": {},
   "source": [
    "## Initialize MTH5 file\n",
    "\n",
    "By default the file will open in 'append' mode.  That means that if there is already a file of the same name, that file will be opened with the rights to append to it.  If you want to overwrite that file you can set the key work `mode='w'`"
   ]
  },
  {
   "cell_type": "code",
   "execution_count": 2,
   "metadata": {},
   "outputs": [
    {
     "name": "stdout",
     "output_type": "stream",
     "text": [
      "C:\\Users\\jpeacock\\Documents\\GitHub\\mth5\\examples\\notebooks\\example.h5\n"
     ]
    },
    {
     "data": {
      "text/plain": [
       "/:\n",
       "====================\n",
       "    |- Group: Survey\n",
       "    ----------------\n",
       "        |- Group: Filters\n",
       "        -----------------\n",
       "        |- Group: Reports\n",
       "        -----------------\n",
       "        |- Group: Standards\n",
       "        -------------------\n",
       "            --> Dataset: summary\n",
       "            ......................\n",
       "        |- Group: Stations\n",
       "        ------------------\n",
       "            |- Group: mt001\n",
       "            ---------------"
      ]
     },
     "execution_count": 2,
     "metadata": {},
     "output_type": "execute_result"
    }
   ],
   "source": [
    "mth5_obj = mth5.MTH5()\n",
    "mth5_obj.open_mth5(Path(Path.cwd(), \"example.h5\"), mode=\"a\")\n",
    "print(mth5_obj.filename)\n",
    "mth5_obj"
   ]
  },
  {
   "cell_type": "markdown",
   "metadata": {},
   "source": [
    "# Method 1 for adding element"
   ]
  },
  {
   "cell_type": "markdown",
   "metadata": {},
   "source": [
    "## Add New Station"
   ]
  },
  {
   "cell_type": "code",
   "execution_count": 3,
   "metadata": {},
   "outputs": [
    {
     "name": "stderr",
     "output_type": "stream",
     "text": [
      "2021-03-17 17:27:23,590 [line 294] mth5.groups.base.MasterStation.add_station - INFO: Station mt001 already exists, returning existing group.\n"
     ]
    },
    {
     "data": {
      "text/plain": [
       "/Survey/Stations/mt001:\n",
       "===================="
      ]
     },
     "execution_count": 3,
     "metadata": {},
     "output_type": "execute_result"
    }
   ],
   "source": [
    "new_station = mth5_obj.add_station(\"mt001\")\n",
    "new_station"
   ]
  },
  {
   "cell_type": "code",
   "execution_count": 4,
   "metadata": {},
   "outputs": [
    {
     "data": {
      "text/plain": [
       "'mt001'"
      ]
     },
     "execution_count": 4,
     "metadata": {},
     "output_type": "execute_result"
    }
   ],
   "source": [
    "new_station.metadata.id"
   ]
  },
  {
   "cell_type": "markdown",
   "metadata": {},
   "source": [
    "### Update Station metadata"
   ]
  },
  {
   "cell_type": "code",
   "execution_count": 5,
   "metadata": {},
   "outputs": [
    {
     "data": {
      "text/plain": [
       "{\n",
       "    \"station\": {\n",
       "        \"acquired_by.author\": null,\n",
       "        \"channels_recorded\": [],\n",
       "        \"data_type\": null,\n",
       "        \"geographic_name\": null,\n",
       "        \"hdf5_reference\": \"<HDF5 object reference>\",\n",
       "        \"id\": \"mt001\",\n",
       "        \"location.declination.model\": null,\n",
       "        \"location.declination.value\": null,\n",
       "        \"location.elevation\": 500.0,\n",
       "        \"location.latitude\": 40.0,\n",
       "        \"location.longitude\": -120.0,\n",
       "        \"mth5_type\": \"Station\",\n",
       "        \"orientation.method\": null,\n",
       "        \"orientation.reference_frame\": \"geographic\",\n",
       "        \"provenance.creation_time\": \"2021-03-18T00:23:41.522440+00:00\",\n",
       "        \"provenance.software.author\": null,\n",
       "        \"provenance.software.name\": null,\n",
       "        \"provenance.software.version\": null,\n",
       "        \"provenance.submitter.author\": null,\n",
       "        \"provenance.submitter.email\": null,\n",
       "        \"provenance.submitter.organization\": null,\n",
       "        \"run_list\": [],\n",
       "        \"time_period.end\": \"2020-01-05T14:00:00+00:00\",\n",
       "        \"time_period.start\": \"2020-01-01T12:00:00+00:00\"\n",
       "    }\n",
       "}"
      ]
     },
     "execution_count": 5,
     "metadata": {},
     "output_type": "execute_result"
    }
   ],
   "source": [
    "new_station.metadata.time_period.start = \"2020-01-01T12:00:00\"\n",
    "new_station.metadata.time_period.end = \"2020-01-05T14:00:00\"\n",
    "new_station.metadata.location.latitude = 40.0\n",
    "new_station.metadata.location.longitude = -120\n",
    "new_station.metadata.location.elevation = 500\n",
    "new_station.metadata"
   ]
  },
  {
   "cell_type": "markdown",
   "metadata": {},
   "source": [
    "## IMPORTANT\n",
    "\n",
    "You need to call `write_metadata` which will update the group attributes from the metadata.  This is not automatic yet. You need to call `write_metadata` which will update the group attributes from the metadata.  This is not automatic yet for writing from scratch.  If you were to call `mth5_obj.add_station('mt001', station_metadata=station_metadata)` then `write_metadata` would be run automatically."
   ]
  },
  {
   "cell_type": "code",
   "execution_count": 6,
   "metadata": {},
   "outputs": [],
   "source": [
    "new_station.write_metadata()"
   ]
  },
  {
   "cell_type": "markdown",
   "metadata": {},
   "source": [
    "### Add New Run"
   ]
  },
  {
   "cell_type": "code",
   "execution_count": 7,
   "metadata": {},
   "outputs": [
    {
     "data": {
      "text/plain": [
       "{\n",
       "    \"run\": {\n",
       "        \"acquired_by.author\": null,\n",
       "        \"channels_recorded_auxiliary\": [],\n",
       "        \"channels_recorded_electric\": [],\n",
       "        \"channels_recorded_magnetic\": [],\n",
       "        \"data_logger.firmware.author\": null,\n",
       "        \"data_logger.firmware.name\": null,\n",
       "        \"data_logger.firmware.version\": null,\n",
       "        \"data_logger.id\": null,\n",
       "        \"data_logger.manufacturer\": null,\n",
       "        \"data_logger.timing_system.drift\": null,\n",
       "        \"data_logger.timing_system.type\": null,\n",
       "        \"data_logger.timing_system.uncertainty\": null,\n",
       "        \"data_logger.type\": null,\n",
       "        \"data_type\": null,\n",
       "        \"hdf5_reference\": \"<HDF5 object reference>\",\n",
       "        \"id\": \"mt001a\",\n",
       "        \"metadata_by.author\": null,\n",
       "        \"mth5_type\": \"Run\",\n",
       "        \"sample_rate\": 256.0,\n",
       "        \"time_period.end\": \"1980-01-01T00:00:00+00:00\",\n",
       "        \"time_period.start\": \"2020-01-01T12:00:00+00:00\"\n",
       "    }\n",
       "}"
      ]
     },
     "execution_count": 7,
     "metadata": {},
     "output_type": "execute_result"
    }
   ],
   "source": [
    "new_run = new_station.add_run(\"mt001a\")\n",
    "new_run.metadata.sample_rate = 256\n",
    "new_run.metadata.time_period.start = \"2020-01-01T12:00:00\"\n",
    "new_run.metadata"
   ]
  },
  {
   "cell_type": "markdown",
   "metadata": {},
   "source": [
    "## IMPORTANT\n",
    "\n",
    "You need to call `write_metadata` which will update the group attributes from the metadata.  This is not automatic yet for writing from scratch.  If you were to call `mth5_obj.add_run('mt001', 'mt001a', run_metadata=run_metadata)` then `write_metadata` would be run automatically."
   ]
  },
  {
   "cell_type": "code",
   "execution_count": 8,
   "metadata": {},
   "outputs": [],
   "source": [
    "new_run.write_metadata()"
   ]
  },
  {
   "cell_type": "markdown",
   "metadata": {},
   "source": [
    "### Add channels to the run"
   ]
  },
  {
   "cell_type": "code",
   "execution_count": 9,
   "metadata": {},
   "outputs": [],
   "source": [
    "for index, component in enumerate([\"ex\", \"ey\"], 1):\n",
    "    e_metadata = metadata.Electric(**{\"time_period.start\": \"2020-01-01T12:00:00\",\n",
    "                                      \"time_period.end\": \"2020-01-02T12:00:00\",\n",
    "                                      \"sample_rate\": 256,\n",
    "                                      \"component\": component,\n",
    "                                      \"channel_number\": index,\n",
    "                                      \"dipole_length\": 100,\n",
    "                                      \"measurement_azimuth\": 0})\n",
    "    new_e = new_run.add_channel(component, \n",
    "                                 channel_type=\"electric\",\n",
    "                                 data=np.random.rand(4096),\n",
    "                                 channel_metadata=e_metadata)\n",
    "\n",
    "for index, component in enumerate([\"hx\", \"hy\", \"hz\"], 3):\n",
    "    h_metadata = metadata.Magnetic(**{\"time_period.start\": \"2020-01-01T12:00:00\",\n",
    "                        \"time_period.end\": \"2020-01-02T12:00:00\",\n",
    "                        \"sample_rate\": 256,\n",
    "                        \"component\": component,\n",
    "                        \"channel_number\": index,\n",
    "                        \"measurement_azimuth\": 0})\n",
    "    new_h = new_run.add_channel(component, \n",
    "                                 channel_type=\"magnetic\", \n",
    "                                 data=np.random.rand(4096),\n",
    "                                 channel_metadata=h_metadata)"
   ]
  },
  {
   "cell_type": "code",
   "execution_count": 10,
   "metadata": {},
   "outputs": [
    {
     "data": {
      "text/plain": [
       "/Survey/Stations/mt001:\n",
       "====================\n",
       "    |- Group: mt001a\n",
       "    ----------------\n",
       "        --> Dataset: ex\n",
       "        .................\n",
       "        --> Dataset: ey\n",
       "        .................\n",
       "        --> Dataset: hx\n",
       "        .................\n",
       "        --> Dataset: hy\n",
       "        .................\n",
       "        --> Dataset: hz\n",
       "        ................."
      ]
     },
     "execution_count": 10,
     "metadata": {},
     "output_type": "execute_result"
    }
   ],
   "source": [
    "new_station"
   ]
  },
  {
   "cell_type": "markdown",
   "metadata": {},
   "source": [
    "#### Check the summary table to make sure everything is there"
   ]
  },
  {
   "cell_type": "code",
   "execution_count": 11,
   "metadata": {},
   "outputs": [
    {
     "data": {
      "text/html": [
       "<div>\n",
       "<style scoped>\n",
       "    .dataframe tbody tr th:only-of-type {\n",
       "        vertical-align: middle;\n",
       "    }\n",
       "\n",
       "    .dataframe tbody tr th {\n",
       "        vertical-align: top;\n",
       "    }\n",
       "\n",
       "    .dataframe thead th {\n",
       "        text-align: right;\n",
       "    }\n",
       "</style>\n",
       "<table border=\"1\" class=\"dataframe\">\n",
       "  <thead>\n",
       "    <tr style=\"text-align: right;\">\n",
       "      <th></th>\n",
       "      <th>station</th>\n",
       "      <th>run</th>\n",
       "      <th>latitude</th>\n",
       "      <th>longitude</th>\n",
       "      <th>elevation</th>\n",
       "      <th>component</th>\n",
       "      <th>start</th>\n",
       "      <th>end</th>\n",
       "      <th>n_samples</th>\n",
       "      <th>sample_rate</th>\n",
       "      <th>measurement_type</th>\n",
       "      <th>azimuth</th>\n",
       "      <th>tilt</th>\n",
       "      <th>units</th>\n",
       "      <th>hdf5_reference</th>\n",
       "    </tr>\n",
       "  </thead>\n",
       "  <tbody>\n",
       "    <tr>\n",
       "      <th>0</th>\n",
       "      <td>mt001</td>\n",
       "      <td>mt001a</td>\n",
       "      <td>40.0</td>\n",
       "      <td>-120.0</td>\n",
       "      <td>500.0</td>\n",
       "      <td>ex</td>\n",
       "      <td>2020-01-01 12:00:00</td>\n",
       "      <td>2020-01-02 12:00:00</td>\n",
       "      <td>4096</td>\n",
       "      <td>256.0</td>\n",
       "      <td>electric</td>\n",
       "      <td>0.0</td>\n",
       "      <td>0.0</td>\n",
       "      <td>None</td>\n",
       "      <td>&lt;HDF5 object reference&gt;</td>\n",
       "    </tr>\n",
       "    <tr>\n",
       "      <th>1</th>\n",
       "      <td>mt001</td>\n",
       "      <td>mt001a</td>\n",
       "      <td>40.0</td>\n",
       "      <td>-120.0</td>\n",
       "      <td>500.0</td>\n",
       "      <td>ey</td>\n",
       "      <td>2020-01-01 12:00:00</td>\n",
       "      <td>2020-01-02 12:00:00</td>\n",
       "      <td>4096</td>\n",
       "      <td>256.0</td>\n",
       "      <td>electric</td>\n",
       "      <td>0.0</td>\n",
       "      <td>0.0</td>\n",
       "      <td>None</td>\n",
       "      <td>&lt;HDF5 object reference&gt;</td>\n",
       "    </tr>\n",
       "    <tr>\n",
       "      <th>2</th>\n",
       "      <td>mt001</td>\n",
       "      <td>mt001a</td>\n",
       "      <td>40.0</td>\n",
       "      <td>-120.0</td>\n",
       "      <td>500.0</td>\n",
       "      <td>hx</td>\n",
       "      <td>2020-01-01 12:00:00</td>\n",
       "      <td>2020-01-02 12:00:00</td>\n",
       "      <td>4096</td>\n",
       "      <td>256.0</td>\n",
       "      <td>magnetic</td>\n",
       "      <td>0.0</td>\n",
       "      <td>0.0</td>\n",
       "      <td>None</td>\n",
       "      <td>&lt;HDF5 object reference&gt;</td>\n",
       "    </tr>\n",
       "    <tr>\n",
       "      <th>3</th>\n",
       "      <td>mt001</td>\n",
       "      <td>mt001a</td>\n",
       "      <td>40.0</td>\n",
       "      <td>-120.0</td>\n",
       "      <td>500.0</td>\n",
       "      <td>hy</td>\n",
       "      <td>2020-01-01 12:00:00</td>\n",
       "      <td>2020-01-02 12:00:00</td>\n",
       "      <td>4096</td>\n",
       "      <td>256.0</td>\n",
       "      <td>magnetic</td>\n",
       "      <td>0.0</td>\n",
       "      <td>0.0</td>\n",
       "      <td>None</td>\n",
       "      <td>&lt;HDF5 object reference&gt;</td>\n",
       "    </tr>\n",
       "    <tr>\n",
       "      <th>4</th>\n",
       "      <td>mt001</td>\n",
       "      <td>mt001a</td>\n",
       "      <td>40.0</td>\n",
       "      <td>-120.0</td>\n",
       "      <td>500.0</td>\n",
       "      <td>hz</td>\n",
       "      <td>2020-01-01 12:00:00</td>\n",
       "      <td>2020-01-02 12:00:00</td>\n",
       "      <td>4096</td>\n",
       "      <td>256.0</td>\n",
       "      <td>magnetic</td>\n",
       "      <td>0.0</td>\n",
       "      <td>0.0</td>\n",
       "      <td>None</td>\n",
       "      <td>&lt;HDF5 object reference&gt;</td>\n",
       "    </tr>\n",
       "  </tbody>\n",
       "</table>\n",
       "</div>"
      ],
      "text/plain": [
       "  station     run  latitude  longitude  elevation component  \\\n",
       "0   mt001  mt001a      40.0     -120.0      500.0        ex   \n",
       "1   mt001  mt001a      40.0     -120.0      500.0        ey   \n",
       "2   mt001  mt001a      40.0     -120.0      500.0        hx   \n",
       "3   mt001  mt001a      40.0     -120.0      500.0        hy   \n",
       "4   mt001  mt001a      40.0     -120.0      500.0        hz   \n",
       "\n",
       "                start                 end  n_samples  sample_rate  \\\n",
       "0 2020-01-01 12:00:00 2020-01-02 12:00:00       4096        256.0   \n",
       "1 2020-01-01 12:00:00 2020-01-02 12:00:00       4096        256.0   \n",
       "2 2020-01-01 12:00:00 2020-01-02 12:00:00       4096        256.0   \n",
       "3 2020-01-01 12:00:00 2020-01-02 12:00:00       4096        256.0   \n",
       "4 2020-01-01 12:00:00 2020-01-02 12:00:00       4096        256.0   \n",
       "\n",
       "  measurement_type  azimuth  tilt units           hdf5_reference  \n",
       "0         electric      0.0   0.0  None  <HDF5 object reference>  \n",
       "1         electric      0.0   0.0  None  <HDF5 object reference>  \n",
       "2         magnetic      0.0   0.0  None  <HDF5 object reference>  \n",
       "3         magnetic      0.0   0.0  None  <HDF5 object reference>  \n",
       "4         magnetic      0.0   0.0  None  <HDF5 object reference>  "
      ]
     },
     "metadata": {},
     "output_type": "display_data"
    }
   ],
   "source": [
    "display(mth5_obj.stations_group.channel_summary)"
   ]
  },
  {
   "cell_type": "markdown",
   "metadata": {},
   "source": [
    "# Method 2 for adding elements"
   ]
  },
  {
   "cell_type": "markdown",
   "metadata": {},
   "source": [
    "# Add New Station: Method 2\n",
    "\n",
    "Add using a helper method of `mth5_obj` which will automatically call `write_metadata` if metadata is given."
   ]
  },
  {
   "cell_type": "code",
   "execution_count": 12,
   "metadata": {},
   "outputs": [],
   "source": [
    "# create metadata for a new station \n",
    "new_station_metadata = metadata.Station()\n",
    "new_station_metadata.id = \"mt002\"\n",
    "new_station_metadata.location.latitude = 41.0\n",
    "new_station_metadata.location.longitude = -120\n",
    "new_station_metadata.location.elevation = 10\n",
    "\n",
    "# add the station\n",
    "new_station_02 = mth5_obj.add_station(new_station_metadata.id, station_metadata=new_station_metadata)"
   ]
  },
  {
   "cell_type": "code",
   "execution_count": 15,
   "metadata": {},
   "outputs": [
    {
     "data": {
      "text/plain": [
       "{\n",
       "    \"station\": {\n",
       "        \"acquired_by.author\": null,\n",
       "        \"channels_recorded\": [],\n",
       "        \"data_type\": null,\n",
       "        \"geographic_name\": null,\n",
       "        \"hdf5_reference\": \"<HDF5 object reference>\",\n",
       "        \"id\": \"mt002\",\n",
       "        \"location.declination.model\": null,\n",
       "        \"location.declination.value\": null,\n",
       "        \"location.elevation\": 10.0,\n",
       "        \"location.latitude\": 41.0,\n",
       "        \"location.longitude\": -120.0,\n",
       "        \"mth5_type\": \"Station\",\n",
       "        \"orientation.method\": null,\n",
       "        \"orientation.reference_frame\": \"geographic\",\n",
       "        \"provenance.creation_time\": \"2021-03-18T00:33:20.535604+00:00\",\n",
       "        \"provenance.software.author\": null,\n",
       "        \"provenance.software.name\": null,\n",
       "        \"provenance.software.version\": null,\n",
       "        \"provenance.submitter.author\": null,\n",
       "        \"provenance.submitter.email\": null,\n",
       "        \"provenance.submitter.organization\": null,\n",
       "        \"run_list\": [],\n",
       "        \"time_period.end\": \"1980-01-01T00:00:00+00:00\",\n",
       "        \"time_period.start\": \"1980-01-01T00:00:00+00:00\"\n",
       "    }\n",
       "}"
      ]
     },
     "execution_count": 15,
     "metadata": {},
     "output_type": "execute_result"
    }
   ],
   "source": [
    "new_station_02.metadata"
   ]
  },
  {
   "cell_type": "markdown",
   "metadata": {},
   "source": [
    "# Add New Run"
   ]
  },
  {
   "cell_type": "code",
   "execution_count": 18,
   "metadata": {},
   "outputs": [],
   "source": [
    "new_run_metadata = metadata.Run()\n",
    "new_run_metadata.id = \"mt002a\"\n",
    "new_run_02 = mth5_obj.add_run(\"mt002\", new_run_metadata.id, run_metadata=new_run_metadata)"
   ]
  },
  {
   "cell_type": "code",
   "execution_count": 19,
   "metadata": {},
   "outputs": [
    {
     "data": {
      "text/plain": [
       "{\n",
       "    \"run\": {\n",
       "        \"acquired_by.author\": null,\n",
       "        \"channels_recorded_auxiliary\": [],\n",
       "        \"channels_recorded_electric\": [],\n",
       "        \"channels_recorded_magnetic\": [],\n",
       "        \"data_logger.firmware.author\": null,\n",
       "        \"data_logger.firmware.name\": null,\n",
       "        \"data_logger.firmware.version\": null,\n",
       "        \"data_logger.id\": null,\n",
       "        \"data_logger.manufacturer\": null,\n",
       "        \"data_logger.timing_system.drift\": null,\n",
       "        \"data_logger.timing_system.type\": null,\n",
       "        \"data_logger.timing_system.uncertainty\": null,\n",
       "        \"data_logger.type\": null,\n",
       "        \"data_type\": null,\n",
       "        \"hdf5_reference\": \"<HDF5 object reference>\",\n",
       "        \"id\": \"mt002a\",\n",
       "        \"metadata_by.author\": null,\n",
       "        \"mth5_type\": \"Run\",\n",
       "        \"sample_rate\": null,\n",
       "        \"time_period.end\": \"1980-01-01T00:00:00+00:00\",\n",
       "        \"time_period.start\": \"1980-01-01T00:00:00+00:00\"\n",
       "    }\n",
       "}"
      ]
     },
     "execution_count": 19,
     "metadata": {},
     "output_type": "execute_result"
    }
   ],
   "source": [
    "new_run_02.metadata"
   ]
  },
  {
   "cell_type": "markdown",
   "metadata": {},
   "source": [
    "## Add a channel from the time series object\n",
    "\n",
    "This is the common way that time series will actually be added to the MTH5 file.  Data will be read in from a file to create an mth5.timeseries.RunTS object which can then put into a run or channel"
   ]
  },
  {
   "cell_type": "code",
   "execution_count": 3,
   "metadata": {},
   "outputs": [],
   "source": [
    "channel_ts_list = []\n",
    "station_metadata = metadata.Station(id=\"mt001\")\n",
    "run_metadata = metadata.Run()\n",
    "run_metadata.id = \"mt001b\"\n",
    "run_metadata.sample_rate = 256\n",
    "run_metadata.time_period.start = \"2020-01-01T12:00:00\"\n",
    "\n",
    "# make electric channels\n",
    "for index, component in enumerate([\"ex\", \"ey\"], 1):\n",
    "    e_metadata = metadata.Electric(**{\"time_period.start\": \"2020-01-01T12:00:00\",\n",
    "                                      \"sample_rate\": 256,\n",
    "                                      \"component\": component,\n",
    "                                      \"channel_number\": index,\n",
    "                                      \"dipole_length\": 100,\n",
    "                                      \"measurement_azimuth\": 0})\n",
    "    ch = timeseries.ChannelTS(channel_type=\"electric\",\n",
    "                             data=np.random.rand(4096),\n",
    "                             channel_metadata=e_metadata,\n",
    "                             station_metadata=station_metadata,\n",
    "                             run_metadata=run_metadata)\n",
    "    channel_ts_list.append(ch)\n",
    "    \n",
    "# make magnetic channels\n",
    "for index, component in enumerate([\"hx\", \"hy\", \"hz\"], 3):\n",
    "    h_metadata = metadata.Magnetic(**{\"time_period.start\": \"2020-01-01T12:00:00\",\n",
    "                                      \"sample_rate\": 256,\n",
    "                                      \"component\": component,\n",
    "                                      \"channel_number\": index,\n",
    "                                      \"measurement_azimuth\": 0})\n",
    "    ch = timeseries.ChannelTS(channel_type=\"magnetic\",\n",
    "                             data=np.random.rand(4096),\n",
    "                             channel_metadata=h_metadata,\n",
    "                             station_metadata=station_metadata,\n",
    "                             run_metadata=run_metadata)\n",
    "    channel_ts_list.append(ch)\n",
    "    \n"
   ]
  },
  {
   "cell_type": "code",
   "execution_count": 4,
   "metadata": {},
   "outputs": [
    {
     "name": "stdout",
     "output_type": "stream",
     "text": [
      "2020-12-04T14:46:45 [line 846] mth5.timeseries.RunTS.validate_metadata - WARNING: sample rate of dataset 256.0 does not match metadata sample rate None updating metatdata value to 256.0\n",
      "2020-12-04T14:46:45 [line 856] mth5.timeseries.RunTS.validate_metadata - WARNING: start time of dataset 2020-01-01T12:00:00+00:00 does not match metadata start 1980-01-01T00:00:00+00:00 updating metatdata value to 2020-01-01T12:00:00+00:00\n",
      "2020-12-04T14:46:45 [line 866] mth5.timeseries.RunTS.validate_metadata - WARNING: end time of dataset 2020-01-01T12:00:15.996093+00:00 does not match metadata end 1980-01-01T00:00:00+00:00 updating metatdata value to 2020-01-01T12:00:15.996093+00:00\n"
     ]
    }
   ],
   "source": [
    "# create a timeseries.RunTS object\n",
    "run_obj = timeseries.RunTS(array_list=channel_ts_list)"
   ]
  },
  {
   "cell_type": "code",
   "execution_count": 15,
   "metadata": {},
   "outputs": [
    {
     "data": {
      "text/plain": [
       "[Channel Electric:\n",
       " -------------------\n",
       " \tcomponent:        ex\n",
       " \tdata type:        electric\n",
       " \tdata format:      float64\n",
       " \tdata shape:       (4096,)\n",
       " \tstart:            2020-01-01T12:00:00+00:00\n",
       " \tend:              2020-01-01T12:00:15.996093+00:00\n",
       " \tsample rate:      256.0,\n",
       " Channel Electric:\n",
       " -------------------\n",
       " \tcomponent:        ey\n",
       " \tdata type:        electric\n",
       " \tdata format:      float64\n",
       " \tdata shape:       (4096,)\n",
       " \tstart:            2020-01-01T12:00:00+00:00\n",
       " \tend:              2020-01-01T12:00:15.996093+00:00\n",
       " \tsample rate:      256.0,\n",
       " Channel Magnetic:\n",
       " -------------------\n",
       " \tcomponent:        hx\n",
       " \tdata type:        magnetic\n",
       " \tdata format:      float64\n",
       " \tdata shape:       (4096,)\n",
       " \tstart:            2020-01-01T12:00:00+00:00\n",
       " \tend:              2020-01-01T12:00:15.996093+00:00\n",
       " \tsample rate:      256.0,\n",
       " Channel Magnetic:\n",
       " -------------------\n",
       " \tcomponent:        hy\n",
       " \tdata type:        magnetic\n",
       " \tdata format:      float64\n",
       " \tdata shape:       (4096,)\n",
       " \tstart:            2020-01-01T12:00:00+00:00\n",
       " \tend:              2020-01-01T12:00:15.996093+00:00\n",
       " \tsample rate:      256.0,\n",
       " Channel Magnetic:\n",
       " -------------------\n",
       " \tcomponent:        hz\n",
       " \tdata type:        magnetic\n",
       " \tdata format:      float64\n",
       " \tdata shape:       (4096,)\n",
       " \tstart:            2020-01-01T12:00:00+00:00\n",
       " \tend:              2020-01-01T12:00:15.996093+00:00\n",
       " \tsample rate:      256.0]"
      ]
     },
     "execution_count": 15,
     "metadata": {},
     "output_type": "execute_result"
    }
   ],
   "source": [
    "new_run_02 = new_station.add_run(\"mt001b\")\n",
    "new_run_02.from_runts(run_obj)"
   ]
  },
  {
   "cell_type": "code",
   "execution_count": null,
   "metadata": {},
   "outputs": [],
   "source": []
  }
 ],
 "metadata": {
  "kernelspec": {
   "display_name": "peacock",
   "language": "python",
   "name": "peacock"
  },
  "language_info": {
   "codemirror_mode": {
    "name": "ipython",
    "version": 3
   },
   "file_extension": ".py",
   "mimetype": "text/x-python",
   "name": "python",
   "nbconvert_exporter": "python",
   "pygments_lexer": "ipython3",
   "version": "3.8.5"
  }
 },
 "nbformat": 4,
 "nbformat_minor": 4
}
