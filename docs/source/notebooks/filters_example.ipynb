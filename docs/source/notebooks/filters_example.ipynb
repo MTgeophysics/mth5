{
 "cells": [
  {
   "cell_type": "markdown",
   "id": "4770c6c1-0d3b-45b3-9c41-57fad0025130",
   "metadata": {},
   "source": [
    "# Filters\n",
    "\n",
    "This section includes information about filters, which can be a very painful process and somewhat obtuse.  \n",
    "\n",
    "Filters are basically anything that manipulates the time series data into something else.  This includes scaling, removing instrument response, removing trends, notch filtering, passband filtering, etc.  We want to work with data that is in physical units, but the data are often collected in digital counts.  To transform between the two we need to apply or unapply certain filters.  When going from physical units to digital counts we are applying filters, `channel_metadata.filter.applied = [True]`, whereas going from counts to physical units we are unapplying the filters `channel_metadata.filter.applied = [False]`.  This may seem backwards, but this is the way most archived data is thought of. Then any filter applied to physical units for the purposes of cleaning the data are `channel_metadata.filter.applied = [True]`.     \n",
    "\n",
    "**Note**: currently there are not tools to convert digital counts to physical units, this is a work in progress.  Nevertheless all the information is there for you to do the transformation.  \n",
    "\n",
    "Supported filters in `mt_metadata.timeseries.filters` are: \n",
    "\n",
    "| Filter | Description |\n",
    "|--------|-------------|\n",
    "| CoefficientFilter | A coefficient filter scales the data by a given factor. |\n",
    "| FIRFilter | | \n",
    "| PoleZeroFilter| |\n",
    "| TimeDelayFilter | | \n",
    "| FrequencyResponseTableFilter | |\n",
    "| ChannelResponseFilter | |\n"
   ]
  },
  {
   "cell_type": "code",
   "execution_count": null,
   "id": "1a4d93af-086a-4376-87a6-572efdb23a4d",
   "metadata": {},
   "outputs": [],
   "source": []
  }
 ],
 "metadata": {
  "kernelspec": {
   "display_name": "Python 3 (ipykernel)",
   "language": "python",
   "name": "python3"
  },
  "language_info": {
   "codemirror_mode": {
    "name": "ipython",
    "version": 3
   },
   "file_extension": ".py",
   "mimetype": "text/x-python",
   "name": "python",
   "nbconvert_exporter": "python",
   "pygments_lexer": "ipython3",
   "version": "3.9.5"
  }
 },
 "nbformat": 4,
 "nbformat_minor": 5
}
