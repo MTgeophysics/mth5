{
 "cells": [
  {
   "cell_type": "markdown",
   "id": "cc4e859a-ffe3-4c30-92d3-3ff95ba10691",
   "metadata": {},
   "source": [
    "# RunTS\n",
    "\n",
    "`mth5.timeseries.RunTS` is a container to hold multiple synchronous channels of the same sampling rate.  The data is contained in an `xarray.DataSet` which is a collection of `ChannelTS.to_xarray()` objects.  "
   ]
  },
  {
   "cell_type": "code",
   "execution_count": null,
   "id": "67e73b25-31b7-4167-8be3-a76c79f84aec",
   "metadata": {},
   "outputs": [],
   "source": [
    "%matplotlib inline\n",
    "import numpy as np\n",
    "from mth5.timeseries import ChannelTS, RunTS\n",
    "from mt_metadata.timeseries import Electric, Magnetic, Auxiliary, Run, Station"
   ]
  },
  {
   "cell_type": "markdown",
   "id": "d60f3177-1db0-429a-8008-d4dc7d2b7e46",
   "metadata": {},
   "source": [
    "## Create a Run \n",
    "\n",
    "We will create a common run that has all 5 channels of an MT measurement (Hx, Hy, Hz, Ex, Ey) plus an auxiliary channel.  We will make individual channels first and then add them into a `RunTS` object. "
   ]
  },
  {
   "cell_type": "code",
   "execution_count": null,
   "id": "f1d30236-f781-4366-8fb0-074566106a9c",
   "metadata": {},
   "outputs": [],
   "source": [
    "channel_list = []\n",
    "common_start = \"2020-01-01T00:00:00\"\n",
    "sample_rate = 8.0\n",
    "n_samples = 4096\n",
    "t = np.arange(n_samples)\n",
    "data = np.sum([np.cos(2*np.pi*w*t + phi) for w, phi in zip(np.logspace(-3, 3, 20), np.random.rand(20))], axis=0)\n",
    "\n",
    "station_metadata = Station(id=\"mt001\")\n",
    "run_metadata = Run(id=\"001\")"
   ]
  },
  {
   "cell_type": "markdown",
   "id": "c35f6f47-ce44-4a55-ba22-c05753b3efbf",
   "metadata": {},
   "source": [
    "### Create `magnetic` channels"
   ]
  },
  {
   "cell_type": "code",
   "execution_count": null,
   "id": "8749b356-6fe1-468a-bb3e-16782750e9e4",
   "metadata": {},
   "outputs": [],
   "source": [
    "for component in [\"hx\", \"hy\", \"hz\"]:\n",
    "    h_metadata = Magnetic(component=component)\n",
    "    h_metadata.time_period.start = common_start\n",
    "    h_metadata.sample_rate = sample_rate\n",
    "    h_channel = ChannelTS(\n",
    "        channel_type=\"magnetic\",\n",
    "        data=data,\n",
    "        channel_metadata=h_metadata,\n",
    "        run_metadata=run_metadata,\n",
    "        station_metadata=station_metadata)\n",
    "    channel_list.append(h_channel)\n",
    "    "
   ]
  },
  {
   "cell_type": "markdown",
   "id": "ff870508-cada-4d9b-a953-c8bf4b6e5482",
   "metadata": {},
   "source": [
    "### Create `electric` channels"
   ]
  },
  {
   "cell_type": "code",
   "execution_count": null,
   "id": "750abeaf-6b5f-4096-8ef4-cd4c16f6b083",
   "metadata": {},
   "outputs": [],
   "source": [
    "for component in [\"ex\", \"ey\"]:\n",
    "    e_metadata = Electric(component=component)\n",
    "    e_metadata.time_period.start = common_start\n",
    "    e_metadata.sample_rate = sample_rate\n",
    "    e_channel = ChannelTS(\n",
    "        channel_type=\"electric\",\n",
    "        data=data,\n",
    "        channel_metadata=e_metadata,\n",
    "        run_metadata=run_metadata,\n",
    "        station_metadata=station_metadata)\n",
    "    channel_list.append(e_channel)"
   ]
  },
  {
   "cell_type": "markdown",
   "id": "f20644b0-687e-44e4-a9d2-8dcd0c3af9d1",
   "metadata": {},
   "source": [
    "### Create `auxiliary` channel"
   ]
  },
  {
   "cell_type": "code",
   "execution_count": null,
   "id": "6f46b743-e822-4bea-a463-a6f40ebbb680",
   "metadata": {},
   "outputs": [],
   "source": [
    "aux_metadata = Auxiliary(component=\"temperature\")\n",
    "aux_metadata.time_period.start = common_start\n",
    "aux_metadata.sample_rate = sample_rate\n",
    "aux_channel = ChannelTS(\n",
    "        channel_type=\"auxiliary\",\n",
    "        data=np.random.rand(n_samples) * 30,\n",
    "        channel_metadata=aux_metadata,\n",
    "        run_metadata=run_metadata,\n",
    "        station_metadata=station_metadata)\n",
    "aux_channel.channel_metadata.type = \"temperature\"\n",
    "channel_list.append(aux_channel)"
   ]
  },
  {
   "cell_type": "markdown",
   "id": "d976da38-c11d-4b28-8334-03ca507ae1bc",
   "metadata": {},
   "source": [
    "## Create `RunTS` object\n",
    "\n",
    "Now that we have made individual channels we can make a `RunTS` object by inputing a list of `ChannelTS` objects. \n",
    "\n",
    "**Note**: This can also be a list of `xarray.DataArray` objects formated like a channel."
   ]
  },
  {
   "cell_type": "code",
   "execution_count": null,
   "id": "ce89ff3e-d8ab-4434-823c-53eba1392630",
   "metadata": {},
   "outputs": [],
   "source": [
    "run = RunTS(channel_list)"
   ]
  },
  {
   "cell_type": "code",
   "execution_count": null,
   "id": "d9effecf-583e-488b-81d1-1a25fdd923bd",
   "metadata": {},
   "outputs": [],
   "source": [
    "run"
   ]
  },
  {
   "cell_type": "markdown",
   "id": "1a0876cb-3c1e-4df3-8cf4-e3b062a34c9d",
   "metadata": {},
   "source": [
    "## Plot Run\n",
    "Again this is a hack at the moment, we are working on a better visualization, but this works for now."
   ]
  },
  {
   "cell_type": "code",
   "execution_count": null,
   "id": "78657ba5-d55c-4784-b31c-a1bf1ee41d94",
   "metadata": {},
   "outputs": [],
   "source": [
    "run.plot()"
   ]
  },
  {
   "cell_type": "markdown",
   "id": "21010e0d-32a8-4e07-bd73-7230dbdb9824",
   "metadata": {},
   "source": [
    "## Merge Runs\n",
    "\n",
    "It can be benificial to add runs together to create a longer time series.  To combine runs each run must have the same sample rate.  There are 2 builtin options for combining runs \n",
    "  \n",
    "  1. `added_run = run_01 + run_02`\n",
    "  2. `merged_run = run_01.merge(run_02)` \n",
    "  \n",
    "Both methods use `xarray.combine_by_coords([run1, run2], combine_attrs='override'`.  The `combine_by_coords` method simply concatenates along similar dimensions and cares nothing of a monotonix dimension variable.  Therefore, `xarray.DataSet.reindex` is used to create a monotonically increasing time series.  Any gabs are filled interpolated using a 1-D interpolation.  The default method is `slinear` which is probably the most useful for processing time series.  If you want more control over the interpolation method use `RunTS.merge([run1, run2, ...], gap_method=interpolation_method`.  For more information on interpolation methods see [Scipy.interpolate.interp1d](https://docs.scipy.org/doc/scipy/reference/generated/scipy.interpolate.interp1d.html). Similarly if you want more control on how the datasets are merged use [xarray tools](https://docs.xarray.dev/en/stable/user-guide/combining.html).  "
   ]
  },
  {
   "cell_type": "markdown",
   "id": "190220e6-c672-4e35-bc95-5210c189c76e",
   "metadata": {},
   "source": [
    "### Using `+`\n",
    "\n",
    "Using `run_01 + run_02` will combine and interpolate onto a new monotonic time index.  Any gaps will be interpolated linearly interpolated.  If channels are different Nan's will be placed where channels do not overlap.  If you have `hz` in `run_01` but not `run_02` then Nan's will be place in `hz` for the time period of `run_02`.  "
   ]
  },
  {
   "cell_type": "code",
   "execution_count": null,
   "id": "cfc918e2-557a-47a7-8c64-d8a205b4f8c4",
   "metadata": {},
   "outputs": [],
   "source": [
    "for ch in channel_list:\n",
    "    ch.start = \"2020-01-01T00:08:45\"\n",
    "run_02 = RunTS(channel_list)"
   ]
  },
  {
   "cell_type": "code",
   "execution_count": null,
   "id": "6a2dc4d4-2f3b-4c11-86eb-9eab7182e98c",
   "metadata": {},
   "outputs": [],
   "source": [
    "added_run = run + run_02"
   ]
  },
  {
   "cell_type": "code",
   "execution_count": null,
   "id": "6c855138-36b8-4424-b19c-5e6bd34af4ad",
   "metadata": {},
   "outputs": [],
   "source": [
    "added_run"
   ]
  },
  {
   "cell_type": "markdown",
   "id": "bfbfff66-7044-4beb-890c-e8319c72c7bb",
   "metadata": {},
   "source": [
    "#### Plot combined run\n",
    "\n",
    "Plotting you can see the linear interpolation in the gap of time between the runs.  Here it makes a spike because the first point in the time series is a spike."
   ]
  },
  {
   "cell_type": "code",
   "execution_count": null,
   "id": "9a172e40-168a-45c0-88d7-6dc72e56dd70",
   "metadata": {},
   "outputs": [],
   "source": [
    "added_run.plot()"
   ]
  },
  {
   "cell_type": "markdown",
   "id": "c68a2981-5ea9-4f8c-8fbc-dfa1a113f9f9",
   "metadata": {},
   "source": [
    "### Using Merge and Decimating\n",
    "\n",
    "Using `merge` is a little more flexible and many runs can be merged together at the same time.  Note if you use `run_01 + run_02 + run_03` it only combines 2 at a time, which can be inefficient if multiple runs are combined.  `RunTS.merge` provides the option of combining multiple runs and also decimating to lower sample rate with the keyword `new_sample_rate`.\n",
    "\n",
    "#### Runs with different sample rates\n",
    "\n",
    "When using merge not all runs need to have the same sample rate, but you need to set `new_sample_rate` to the common sample rate for the combined runs.  This will resample the each run to the `new_sample_rate` before combining.  Resampling is done with (xarray.Dataset.resample)[https://docs.xarray.dev/en/stable/generated/xarray.Dataset.resample.html].   \n",
    "\n",
    "#### Change interpolation method\n",
    "\n",
    "To change how gaps are interpolated change the `gap_method` parameter.  See (scipy.interpolate.interp1d)[https://docs.scipy.org/doc/scipy/reference/generated/scipy.interpolate.interp1d.html]\n",
    "\n",
    "Options are \n",
    "\n",
    "  - ‘linear’\n",
    "  - ‘nearest’\n",
    "  - ‘nearest-up’\n",
    "  - ‘zero’\n",
    "  - ‘slinear’ (*default*)\n",
    "  - ‘quadratic’\n",
    "  - ‘cubic’\n",
    "  - ‘previous’\n",
    "  - ‘next’"
   ]
  },
  {
   "cell_type": "code",
   "execution_count": null,
   "id": "72a30d61-dbcc-40f2-88e1-2df3b165683c",
   "metadata": {},
   "outputs": [],
   "source": [
    "merged_run = run.merge(run_02, new_sample_rate=1, gap_method=\"slinear\")"
   ]
  },
  {
   "cell_type": "code",
   "execution_count": null,
   "id": "6f0adaaf-141e-4153-b5b2-98f16832bc6b",
   "metadata": {},
   "outputs": [],
   "source": [
    "merged_run"
   ]
  },
  {
   "cell_type": "markdown",
   "id": "9cba1859-04bf-4485-8652-2af8c88b6ab0",
   "metadata": {},
   "source": [
    "#### Plot\n",
    "\n",
    "Plot the merged runs downsampled to 1 second, and the linear interpolation is more obvious. "
   ]
  },
  {
   "cell_type": "code",
   "execution_count": null,
   "id": "c89f690c-86fe-4fc7-a0e5-71bb51329c17",
   "metadata": {},
   "outputs": [],
   "source": [
    "merged_run.plot()"
   ]
  },
  {
   "cell_type": "markdown",
   "id": "27bc2a18-031e-4401-aaa1-4db79abbff28",
   "metadata": {},
   "source": [
    "## To/From Obspy.Stream\n",
    "\n",
    "When data is downloaded from an FDSN client or data is collected as miniseed Obspy is used to contain the data as a `Stream` object.  Transformation between `RunTS` and `Stream` is supported.\n",
    "\n",
    "### To Obspy.Stream"
   ]
  },
  {
   "cell_type": "code",
   "execution_count": null,
   "id": "18be5cc1-9050-473a-a3d4-d1896f65ea88",
   "metadata": {},
   "outputs": [],
   "source": [
    "stream = run.to_obspy_stream()"
   ]
  },
  {
   "cell_type": "code",
   "execution_count": null,
   "id": "22b8e200-56db-411e-896b-63468ce14851",
   "metadata": {},
   "outputs": [],
   "source": [
    "stream"
   ]
  },
  {
   "cell_type": "markdown",
   "id": "29c5a989-9d20-4586-bf26-fb61a7a1a2c0",
   "metadata": {},
   "source": [
    "### From Obspy.Stream"
   ]
  },
  {
   "cell_type": "code",
   "execution_count": null,
   "id": "2d5ae18c-0ae3-4be2-ad9c-e5ae229425b5",
   "metadata": {},
   "outputs": [],
   "source": [
    "new_run = RunTS()\n",
    "new_run.from_obspy_stream(stream)"
   ]
  },
  {
   "cell_type": "code",
   "execution_count": null,
   "id": "f5682c11-9f17-4a07-8493-1e0a7236c004",
   "metadata": {},
   "outputs": [],
   "source": []
  }
 ],
 "metadata": {
  "kernelspec": {
   "display_name": "Python 3 (ipykernel)",
   "language": "python",
   "name": "python3"
  },
  "language_info": {
   "codemirror_mode": {
    "name": "ipython",
    "version": 3
   },
   "file_extension": ".py",
   "mimetype": "text/x-python",
   "name": "python",
   "nbconvert_exporter": "python",
   "pygments_lexer": "ipython3",
   "version": "3.8.13"
  }
 },
 "nbformat": 4,
 "nbformat_minor": 5
}
