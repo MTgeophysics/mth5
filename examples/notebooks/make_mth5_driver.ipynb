{
 "cells": [
  {
   "cell_type": "code",
   "execution_count": 1,
   "metadata": {},
   "outputs": [
    {
     "name": "stderr",
     "output_type": "stream",
     "text": [
      "2021-10-06 16:02:54,213 [line 135] mth5.setup_logger - INFO: Logging file can be found /Users/tronan/Desktop/Projects/mth5/logs/mth5_debug.log\n"
     ]
    }
   ],
   "source": [
    "# Make MTH5 drive. \n",
    "import pandas as pd\n",
    "from mth5.clients.make_mth5 import MakeMTH5\n",
    "from mth5 import mth5, timeseries"
   ]
  },
  {
   "cell_type": "code",
   "execution_count": 5,
   "metadata": {},
   "outputs": [],
   "source": [
    "# TODO: BUild input data frame\n",
    "\n",
    "ZUCAS04LQ1 = ['ZU', 'CAS04', '', 'LQE', '2020-06-02T19:00:00', '2020-07-13T19:00:00']\n",
    "ZUCAS04LQ2 = ['ZU', 'CAS04', '', 'LQN', '2020-06-02T19:00:00', '2020-07-13T19:00:00']\n",
    "ZUCAS04BF1 = ['ZU', 'CAS04', '', 'LFE', '2020-06-02T19:00:00', '2020-07-13T19:00:00']\n",
    "ZUCAS04BF2 = ['ZU', 'CAS04', '', 'LFN', '2020-06-02T19:00:00', '2020-07-13T19:00:00']\n",
    "ZUCAS04BF3 = ['ZU', 'CAS04', '', 'LFZ', '2020-06-02T19:00:00', '2020-07-13T19:00:00']\n",
    "ZUNRV08LQ1 = ['ZU', 'NVR08', '', 'LQE', '2020-06-02T19:00:00', '2020-07-13T19:00:00']\n",
    "ZUNRV08LQ2 = ['ZU', 'NVR08', '', 'LQN', '2020-06-02T19:00:00', '2020-07-13T19:00:00']\n",
    "ZUNRV08BF1 = ['ZU', 'NVR08', '', 'LFE', '2020-06-02T19:00:00', '2020-07-13T19:00:00']\n",
    "ZUNRV08BF2 = ['ZU', 'NVR08', '', 'LFN', '2020-06-02T19:00:00', '2020-07-13T19:00:00']\n",
    "ZUNRV08BF3 = ['ZU', 'NVR08', '', 'LFZ', '2020-06-02T19:00:00', '2020-07-13T19:00:00']\n",
    "#metadata_list = [ZUCAS04LQ1, ZUCAS04LQ2, ZUCAS04BF1, ZUCAS04BF2, ZUCAS04BF3]\n",
    "metadata_list = [ZUCAS04LQ1, ZUCAS04LQ2, ZUCAS04BF1, ZUCAS04BF2, ZUCAS04BF3, ZUNRV08LQ1, \n",
    "                 ZUNRV08LQ2, ZUNRV08BF1, ZUNRV08BF2, ZUNRV08BF3]\n",
    "\n",
    "# Turn list into dataframe\n",
    "metadata_df =  pd.DataFrame(metadata_list, columns=['net', 'sta', 'loc', 'chan', 'startdate', 'enddate'])"
   ]
  },
  {
   "cell_type": "code",
   "execution_count": 6,
   "metadata": {},
   "outputs": [
    {
     "data": {
      "text/html": [
       "<div>\n",
       "<style scoped>\n",
       "    .dataframe tbody tr th:only-of-type {\n",
       "        vertical-align: middle;\n",
       "    }\n",
       "\n",
       "    .dataframe tbody tr th {\n",
       "        vertical-align: top;\n",
       "    }\n",
       "\n",
       "    .dataframe thead th {\n",
       "        text-align: right;\n",
       "    }\n",
       "</style>\n",
       "<table border=\"1\" class=\"dataframe\">\n",
       "  <thead>\n",
       "    <tr style=\"text-align: right;\">\n",
       "      <th></th>\n",
       "      <th>net</th>\n",
       "      <th>sta</th>\n",
       "      <th>loc</th>\n",
       "      <th>chan</th>\n",
       "      <th>startdate</th>\n",
       "      <th>enddate</th>\n",
       "    </tr>\n",
       "  </thead>\n",
       "  <tbody>\n",
       "    <tr>\n",
       "      <th>0</th>\n",
       "      <td>ZU</td>\n",
       "      <td>CAS04</td>\n",
       "      <td></td>\n",
       "      <td>LQE</td>\n",
       "      <td>2020-06-02T19:00:00</td>\n",
       "      <td>2020-07-13T19:00:00</td>\n",
       "    </tr>\n",
       "    <tr>\n",
       "      <th>1</th>\n",
       "      <td>ZU</td>\n",
       "      <td>CAS04</td>\n",
       "      <td></td>\n",
       "      <td>LQN</td>\n",
       "      <td>2020-06-02T19:00:00</td>\n",
       "      <td>2020-07-13T19:00:00</td>\n",
       "    </tr>\n",
       "    <tr>\n",
       "      <th>2</th>\n",
       "      <td>ZU</td>\n",
       "      <td>CAS04</td>\n",
       "      <td></td>\n",
       "      <td>LFE</td>\n",
       "      <td>2020-06-02T19:00:00</td>\n",
       "      <td>2020-07-13T19:00:00</td>\n",
       "    </tr>\n",
       "    <tr>\n",
       "      <th>3</th>\n",
       "      <td>ZU</td>\n",
       "      <td>CAS04</td>\n",
       "      <td></td>\n",
       "      <td>LFN</td>\n",
       "      <td>2020-06-02T19:00:00</td>\n",
       "      <td>2020-07-13T19:00:00</td>\n",
       "    </tr>\n",
       "    <tr>\n",
       "      <th>4</th>\n",
       "      <td>ZU</td>\n",
       "      <td>CAS04</td>\n",
       "      <td></td>\n",
       "      <td>LFZ</td>\n",
       "      <td>2020-06-02T19:00:00</td>\n",
       "      <td>2020-07-13T19:00:00</td>\n",
       "    </tr>\n",
       "    <tr>\n",
       "      <th>5</th>\n",
       "      <td>ZU</td>\n",
       "      <td>NVR08</td>\n",
       "      <td></td>\n",
       "      <td>LQE</td>\n",
       "      <td>2020-06-02T19:00:00</td>\n",
       "      <td>2020-07-13T19:00:00</td>\n",
       "    </tr>\n",
       "    <tr>\n",
       "      <th>6</th>\n",
       "      <td>ZU</td>\n",
       "      <td>NVR08</td>\n",
       "      <td></td>\n",
       "      <td>LQN</td>\n",
       "      <td>2020-06-02T19:00:00</td>\n",
       "      <td>2020-07-13T19:00:00</td>\n",
       "    </tr>\n",
       "    <tr>\n",
       "      <th>7</th>\n",
       "      <td>ZU</td>\n",
       "      <td>NVR08</td>\n",
       "      <td></td>\n",
       "      <td>LFE</td>\n",
       "      <td>2020-06-02T19:00:00</td>\n",
       "      <td>2020-07-13T19:00:00</td>\n",
       "    </tr>\n",
       "    <tr>\n",
       "      <th>8</th>\n",
       "      <td>ZU</td>\n",
       "      <td>NVR08</td>\n",
       "      <td></td>\n",
       "      <td>LFN</td>\n",
       "      <td>2020-06-02T19:00:00</td>\n",
       "      <td>2020-07-13T19:00:00</td>\n",
       "    </tr>\n",
       "    <tr>\n",
       "      <th>9</th>\n",
       "      <td>ZU</td>\n",
       "      <td>NVR08</td>\n",
       "      <td></td>\n",
       "      <td>LFZ</td>\n",
       "      <td>2020-06-02T19:00:00</td>\n",
       "      <td>2020-07-13T19:00:00</td>\n",
       "    </tr>\n",
       "  </tbody>\n",
       "</table>\n",
       "</div>"
      ],
      "text/plain": [
       "  net    sta loc chan            startdate              enddate\n",
       "0  ZU  CAS04      LQE  2020-06-02T19:00:00  2020-07-13T19:00:00\n",
       "1  ZU  CAS04      LQN  2020-06-02T19:00:00  2020-07-13T19:00:00\n",
       "2  ZU  CAS04      LFE  2020-06-02T19:00:00  2020-07-13T19:00:00\n",
       "3  ZU  CAS04      LFN  2020-06-02T19:00:00  2020-07-13T19:00:00\n",
       "4  ZU  CAS04      LFZ  2020-06-02T19:00:00  2020-07-13T19:00:00\n",
       "5  ZU  NVR08      LQE  2020-06-02T19:00:00  2020-07-13T19:00:00\n",
       "6  ZU  NVR08      LQN  2020-06-02T19:00:00  2020-07-13T19:00:00\n",
       "7  ZU  NVR08      LFE  2020-06-02T19:00:00  2020-07-13T19:00:00\n",
       "8  ZU  NVR08      LFN  2020-06-02T19:00:00  2020-07-13T19:00:00\n",
       "9  ZU  NVR08      LFZ  2020-06-02T19:00:00  2020-07-13T19:00:00"
      ]
     },
     "execution_count": 6,
     "metadata": {},
     "output_type": "execute_result"
    }
   ],
   "source": [
    "metadata_df"
   ]
  },
  {
   "cell_type": "code",
   "execution_count": 7,
   "metadata": {},
   "outputs": [
    {
     "name": "stderr",
     "output_type": "stream",
     "text": [
      "2021-10-06 16:03:25,271 [line 525] mth5.mth5.MTH5._initialize_file - INFO: Initialized MTH5 file /Users/tronan/Desktop/Projects/mth5/examples/notebooks/ZU_CAS04NVR08.h5 in mode w\n"
     ]
    },
    {
     "name": "stdout",
     "output_type": "stream",
     "text": [
      "Inventory created at 2021-10-06T23:03:25.402900Z\n",
      "\tCreated by: ObsPy 1.2.2\n",
      "\t\t    https://www.obspy.org\n",
      "\tSending institution: MTH5\n",
      "\tContains:\n",
      "\t\tNetworks (1):\n",
      "\t\t\tZU\n",
      "\t\tStations (2):\n",
      "\t\t\tZU.CAS04 (Corral Hollow, CA, USA)\n",
      "\t\t\tZU.NVR08 (Rhodes Salt Marsh, NV, USA)\n",
      "\t\tChannels (10):\n",
      "\t\t\tZU.CAS04..LFZ, ZU.CAS04..LFN, ZU.CAS04..LFE, ZU.CAS04..LQN, \n",
      "\t\t\tZU.CAS04..LQE, ZU.NVR08..LFZ, ZU.NVR08..LFN, ZU.NVR08..LFE, \n",
      "\t\t\tZU.NVR08..LQN, ZU.NVR08..LQE\n",
      "Inventory created at 2021-10-06T23:03:25.402900Z\n",
      "\tCreated by: ObsPy 1.2.2\n",
      "\t\t    https://www.obspy.org\n",
      "\tSending institution: MTH5\n",
      "\tContains:\n",
      "\t\tNetworks (1):\n",
      "\t\t\tZU\n",
      "\t\tStations (2):\n",
      "\t\t\tZU.CAS04 (Corral Hollow, CA, USA)\n",
      "\t\t\tZU.NVR08 (Rhodes Salt Marsh, NV, USA)\n",
      "\t\tChannels (10):\n",
      "\t\t\tZU.CAS04..LFZ, ZU.CAS04..LFN, ZU.CAS04..LFE, ZU.CAS04..LQN, \n",
      "\t\t\tZU.CAS04..LQE, ZU.NVR08..LFZ, ZU.NVR08..LFN, ZU.NVR08..LFE, \n",
      "\t\t\tZU.NVR08..LQN, ZU.NVR08..LQE\n",
      "35 Trace(s) in Stream:\n",
      "\n",
      "ZU.NVR08..LFZ | 2020-06-03T19:10:11.000000Z - 2020-06-03T19:57:51.000000Z | 1.0 Hz, 2861 samples\n",
      "...\n",
      "(33 other traces)\n",
      "...\n",
      "ZU.CAS04..LQE | 2020-07-01T19:36:55.000000Z - 2020-07-13T19:00:00.000000Z | 1.0 Hz, 1034586 samples\n",
      "\n",
      "[Use \"print(Stream.__str__(extended=True))\" to print all Traces]\n",
      "TEST HERE TEST HERE\n",
      "['(-3.883009+11.951875j)', '(-3.883009-11.951875j)', '(-10.166194+7.386513j)', '(-10.166194-7.386513j)', '(-12.566371+0j)']\n",
      "TEST HERE TEST HERE\n",
      "['(-0.000167+0j)']\n",
      "TEST HERE TEST HERE\n",
      "[]\n",
      "TEST HERE TEST HERE\n",
      "[]\n",
      "TEST HERE TEST HERE\n",
      "['(-3.883009+11.951875j)', '(-3.883009-11.951875j)', '(-10.166194+7.386513j)', '(-10.166194-7.386513j)', '(-12.566371+0j)']\n",
      "TEST HERE TEST HERE\n",
      "['(-0.000167+0j)']\n",
      "TEST HERE TEST HERE\n",
      "[]\n",
      "TEST HERE TEST HERE\n",
      "[]\n",
      "TEST HERE TEST HERE\n",
      "['(-6.283185+10.882477j)', '(-6.283185-10.882477j)', '(-12.566371+0j)']\n",
      "TEST HERE TEST HERE\n",
      "['(-6.283185+10.882477j)', '(-6.283185-10.882477j)', '(-12.566371+0j)']\n",
      "TEST HERE TEST HERE\n",
      "['(-6.283185+10.882477j)', '(-6.283185-10.882477j)', '(-12.566371+0j)']\n",
      "TEST HERE TEST HERE\n",
      "['(-3.883009+11.951875j)', '(-3.883009-11.951875j)', '(-10.166194+7.386513j)', '(-10.166194-7.386513j)', '(-12.566371+0j)']\n",
      "TEST HERE TEST HERE\n",
      "['(-0.000167+0j)']\n",
      "TEST HERE TEST HERE\n",
      "[]\n",
      "TEST HERE TEST HERE\n",
      "[]\n",
      "TEST HERE TEST HERE\n",
      "['(-3.883009+11.951875j)', '(-3.883009-11.951875j)', '(-10.166194+7.386513j)', '(-10.166194-7.386513j)', '(-12.566371+0j)']\n",
      "TEST HERE TEST HERE\n",
      "['(-0.000167+0j)']\n",
      "TEST HERE TEST HERE\n",
      "[]\n",
      "TEST HERE TEST HERE\n",
      "[]\n",
      "TEST HERE TEST HERE\n",
      "['(-6.283185+10.882477j)', '(-6.283185-10.882477j)', '(-12.566371+0j)']\n",
      "TEST HERE TEST HERE\n",
      "['(-6.283185+10.882477j)', '(-6.283185-10.882477j)', '(-12.566371+0j)']\n",
      "TEST HERE TEST HERE\n",
      "['(-6.283185+10.882477j)', '(-6.283185-10.882477j)', '(-12.566371+0j)']\n",
      "['001']\n"
     ]
    },
    {
     "name": "stderr",
     "output_type": "stream",
     "text": [
      "2021-10-06 16:04:11,533 [line 552] mth5.timeseries.channel_ts.ChannelTS.sample_rate - WARNING: Resetting sample_rate assumes same start time and same number of samples, resulting in new end time. If you want to downsample existing time series use the method channelTS.resample()\n",
      "2021-10-06 16:04:11,555 [line 552] mth5.timeseries.channel_ts.ChannelTS.sample_rate - WARNING: Resetting sample_rate assumes same start time and same number of samples, resulting in new end time. If you want to downsample existing time series use the method channelTS.resample()\n",
      "2021-10-06 16:04:11,590 [line 552] mth5.timeseries.channel_ts.ChannelTS.sample_rate - WARNING: Resetting sample_rate assumes same start time and same number of samples, resulting in new end time. If you want to downsample existing time series use the method channelTS.resample()\n"
     ]
    },
    {
     "name": "stdout",
     "output_type": "stream",
     "text": [
      "Start here\n",
      "Channel Electric:\n",
      "-------------------\n",
      "\tcomponent:        ex\n",
      "\tdata type:        electric\n",
      "\tdata format:      int32\n",
      "\tdata shape:       (1,)\n",
      "\tstart:            2020-06-02T18:41:43+00:00\n",
      "\tend:              2020-07-13T21:46:12+00:00\n",
      "\tsample rate:      1.0\n",
      "CAS04\n",
      "LQ2\n",
      "LQN\n"
     ]
    },
    {
     "name": "stderr",
     "output_type": "stream",
     "text": [
      "2021-10-06 16:04:11,828 [line 552] mth5.timeseries.channel_ts.ChannelTS.sample_rate - WARNING: Resetting sample_rate assumes same start time and same number of samples, resulting in new end time. If you want to downsample existing time series use the method channelTS.resample()\n",
      "2021-10-06 16:04:11,845 [line 552] mth5.timeseries.channel_ts.ChannelTS.sample_rate - WARNING: Resetting sample_rate assumes same start time and same number of samples, resulting in new end time. If you want to downsample existing time series use the method channelTS.resample()\n",
      "2021-10-06 16:04:11,872 [line 552] mth5.timeseries.channel_ts.ChannelTS.sample_rate - WARNING: Resetting sample_rate assumes same start time and same number of samples, resulting in new end time. If you want to downsample existing time series use the method channelTS.resample()\n"
     ]
    },
    {
     "name": "stdout",
     "output_type": "stream",
     "text": [
      "Start here\n",
      "Channel Electric:\n",
      "-------------------\n",
      "\tcomponent:        ey\n",
      "\tdata type:        electric\n",
      "\tdata format:      int32\n",
      "\tdata shape:       (1,)\n",
      "\tstart:            2020-06-02T18:41:43+00:00\n",
      "\tend:              2020-07-13T21:46:12+00:00\n",
      "\tsample rate:      1.0\n",
      "CAS04\n",
      "LQ2\n",
      "LQN\n"
     ]
    },
    {
     "name": "stderr",
     "output_type": "stream",
     "text": [
      "2021-10-06 16:04:12,092 [line 552] mth5.timeseries.channel_ts.ChannelTS.sample_rate - WARNING: Resetting sample_rate assumes same start time and same number of samples, resulting in new end time. If you want to downsample existing time series use the method channelTS.resample()\n",
      "2021-10-06 16:04:12,108 [line 552] mth5.timeseries.channel_ts.ChannelTS.sample_rate - WARNING: Resetting sample_rate assumes same start time and same number of samples, resulting in new end time. If you want to downsample existing time series use the method channelTS.resample()\n",
      "2021-10-06 16:04:12,133 [line 552] mth5.timeseries.channel_ts.ChannelTS.sample_rate - WARNING: Resetting sample_rate assumes same start time and same number of samples, resulting in new end time. If you want to downsample existing time series use the method channelTS.resample()\n"
     ]
    },
    {
     "name": "stdout",
     "output_type": "stream",
     "text": [
      "Start here\n",
      "Channel Magnetic:\n",
      "-------------------\n",
      "\tcomponent:        hx\n",
      "\tdata type:        magnetic\n",
      "\tdata format:      int32\n",
      "\tdata shape:       (1,)\n",
      "\tstart:            2020-06-02T18:41:43+00:00\n",
      "\tend:              2020-07-13T21:46:12+00:00\n",
      "\tsample rate:      1.0\n",
      "CAS04\n",
      "LF2\n",
      "LFN\n"
     ]
    },
    {
     "name": "stderr",
     "output_type": "stream",
     "text": [
      "2021-10-06 16:04:12,382 [line 552] mth5.timeseries.channel_ts.ChannelTS.sample_rate - WARNING: Resetting sample_rate assumes same start time and same number of samples, resulting in new end time. If you want to downsample existing time series use the method channelTS.resample()\n",
      "2021-10-06 16:04:12,400 [line 552] mth5.timeseries.channel_ts.ChannelTS.sample_rate - WARNING: Resetting sample_rate assumes same start time and same number of samples, resulting in new end time. If you want to downsample existing time series use the method channelTS.resample()\n",
      "2021-10-06 16:04:12,430 [line 552] mth5.timeseries.channel_ts.ChannelTS.sample_rate - WARNING: Resetting sample_rate assumes same start time and same number of samples, resulting in new end time. If you want to downsample existing time series use the method channelTS.resample()\n"
     ]
    },
    {
     "name": "stdout",
     "output_type": "stream",
     "text": [
      "Start here\n",
      "Channel Magnetic:\n",
      "-------------------\n",
      "\tcomponent:        hy\n",
      "\tdata type:        magnetic\n",
      "\tdata format:      int32\n",
      "\tdata shape:       (1,)\n",
      "\tstart:            2020-06-02T18:41:43+00:00\n",
      "\tend:              2020-07-13T21:46:12+00:00\n",
      "\tsample rate:      1.0\n",
      "CAS04\n",
      "LF2\n",
      "LFN\n"
     ]
    },
    {
     "name": "stderr",
     "output_type": "stream",
     "text": [
      "2021-10-06 16:04:12,661 [line 552] mth5.timeseries.channel_ts.ChannelTS.sample_rate - WARNING: Resetting sample_rate assumes same start time and same number of samples, resulting in new end time. If you want to downsample existing time series use the method channelTS.resample()\n",
      "2021-10-06 16:04:12,675 [line 552] mth5.timeseries.channel_ts.ChannelTS.sample_rate - WARNING: Resetting sample_rate assumes same start time and same number of samples, resulting in new end time. If you want to downsample existing time series use the method channelTS.resample()\n",
      "2021-10-06 16:04:12,701 [line 552] mth5.timeseries.channel_ts.ChannelTS.sample_rate - WARNING: Resetting sample_rate assumes same start time and same number of samples, resulting in new end time. If you want to downsample existing time series use the method channelTS.resample()\n"
     ]
    },
    {
     "name": "stdout",
     "output_type": "stream",
     "text": [
      "Start here\n",
      "Channel Magnetic:\n",
      "-------------------\n",
      "\tcomponent:        hz\n",
      "\tdata type:        magnetic\n",
      "\tdata format:      int32\n",
      "\tdata shape:       (1,)\n",
      "\tstart:            2020-06-02T18:41:43+00:00\n",
      "\tend:              2020-07-13T21:46:12+00:00\n",
      "\tsample rate:      1.0\n",
      "CAS04\n",
      "LF3\n",
      "LFZ\n",
      "TEST HERE TEST HERE\n",
      "['(-0.000167+0j)']\n",
      "TEST HERE TEST HERE\n",
      "['(-3.883009+11.951875j)', '(-3.883009-11.951875j)', '(-10.166194+7.386513j)', '(-10.166194-7.386513j)', '(-12.566371+0j)']\n",
      "TEST HERE TEST HERE\n",
      "['(-6.283185+10.882477j)', '(-6.283185-10.882477j)', '(-12.566371+0j)']\n",
      "TEST HERE TEST HERE\n",
      "[]\n",
      "TEST HERE TEST HERE\n",
      "[]\n",
      "TEST HERE TEST HERE\n",
      "['(-0.000167+0j)']\n",
      "TEST HERE TEST HERE\n",
      "['(-3.883009+11.951875j)', '(-3.883009-11.951875j)', '(-10.166194+7.386513j)', '(-10.166194-7.386513j)', '(-12.566371+0j)']\n",
      "TEST HERE TEST HERE\n",
      "['(-6.283185+10.882477j)', '(-6.283185-10.882477j)', '(-12.566371+0j)']\n",
      "TEST HERE TEST HERE\n",
      "[]\n",
      "TEST HERE TEST HERE\n",
      "[]\n"
     ]
    },
    {
     "name": "stderr",
     "output_type": "stream",
     "text": [
      "2021-10-06 16:04:14,293 [line 294] mth5.groups.base.MasterStation.add_station - INFO: Station CAS04 already exists, returning existing group.\n",
      "2021-10-06 16:04:14,406 [line 707] mth5.groups.base.Station.add_run - INFO: run 001 already exists, returning existing group.\n"
     ]
    },
    {
     "name": "stdout",
     "output_type": "stream",
     "text": [
      "TEST HERE TEST HERE\n",
      "['(-0.000167+0j)']\n",
      "TEST HERE TEST HERE\n",
      "['(-3.883009+11.951875j)', '(-3.883009-11.951875j)', '(-10.166194+7.386513j)', '(-10.166194-7.386513j)', '(-12.566371+0j)']\n",
      "TEST HERE TEST HERE\n",
      "['(-6.283185+10.882477j)', '(-6.283185-10.882477j)', '(-12.566371+0j)']\n",
      "TEST HERE TEST HERE\n",
      "[]\n",
      "TEST HERE TEST HERE\n",
      "[]\n"
     ]
    },
    {
     "name": "stderr",
     "output_type": "stream",
     "text": [
      "2021-10-06 16:04:14,469 [line 1165] mth5.groups.base.Run.add_channel - INFO: channel ey already exists, returning existing group.\n",
      "2021-10-06 16:04:14,488 [line 1165] mth5.groups.base.Run.add_channel - INFO: channel ex already exists, returning existing group.\n",
      "2021-10-06 16:04:14,504 [line 1165] mth5.groups.base.Run.add_channel - INFO: channel hy already exists, returning existing group.\n",
      "2021-10-06 16:04:14,519 [line 1165] mth5.groups.base.Run.add_channel - INFO: channel hx already exists, returning existing group.\n",
      "2021-10-06 16:04:14,534 [line 1165] mth5.groups.base.Run.add_channel - INFO: channel hz already exists, returning existing group.\n",
      "2021-10-06 16:04:14,551 [line 294] mth5.groups.base.MasterStation.add_station - INFO: Station NVR08 already exists, returning existing group.\n",
      "2021-10-06 16:04:14,679 [line 707] mth5.groups.base.Station.add_run - INFO: run 001 already exists, returning existing group.\n",
      "2021-10-06 16:04:14,738 [line 1165] mth5.groups.base.Run.add_channel - INFO: channel ey already exists, returning existing group.\n",
      "2021-10-06 16:04:14,754 [line 1165] mth5.groups.base.Run.add_channel - INFO: channel ex already exists, returning existing group.\n",
      "2021-10-06 16:04:14,769 [line 1165] mth5.groups.base.Run.add_channel - INFO: channel hy already exists, returning existing group.\n",
      "2021-10-06 16:04:14,784 [line 1165] mth5.groups.base.Run.add_channel - INFO: channel hx already exists, returning existing group.\n",
      "2021-10-06 16:04:14,800 [line 1165] mth5.groups.base.Run.add_channel - INFO: channel hz already exists, returning existing group.\n"
     ]
    },
    {
     "name": "stdout",
     "output_type": "stream",
     "text": [
      "['001']\n"
     ]
    },
    {
     "name": "stderr",
     "output_type": "stream",
     "text": [
      "2021-10-06 16:04:15,337 [line 552] mth5.timeseries.channel_ts.ChannelTS.sample_rate - WARNING: Resetting sample_rate assumes same start time and same number of samples, resulting in new end time. If you want to downsample existing time series use the method channelTS.resample()\n",
      "2021-10-06 16:04:15,353 [line 552] mth5.timeseries.channel_ts.ChannelTS.sample_rate - WARNING: Resetting sample_rate assumes same start time and same number of samples, resulting in new end time. If you want to downsample existing time series use the method channelTS.resample()\n"
     ]
    },
    {
     "name": "stdout",
     "output_type": "stream",
     "text": [
      "Start here\n",
      "Channel Electric:\n",
      "-------------------\n",
      "\tcomponent:        ex\n",
      "\tdata type:        electric\n",
      "\tdata format:      int32\n",
      "\tdata shape:       (1,)\n",
      "\tstart:            2020-06-03T19:10:11+00:00\n",
      "\tend:              2020-06-24T15:55:46+00:00\n",
      "\tsample rate:      1.0\n",
      "NVR08\n",
      "LQ2\n",
      "LQN\n"
     ]
    },
    {
     "name": "stderr",
     "output_type": "stream",
     "text": [
      "2021-10-06 16:04:15,572 [line 552] mth5.timeseries.channel_ts.ChannelTS.sample_rate - WARNING: Resetting sample_rate assumes same start time and same number of samples, resulting in new end time. If you want to downsample existing time series use the method channelTS.resample()\n",
      "2021-10-06 16:04:15,588 [line 552] mth5.timeseries.channel_ts.ChannelTS.sample_rate - WARNING: Resetting sample_rate assumes same start time and same number of samples, resulting in new end time. If you want to downsample existing time series use the method channelTS.resample()\n"
     ]
    },
    {
     "name": "stdout",
     "output_type": "stream",
     "text": [
      "Start here\n",
      "Channel Electric:\n",
      "-------------------\n",
      "\tcomponent:        ey\n",
      "\tdata type:        electric\n",
      "\tdata format:      int32\n",
      "\tdata shape:       (1,)\n",
      "\tstart:            2020-06-03T19:10:11+00:00\n",
      "\tend:              2020-06-24T15:55:46+00:00\n",
      "\tsample rate:      1.0\n",
      "NVR08\n",
      "LQ2\n",
      "LQN\n"
     ]
    },
    {
     "name": "stderr",
     "output_type": "stream",
     "text": [
      "2021-10-06 16:04:15,806 [line 552] mth5.timeseries.channel_ts.ChannelTS.sample_rate - WARNING: Resetting sample_rate assumes same start time and same number of samples, resulting in new end time. If you want to downsample existing time series use the method channelTS.resample()\n",
      "2021-10-06 16:04:15,822 [line 552] mth5.timeseries.channel_ts.ChannelTS.sample_rate - WARNING: Resetting sample_rate assumes same start time and same number of samples, resulting in new end time. If you want to downsample existing time series use the method channelTS.resample()\n"
     ]
    },
    {
     "name": "stdout",
     "output_type": "stream",
     "text": [
      "Start here\n",
      "Channel Magnetic:\n",
      "-------------------\n",
      "\tcomponent:        hx\n",
      "\tdata type:        magnetic\n",
      "\tdata format:      int32\n",
      "\tdata shape:       (1,)\n",
      "\tstart:            2020-06-03T19:10:11+00:00\n",
      "\tend:              2020-06-24T15:55:46+00:00\n",
      "\tsample rate:      1.0\n",
      "NVR08\n",
      "LF2\n",
      "LFN\n"
     ]
    },
    {
     "name": "stderr",
     "output_type": "stream",
     "text": [
      "2021-10-06 16:04:16,041 [line 552] mth5.timeseries.channel_ts.ChannelTS.sample_rate - WARNING: Resetting sample_rate assumes same start time and same number of samples, resulting in new end time. If you want to downsample existing time series use the method channelTS.resample()\n",
      "2021-10-06 16:04:16,055 [line 552] mth5.timeseries.channel_ts.ChannelTS.sample_rate - WARNING: Resetting sample_rate assumes same start time and same number of samples, resulting in new end time. If you want to downsample existing time series use the method channelTS.resample()\n"
     ]
    },
    {
     "name": "stdout",
     "output_type": "stream",
     "text": [
      "Start here\n",
      "Channel Magnetic:\n",
      "-------------------\n",
      "\tcomponent:        hy\n",
      "\tdata type:        magnetic\n",
      "\tdata format:      int32\n",
      "\tdata shape:       (1,)\n",
      "\tstart:            2020-06-03T19:10:11+00:00\n",
      "\tend:              2020-06-24T15:55:46+00:00\n",
      "\tsample rate:      1.0\n",
      "NVR08\n",
      "LF2\n",
      "LFN\n"
     ]
    },
    {
     "name": "stderr",
     "output_type": "stream",
     "text": [
      "2021-10-06 16:04:16,272 [line 552] mth5.timeseries.channel_ts.ChannelTS.sample_rate - WARNING: Resetting sample_rate assumes same start time and same number of samples, resulting in new end time. If you want to downsample existing time series use the method channelTS.resample()\n",
      "2021-10-06 16:04:16,287 [line 552] mth5.timeseries.channel_ts.ChannelTS.sample_rate - WARNING: Resetting sample_rate assumes same start time and same number of samples, resulting in new end time. If you want to downsample existing time series use the method channelTS.resample()\n"
     ]
    },
    {
     "name": "stdout",
     "output_type": "stream",
     "text": [
      "Start here\n",
      "Channel Magnetic:\n",
      "-------------------\n",
      "\tcomponent:        hz\n",
      "\tdata type:        magnetic\n",
      "\tdata format:      int32\n",
      "\tdata shape:       (1,)\n",
      "\tstart:            2020-06-03T19:10:11+00:00\n",
      "\tend:              2020-06-24T15:55:46+00:00\n",
      "\tsample rate:      1.0\n",
      "NVR08\n",
      "LF3\n",
      "LFZ\n"
     ]
    }
   ],
   "source": [
    "mth5_file = MakeMTH5.make_mth5_from_fdsnclient(MakeMTH5(), metadata_df)"
   ]
  },
  {
   "cell_type": "code",
   "execution_count": 8,
   "metadata": {},
   "outputs": [
    {
     "name": "stdout",
     "output_type": "stream",
     "text": [
      "TEST HERE TEST HERE\n",
      "['(-0.000167+0j)']\n",
      "TEST HERE TEST HERE\n",
      "['(-3.883009+11.951875j)', '(-3.883009-11.951875j)', '(-10.166194+7.386513j)', '(-10.166194-7.386513j)', '(-12.566371+0j)']\n",
      "TEST HERE TEST HERE\n",
      "['(-6.283185+10.882477j)', '(-6.283185-10.882477j)', '(-12.566371+0j)']\n",
      "TEST HERE TEST HERE\n",
      "[]\n",
      "TEST HERE TEST HERE\n",
      "[]\n",
      "/Users/tronan/Desktop/Projects/mth5/examples/notebooks/ZU_CAS04NVR08.h5\n"
     ]
    },
    {
     "data": {
      "text/plain": [
       "/:\n",
       "====================\n",
       "    |- Group: Survey\n",
       "    ----------------\n",
       "        |- Group: Filters\n",
       "        -----------------\n",
       "            |- Group: coefficient\n",
       "            ---------------------\n",
       "                |- Group: v to counts (electric)\n",
       "                --------------------------------\n",
       "                |- Group: v to counts (magnetic)\n",
       "                --------------------------------\n",
       "            |- Group: fap\n",
       "            -------------\n",
       "            |- Group: fir\n",
       "            -------------\n",
       "            |- Group: time_delay\n",
       "            --------------------\n",
       "                |- Group: electric time offset\n",
       "                ------------------------------\n",
       "                |- Group: hx time offset\n",
       "                ------------------------\n",
       "                |- Group: hy time offset\n",
       "                ------------------------\n",
       "                |- Group: hz time offset\n",
       "                ------------------------\n",
       "            |- Group: zpk\n",
       "            -------------\n",
       "                |- Group: electric field 1 pole butterworth high-pass\n",
       "                -----------------------------------------------------\n",
       "                    --> Dataset: poles\n",
       "                    ....................\n",
       "                    --> Dataset: zeros\n",
       "                    ....................\n",
       "                |- Group: electric field 5 pole butterworth low-pass\n",
       "                ----------------------------------------------------\n",
       "                    --> Dataset: poles\n",
       "                    ....................\n",
       "                    --> Dataset: zeros\n",
       "                    ....................\n",
       "                |- Group: magnetic field 3 pole butterworth low-pass\n",
       "                ----------------------------------------------------\n",
       "                    --> Dataset: poles\n",
       "                    ....................\n",
       "                    --> Dataset: zeros\n",
       "                    ....................\n",
       "                |- Group: mv per km to v per m\n",
       "                ------------------------------\n",
       "                    --> Dataset: poles\n",
       "                    ....................\n",
       "                    --> Dataset: zeros\n",
       "                    ....................\n",
       "                |- Group: v per m to v\n",
       "                ----------------------\n",
       "                    --> Dataset: poles\n",
       "                    ....................\n",
       "                    --> Dataset: zeros\n",
       "                    ....................\n",
       "        |- Group: Reports\n",
       "        -----------------\n",
       "        |- Group: Standards\n",
       "        -------------------\n",
       "            --> Dataset: summary\n",
       "            ......................\n",
       "        |- Group: Stations\n",
       "        ------------------\n",
       "            |- Group: CAS04\n",
       "            ---------------\n",
       "                |- Group: 001\n",
       "                -------------\n",
       "                    --> Dataset: ex\n",
       "                    .................\n",
       "                    --> Dataset: ey\n",
       "                    .................\n",
       "                    --> Dataset: hx\n",
       "                    .................\n",
       "                    --> Dataset: hy\n",
       "                    .................\n",
       "                    --> Dataset: hz\n",
       "                    .................\n",
       "            |- Group: NVR08\n",
       "            ---------------\n",
       "                |- Group: 001\n",
       "                -------------\n",
       "                    --> Dataset: ex\n",
       "                    .................\n",
       "                    --> Dataset: ey\n",
       "                    .................\n",
       "                    --> Dataset: hx\n",
       "                    .................\n",
       "                    --> Dataset: hy\n",
       "                    .................\n",
       "                    --> Dataset: hz\n",
       "                    ................."
      ]
     },
     "execution_count": 8,
     "metadata": {},
     "output_type": "execute_result"
    }
   ],
   "source": [
    "# Check the MTH5\n",
    "mth5_obj = mth5.MTH5()\n",
    "mth5_obj.open_mth5(mth5_file, mode=\"a\")\n",
    "print(mth5_obj.filename)\n",
    "mth5_obj"
   ]
  }
 ],
 "metadata": {
  "kernelspec": {
   "display_name": "Python 3",
   "language": "python",
   "name": "python3"
  },
  "language_info": {
   "codemirror_mode": {
    "name": "ipython",
    "version": 3
   },
   "file_extension": ".py",
   "mimetype": "text/x-python",
   "name": "python",
   "nbconvert_exporter": "python",
   "pygments_lexer": "ipython3",
   "version": "3.7.3"
  }
 },
 "nbformat": 4,
 "nbformat_minor": 2
}
