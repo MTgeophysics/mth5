{
 "cells": [
  {
   "cell_type": "code",
   "execution_count": null,
   "metadata": {},
   "outputs": [],
   "source": [
    "from pathlib import Path\n",
    "import pandas as pd\n",
    "\n",
    "from mth5.clients.make_mth5 import MakeMTH5\n",
    "from mt_metadata.utils.mttime import get_now_utc, MTime"
   ]
  },
  {
   "cell_type": "markdown",
   "metadata": {},
   "source": [
    "**Initialize a MakeMTH5 object**: Setting the client to \"IRIS\".  Here, we are using `obspy.clients` tools for the request.  Here are the available [FDSN clients](https://docs.obspy.org/packages/obspy.clients.fdsn.html). "
   ]
  },
  {
   "cell_type": "code",
   "execution_count": null,
   "metadata": {},
   "outputs": [],
   "source": [
    "m = MakeMTH5()\n",
    "m.client = \"IRIS\""
   ]
  },
  {
   "cell_type": "markdown",
   "metadata": {},
   "source": [
    "**Make the data inquiry as a DataFrame**\n",
    "\n",
    "The DataFrame has columns:\n",
    "\n",
    "| Column Name         |   Description                                                                                                 |\n",
    "| ------------------- | --------------------------------------------------------------------------------------------------------------|\n",
    "| **network**         | [FDSN Network code (2 letters)](http://www.fdsn.org/networks/)                                                |\n",
    "| **station**         | [FDSN Station code (usually 5 characters)](https://ds.iris.edu/ds/nodes/dmc/data/formats/seed-channel-naming/)|\n",
    "| **location**        | [FDSN Location code (typically not used for MT)](http://docs.fdsn.org/projects/source-identifiers/en/v1.0/location-codes.html) |\n",
    "| **channel**         | [FDSN Channel code (3 characters)](http://docs.fdsn.org/projects/source-identifiers/en/v1.0/channel-codes.html)|\n",
    "| **start**           | Start time (YYYY-MM-DDThh:mm:ss) UTC |\n",
    "| **end**             | End time (YYYY-MM-DDThh:mm:ss) UTC  |"
   ]
  },
  {
   "cell_type": "code",
   "execution_count": null,
   "metadata": {},
   "outputs": [],
   "source": [
    "channels = [\"LFE\", \"LFN\", \"LFZ\", \"LQE\", \"LQN\"]\n",
    "CAY10 = [\"EM\",\"CAY10\", '2019-10-07T00:00:00', '2019-10-30T00:00:00']\n",
    "CAS04 = [\"ZU\", \"CAS04\",  '2020-06-02T19:00:00', '2020-07-13T19:00:00'] \n",
    "NVR08 = [\"ZU\", \"NVR08\", '2020-06-02T19:00:00', '2020-07-13T19:00:00']\n",
    "\n",
    "request_list = []\n",
    "for entry in [CAY10, CAS04, NVR08]:\n",
    "    for channel in channels:\n",
    "        request_list.append([entry[0], entry[1], \"\", channel, entry[2], entry[3]])\n",
    "\n",
    "# Turn list into dataframe\n",
    "request_df =  pd.DataFrame(request_list, columns=m.column_names)"
   ]
  },
  {
   "cell_type": "markdown",
   "metadata": {},
   "source": [
    "**Get only the metadata from IRIS**:  It can be helpful to make sure that your request is what you would expect.  For that you can request only the metadata from IRIS.  The request is quick and light so shouldn't need to worry about the speed.  "
   ]
  },
  {
   "cell_type": "code",
   "execution_count": null,
   "metadata": {},
   "outputs": [],
   "source": [
    "inventory, data = m.get_inventory_from_df(request_df, data=False)"
   ]
  },
  {
   "cell_type": "markdown",
   "metadata": {},
   "source": [
    "**Make an MTH5 from a request**: we are setting `interact=False` which closes the file HDF5 file when finished. If you want to interrogate the file after its made set `interact=True`. "
   ]
  },
  {
   "cell_type": "code",
   "execution_count": null,
   "metadata": {},
   "outputs": [],
   "source": [
    "begin = MTime(get_now_utc())\n",
    "\n",
    "mth5_object = m.make_mth5_from_fdsnclient(request_df, interact=False)\n",
    "ch_summary = mth5_object.channel_summary\n",
    "ch_summary.to_csv(\"channel_summary.csv\")\n",
    "\n",
    "end = MTime(get_now_utc())\n",
    "\n",
    "print(f\"Created {mth5_object.filename} and channel summary 'channel_summary.csv').\")\n",
    "print(\"Took {(int(end - begin) // 60)}:{(end - begin) % 60:05.2f} minutes\")"
   ]
  },
  {
   "cell_type": "code",
   "execution_count": null,
   "metadata": {},
   "outputs": [],
   "source": [
    "begin = MTime(get_now_utc())\n",
    "\n",
    "ch_summary = mth5_object.channel_summary\n",
    "ch_summary.to_csv(\"channel_summary.csv\")\n",
    "\n",
    "end = MTime(get_now_utc())\n",
    "\n",
    "print(f\"Created channel summary 'channel_summary.csv')\")\n",
    "print(f\"Took {(int(end - begin) // 60)}:{(end - begin) % 60:05.2f} minutes\")"
   ]
  },
  {
   "cell_type": "code",
   "execution_count": null,
   "metadata": {},
   "outputs": [],
   "source": [
    "ch_summary"
   ]
  }
 ],
 "metadata": {
  "kernelspec": {
   "display_name": "Python 3 (ipykernel)",
   "language": "python",
   "name": "python3"
  },
  "language_info": {
   "codemirror_mode": {
    "name": "ipython",
    "version": 3
   },
   "file_extension": ".py",
   "mimetype": "text/x-python",
   "name": "python",
   "nbconvert_exporter": "python",
   "pygments_lexer": "ipython3",
   "version": "3.9.5"
  }
 },
 "nbformat": 4,
 "nbformat_minor": 4
}
