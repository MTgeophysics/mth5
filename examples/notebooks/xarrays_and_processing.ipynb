{
 "cells": [
  {
   "cell_type": "markdown",
   "metadata": {},
   "source": [
    "# Elements that can be Xarrays\n",
    "A few ideas on how xarray could be used to help make processing efficient.\n",
    "\n",
    "xarray is built on Pandas, so the most of the functions that you use in Pandas are the same in xarray.  \n",
    "\n",
    "There are two main data types in xarray: \n",
    "\n",
    "- `xarray.DataArray` which is similar to `pandas.Series`\n",
    "- `xarray.DataSet` which is similar to `pandas.DataFrame`\n",
    "\n",
    "Instead of `index` xarray uses `coords`\n",
    "\n",
    "Similarly, instead of `columns` xarray uses `dims`, well sort of if no dims are given then the column names are the names of the coords.  \n"
   ]
  },
  {
   "cell_type": "markdown",
   "metadata": {},
   "source": [
    "## Data Block\n",
    "This would be a continuous time series of N points for a single channel.  The atomic element of the processing code.  The element would have methods like:\n",
    "- Apply window\n",
    "- Compute FFT/IFFT could use https://xrft.readthedocs.io/en/latest/index.html\n",
    "- Detrend/pre-whiten\n",
    "- Pick harmonic\n",
    "\n",
    "Xarray.DataArray → \n",
    "- coords = time\n",
    "- values = data\n",
    "- attrs:\n",
    "    - survey.id\n",
    "    - station.id\n",
    "    - location.latitude\n",
    "    - location.longitude\n"
   ]
  },
  {
   "cell_type": "code",
   "execution_count": 2,
   "metadata": {},
   "outputs": [],
   "source": [
    "import xarray\n",
    "class Block:\n",
    "    \"\"\" The atomic unit for processing time series.  Defined as a continuous time series of N points for a single channel \"\"\"\n",
    "    def __init__(self, time_index, data):\n",
    "        self.data = xarray.DataArray(data, coords=[(\"time\", time_index)], name=\"data\")\n",
    "        \n",
    "    @property\n",
    "    def window_time(self):\n",
    "        \"\"\" return the time of the given window, however this is calculate, so that it can be aligned later\"\"\"\n",
    "        \n",
    "    def apply_window(self, window_type, window_parameters):\n",
    "        \"\"\" Apply a certain window type to the data \"\"\"\n",
    "        window = self.get_window(window_type, window_parameters)\n",
    "        return self.data * window\n",
    "        \n",
    "    def compute_fc(self):\n",
    "        \"\"\" Compute the FFT of the given data block, could try to use <https://xrft.readthedocs.io/en/latest/index.html> \"\"\"\n",
    "        return FFT(self.data)\n",
    "    \n",
    "    "
   ]
  },
  {
   "cell_type": "markdown",
   "metadata": {},
   "source": [
    "# FC Array\n",
    "This would be a time series of Fourier coefficients for N channels for a single decimation level.  If the time index is the same between decimation levels, then this could be for M decimation levels.\n",
    "\n",
    "The coordinates would be a time index that is defined by the start time of the survey and the given window length, overlap, etc. These times should correlate with the `Block.window_time`.  That way you could instantiate the FC array at the begining with zeros or NaNs, then as you calculate the FC for each window for each channel, you can then begin to fill in the FC array with values.\n",
    "\n",
    "Probably you would have an FC array for a single channel and then collect them into a larger FC array, but they are the same object type.\n",
    "\n"
   ]
  },
  {
   "cell_type": "code",
   "execution_count": 3,
   "metadata": {},
   "outputs": [],
   "source": [
    "class FCArray():\n",
    "    \"\"\" An intelligent collection of FC coefficients \"\"\"\n",
    "    def __init__(self, time_index, channel_list):\n",
    "        self.data = xarray.DataArray(data, coords=[(\"time\", time_index), (\"channels\", channel_list)])"
   ]
  },
  {
   "cell_type": "code",
   "execution_count": null,
   "metadata": {},
   "outputs": [],
   "source": []
  }
 ],
 "metadata": {
  "kernelspec": {
   "display_name": "peacock",
   "language": "python",
   "name": "peacock"
  },
  "language_info": {
   "codemirror_mode": {
    "name": "ipython",
    "version": 3
   },
   "file_extension": ".py",
   "mimetype": "text/x-python",
   "name": "python",
   "nbconvert_exporter": "python",
   "pygments_lexer": "ipython3",
   "version": "3.8.5"
  }
 },
 "nbformat": 4,
 "nbformat_minor": 4
}
