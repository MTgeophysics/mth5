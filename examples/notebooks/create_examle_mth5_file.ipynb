{
 "cells": [
  {
   "cell_type": "markdown",
   "metadata": {},
   "source": [
    "# Make an example MTH5 file\n",
    "\n",
    "This notebook will demonstrate how you can make an MTH5 file."
   ]
  },
  {
   "cell_type": "code",
   "execution_count": 2,
   "metadata": {},
   "outputs": [],
   "source": [
    "# this is a hack for now, once we have a real package with an install this should be removed.\n",
    "import os\n",
    "from pathlib import Path\n",
    "import numpy as np\n",
    "\n",
    "# change this to your local mth5 repository\n",
    "os.chdir(r\"c:\\Users\\jpeacock\\Documents\\GitHub\\mth5\")\n",
    "\n",
    "# import mth5 metadata\n",
    "from mth5 import mth5, metadata, timeseries"
   ]
  },
  {
   "cell_type": "markdown",
   "metadata": {},
   "source": [
    "## Initialize MTH5 file"
   ]
  },
  {
   "cell_type": "code",
   "execution_count": 6,
   "metadata": {},
   "outputs": [
    {
     "name": "stdout",
     "output_type": "stream",
     "text": [
      "2020-12-04T14:47:31 [line 513] mth5.mth5.MTH5._initialize_file - INFO: Initialized MTH5 file c:\\Users\\jpeacock\\Documents\\GitHub\\mth5\\example.h5 in mode 'w'\n"
     ]
    },
    {
     "data": {
      "text/plain": [
       "/:\n",
       "====================\n",
       "    |- Group: Survey\n",
       "    ----------------\n",
       "        |- Group: Filters\n",
       "        -----------------\n",
       "            --> Dataset: summary\n",
       "            ......................\n",
       "        |- Group: Reports\n",
       "        -----------------\n",
       "            --> Dataset: summary\n",
       "            ......................\n",
       "        |- Group: Standards\n",
       "        -------------------\n",
       "            --> Dataset: summary\n",
       "            ......................\n",
       "        |- Group: Stations\n",
       "        ------------------\n",
       "            --> Dataset: summary\n",
       "            ......................"
      ]
     },
     "execution_count": 6,
     "metadata": {},
     "output_type": "execute_result"
    }
   ],
   "source": [
    "mth5_obj = mth5.MTH5()\n",
    "mth5_obj.open_mth5(Path(Path.cwd(), \"example.h5\"))\n",
    "mth5_obj"
   ]
  },
  {
   "cell_type": "markdown",
   "metadata": {},
   "source": [
    "## Add a new station"
   ]
  },
  {
   "cell_type": "code",
   "execution_count": 7,
   "metadata": {},
   "outputs": [
    {
     "data": {
      "text/plain": [
       "/Survey/Stations/mt001:\n",
       "====================\n",
       "    --> Dataset: summary\n",
       "    ......................"
      ]
     },
     "execution_count": 7,
     "metadata": {},
     "output_type": "execute_result"
    }
   ],
   "source": [
    "new_station = mth5_obj.add_station(\"mt001\")\n",
    "new_station"
   ]
  },
  {
   "cell_type": "code",
   "execution_count": 8,
   "metadata": {},
   "outputs": [
    {
     "data": {
      "text/plain": [
       "'mt001'"
      ]
     },
     "execution_count": 8,
     "metadata": {},
     "output_type": "execute_result"
    }
   ],
   "source": [
    "new_station.metadata.id"
   ]
  },
  {
   "cell_type": "markdown",
   "metadata": {},
   "source": [
    "### Update Station metadata"
   ]
  },
  {
   "cell_type": "code",
   "execution_count": 9,
   "metadata": {},
   "outputs": [
    {
     "data": {
      "text/plain": [
       "{\n",
       "    \"station\": {\n",
       "        \"acquired_by.author\": null,\n",
       "        \"channels_recorded\": [],\n",
       "        \"data_type\": null,\n",
       "        \"geographic_name\": null,\n",
       "        \"hdf5_reference\": \"<HDF5 object reference>\",\n",
       "        \"id\": \"mt001\",\n",
       "        \"location.declination.model\": null,\n",
       "        \"location.declination.value\": null,\n",
       "        \"location.elevation\": 500.0,\n",
       "        \"location.latitude\": 40.0,\n",
       "        \"location.longitude\": -120.0,\n",
       "        \"mth5_type\": \"Station\",\n",
       "        \"orientation.method\": null,\n",
       "        \"orientation.reference_frame\": \"geographic\",\n",
       "        \"provenance.creation_time\": \"2020-12-04T22:47:34.371165+00:00\",\n",
       "        \"provenance.software.author\": null,\n",
       "        \"provenance.software.name\": null,\n",
       "        \"provenance.software.version\": null,\n",
       "        \"provenance.submitter.author\": null,\n",
       "        \"provenance.submitter.email\": null,\n",
       "        \"provenance.submitter.organization\": null,\n",
       "        \"time_period.end\": \"2020-01-05T14:00:00+00:00\",\n",
       "        \"time_period.start\": \"2020-01-01T12:00:00+00:00\"\n",
       "    }\n",
       "}"
      ]
     },
     "execution_count": 9,
     "metadata": {},
     "output_type": "execute_result"
    }
   ],
   "source": [
    "new_station.metadata.time_period.start = \"2020-01-01T12:00:00\"\n",
    "new_station.metadata.time_period.end = \"2020-01-05T14:00:00\"\n",
    "new_station.metadata.location.latitude = 40.0\n",
    "new_station.metadata.location.longitude = -120\n",
    "new_station.metadata.location.elevation = 500\n",
    "new_station.metadata"
   ]
  },
  {
   "cell_type": "markdown",
   "metadata": {},
   "source": [
    "### Add Run"
   ]
  },
  {
   "cell_type": "code",
   "execution_count": 10,
   "metadata": {},
   "outputs": [
    {
     "data": {
      "text/plain": [
       "{\n",
       "    \"run\": {\n",
       "        \"acquired_by.author\": null,\n",
       "        \"channels_recorded_auxiliary\": null,\n",
       "        \"channels_recorded_electric\": null,\n",
       "        \"channels_recorded_magnetic\": null,\n",
       "        \"data_logger.firmware.author\": null,\n",
       "        \"data_logger.firmware.name\": null,\n",
       "        \"data_logger.firmware.version\": null,\n",
       "        \"data_logger.id\": null,\n",
       "        \"data_logger.manufacturer\": null,\n",
       "        \"data_logger.timing_system.drift\": null,\n",
       "        \"data_logger.timing_system.type\": null,\n",
       "        \"data_logger.timing_system.uncertainty\": null,\n",
       "        \"data_logger.type\": null,\n",
       "        \"data_type\": null,\n",
       "        \"hdf5_reference\": \"<HDF5 object reference>\",\n",
       "        \"id\": \"mt001a\",\n",
       "        \"metadata_by.author\": null,\n",
       "        \"mth5_type\": \"Run\",\n",
       "        \"sample_rate\": 256.0,\n",
       "        \"time_period.end\": \"1980-01-01T00:00:00+00:00\",\n",
       "        \"time_period.start\": \"2020-01-01T12:00:00+00:00\"\n",
       "    }\n",
       "}"
      ]
     },
     "execution_count": 10,
     "metadata": {},
     "output_type": "execute_result"
    }
   ],
   "source": [
    "new_run = new_station.add_run(\"mt001a\")\n",
    "new_run.metadata.sample_rate = 256\n",
    "new_run.metadata.time_period.start = \"2020-01-01T12:00:00\"\n",
    "new_run.metadata"
   ]
  },
  {
   "cell_type": "markdown",
   "metadata": {},
   "source": [
    "### Add channels to the run"
   ]
  },
  {
   "cell_type": "code",
   "execution_count": 11,
   "metadata": {},
   "outputs": [],
   "source": [
    "for index, component in enumerate([\"ex\", \"ey\"], 1):\n",
    "    e_metadata = metadata.Electric(**{\"time_period.start\": \"2020-01-01T12:00:00\",\n",
    "                                      \"time_period.end\": \"2020-01-02T12:00:00\",\n",
    "                                      \"sample_rate\": 256,\n",
    "                                      \"component\": component,\n",
    "                                      \"channel_number\": index,\n",
    "                                      \"dipole_length\": 100,\n",
    "                                      \"measurement_azimuth\": 0})\n",
    "    new_e = new_run.add_channel(component, \n",
    "                                 channel_type=\"electric\",\n",
    "                                 data=np.random.rand(4096),\n",
    "                                 channel_metadata=e_metadata)\n",
    "\n",
    "for index, component in enumerate([\"hx\", \"hy\", \"hz\"], 3):\n",
    "    h_metadata = metadata.Magnetic(**{\"time_period.start\": \"2020-01-01T12:00:00\",\n",
    "                        \"time_period.end\": \"2020-01-02T12:00:00\",\n",
    "                        \"sample_rate\": 256,\n",
    "                        \"component\": component,\n",
    "                        \"channel_number\": index,\n",
    "                        \"measurement_azimuth\": 0})\n",
    "    new_h = new_run.add_channel(component, \n",
    "                                 channel_type=\"magnetic\", \n",
    "                                 data=np.random.rand(4096),\n",
    "                                 channel_metadata=h_metadata)"
   ]
  },
  {
   "cell_type": "markdown",
   "metadata": {},
   "source": [
    "#### Check the summary table to make sure everything is there"
   ]
  },
  {
   "cell_type": "code",
   "execution_count": 12,
   "metadata": {},
   "outputs": [
    {
     "data": {
      "text/plain": [
       "index | component |            start             |             end              | n_samples | measurement_type |  units  |     hdf5_reference     \n",
       "--------------------------------------------------------------------------------------------------------------------------------------------------\n",
       "  0   |  ex   |  2020-01-01T12:00:00+00:00   |  2020-01-02T12:00:00+00:00   | 4096 |  electric   |  None   | <HDF5 object reference>\n",
       "  1   |  ey   |  2020-01-01T12:00:00+00:00   |  2020-01-02T12:00:00+00:00   | 4096 |  electric   |  None   | <HDF5 object reference>\n",
       "  2   |  hx   |  2020-01-01T12:00:00+00:00   |  2020-01-02T12:00:00+00:00   | 4096 |  magnetic   |  None   | <HDF5 object reference>\n",
       "  3   |  hy   |  2020-01-01T12:00:00+00:00   |  2020-01-02T12:00:00+00:00   | 4096 |  magnetic   |  None   | <HDF5 object reference>\n",
       "  4   |  hz   |  2020-01-01T12:00:00+00:00   |  2020-01-02T12:00:00+00:00   | 4096 |  magnetic   |  None   | <HDF5 object reference>"
      ]
     },
     "execution_count": 12,
     "metadata": {},
     "output_type": "execute_result"
    }
   ],
   "source": [
    "new_run.summary_table"
   ]
  },
  {
   "cell_type": "markdown",
   "metadata": {},
   "source": [
    "#### Check the summary table of the stations_group"
   ]
  },
  {
   "cell_type": "code",
   "execution_count": 13,
   "metadata": {},
   "outputs": [
    {
     "data": {
      "text/plain": [
       "index | station  |    run    | latitude | longitude | elevation | component |            start             |             end              | n_samples | measurement_type | azimuth | tilt |  units  |     hdf5_reference     \n",
       "-----------------------------------------------------------------------------------------------------------------------------------------------------------------------------------------------------------------------------\n",
       "  0   |  mt001   |  mt001a   | 0.0 | 0.0 | 0.0 |  ex   |  2020-01-01T12:00:00+00:00   |  2020-01-02T12:00:00+00:00   | 4096 |  electric   | 0.0 | 0.0 |  None   | <HDF5 object reference>\n",
       "  1   |  mt001   |  mt001a   | 0.0 | 0.0 | 0.0 |  ey   |  2020-01-01T12:00:00+00:00   |  2020-01-02T12:00:00+00:00   | 4096 |  electric   | 0.0 | 0.0 |  None   | <HDF5 object reference>\n",
       "  2   |  mt001   |  mt001a   | 0.0 | 0.0 | 0.0 |  hx   |  2020-01-01T12:00:00+00:00   |  2020-01-02T12:00:00+00:00   | 4096 |  magnetic   | 0.0 | 0.0 |  None   | <HDF5 object reference>\n",
       "  3   |  mt001   |  mt001a   | 0.0 | 0.0 | 0.0 |  hy   |  2020-01-01T12:00:00+00:00   |  2020-01-02T12:00:00+00:00   | 4096 |  magnetic   | 0.0 | 0.0 |  None   | <HDF5 object reference>\n",
       "  4   |  mt001   |  mt001a   | 0.0 | 0.0 | 0.0 |  hz   |  2020-01-01T12:00:00+00:00   |  2020-01-02T12:00:00+00:00   | 4096 |  magnetic   | 0.0 | 0.0 |  None   | <HDF5 object reference>"
      ]
     },
     "execution_count": 13,
     "metadata": {},
     "output_type": "execute_result"
    }
   ],
   "source": [
    "mth5_obj.stations_group.summary_table"
   ]
  },
  {
   "cell_type": "code",
   "execution_count": 14,
   "metadata": {},
   "outputs": [
    {
     "data": {
      "text/plain": [
       "/:\n",
       "====================\n",
       "    |- Group: Survey\n",
       "    ----------------\n",
       "        |- Group: Filters\n",
       "        -----------------\n",
       "            --> Dataset: summary\n",
       "            ......................\n",
       "        |- Group: Reports\n",
       "        -----------------\n",
       "            --> Dataset: summary\n",
       "            ......................\n",
       "        |- Group: Standards\n",
       "        -------------------\n",
       "            --> Dataset: summary\n",
       "            ......................\n",
       "        |- Group: Stations\n",
       "        ------------------\n",
       "            |- Group: mt001\n",
       "            ---------------\n",
       "                |- Group: mt001a\n",
       "                ----------------\n",
       "                    --> Dataset: ex\n",
       "                    .................\n",
       "                    --> Dataset: ey\n",
       "                    .................\n",
       "                    --> Dataset: hx\n",
       "                    .................\n",
       "                    --> Dataset: hy\n",
       "                    .................\n",
       "                    --> Dataset: hz\n",
       "                    .................\n",
       "                    --> Dataset: summary\n",
       "                    ......................\n",
       "                --> Dataset: summary\n",
       "                ......................\n",
       "            --> Dataset: summary\n",
       "            ......................"
      ]
     },
     "execution_count": 14,
     "metadata": {},
     "output_type": "execute_result"
    }
   ],
   "source": [
    "mth5_obj"
   ]
  },
  {
   "cell_type": "markdown",
   "metadata": {},
   "source": [
    "## Add a channel from the time series object\n",
    "\n",
    "This is the common way that time series will actually be added to the MTH5 file.  Data will be read in from a file to create an mth5.timeseries.RunTS object which can then put into a run or channel"
   ]
  },
  {
   "cell_type": "code",
   "execution_count": 3,
   "metadata": {},
   "outputs": [],
   "source": [
    "channel_ts_list = []\n",
    "station_metadata = metadata.Station(id=\"mt001\")\n",
    "run_metadata = metadata.Run()\n",
    "run_metadata.id = \"mt001b\"\n",
    "run_metadata.sample_rate = 256\n",
    "run_metadata.time_period.start = \"2020-01-01T12:00:00\"\n",
    "\n",
    "# make electric channels\n",
    "for index, component in enumerate([\"ex\", \"ey\"], 1):\n",
    "    e_metadata = metadata.Electric(**{\"time_period.start\": \"2020-01-01T12:00:00\",\n",
    "                                      \"sample_rate\": 256,\n",
    "                                      \"component\": component,\n",
    "                                      \"channel_number\": index,\n",
    "                                      \"dipole_length\": 100,\n",
    "                                      \"measurement_azimuth\": 0})\n",
    "    ch = timeseries.ChannelTS(channel_type=\"electric\",\n",
    "                             data=np.random.rand(4096),\n",
    "                             channel_metadata=e_metadata,\n",
    "                             station_metadata=station_metadata,\n",
    "                             run_metadata=run_metadata)\n",
    "    channel_ts_list.append(ch)\n",
    "    \n",
    "# make magnetic channels\n",
    "for index, component in enumerate([\"hx\", \"hy\", \"hz\"], 3):\n",
    "    h_metadata = metadata.Magnetic(**{\"time_period.start\": \"2020-01-01T12:00:00\",\n",
    "                                      \"sample_rate\": 256,\n",
    "                                      \"component\": component,\n",
    "                                      \"channel_number\": index,\n",
    "                                      \"measurement_azimuth\": 0})\n",
    "    ch = timeseries.ChannelTS(channel_type=\"magnetic\",\n",
    "                             data=np.random.rand(4096),\n",
    "                             channel_metadata=h_metadata,\n",
    "                             station_metadata=station_metadata,\n",
    "                             run_metadata=run_metadata)\n",
    "    channel_ts_list.append(ch)\n",
    "    \n"
   ]
  },
  {
   "cell_type": "code",
   "execution_count": 4,
   "metadata": {},
   "outputs": [
    {
     "name": "stdout",
     "output_type": "stream",
     "text": [
      "2020-12-04T14:46:45 [line 846] mth5.timeseries.RunTS.validate_metadata - WARNING: sample rate of dataset 256.0 does not match metadata sample rate None updating metatdata value to 256.0\n",
      "2020-12-04T14:46:45 [line 856] mth5.timeseries.RunTS.validate_metadata - WARNING: start time of dataset 2020-01-01T12:00:00+00:00 does not match metadata start 1980-01-01T00:00:00+00:00 updating metatdata value to 2020-01-01T12:00:00+00:00\n",
      "2020-12-04T14:46:45 [line 866] mth5.timeseries.RunTS.validate_metadata - WARNING: end time of dataset 2020-01-01T12:00:15.996093+00:00 does not match metadata end 1980-01-01T00:00:00+00:00 updating metatdata value to 2020-01-01T12:00:15.996093+00:00\n"
     ]
    }
   ],
   "source": [
    "# create a timeseries.RunTS object\n",
    "run_obj = timeseries.RunTS(array_list=channel_ts_list)"
   ]
  },
  {
   "cell_type": "code",
   "execution_count": 15,
   "metadata": {},
   "outputs": [
    {
     "data": {
      "text/plain": [
       "[Channel Electric:\n",
       " -------------------\n",
       " \tcomponent:        ex\n",
       " \tdata type:        electric\n",
       " \tdata format:      float64\n",
       " \tdata shape:       (4096,)\n",
       " \tstart:            2020-01-01T12:00:00+00:00\n",
       " \tend:              2020-01-01T12:00:15.996093+00:00\n",
       " \tsample rate:      256.0,\n",
       " Channel Electric:\n",
       " -------------------\n",
       " \tcomponent:        ey\n",
       " \tdata type:        electric\n",
       " \tdata format:      float64\n",
       " \tdata shape:       (4096,)\n",
       " \tstart:            2020-01-01T12:00:00+00:00\n",
       " \tend:              2020-01-01T12:00:15.996093+00:00\n",
       " \tsample rate:      256.0,\n",
       " Channel Magnetic:\n",
       " -------------------\n",
       " \tcomponent:        hx\n",
       " \tdata type:        magnetic\n",
       " \tdata format:      float64\n",
       " \tdata shape:       (4096,)\n",
       " \tstart:            2020-01-01T12:00:00+00:00\n",
       " \tend:              2020-01-01T12:00:15.996093+00:00\n",
       " \tsample rate:      256.0,\n",
       " Channel Magnetic:\n",
       " -------------------\n",
       " \tcomponent:        hy\n",
       " \tdata type:        magnetic\n",
       " \tdata format:      float64\n",
       " \tdata shape:       (4096,)\n",
       " \tstart:            2020-01-01T12:00:00+00:00\n",
       " \tend:              2020-01-01T12:00:15.996093+00:00\n",
       " \tsample rate:      256.0,\n",
       " Channel Magnetic:\n",
       " -------------------\n",
       " \tcomponent:        hz\n",
       " \tdata type:        magnetic\n",
       " \tdata format:      float64\n",
       " \tdata shape:       (4096,)\n",
       " \tstart:            2020-01-01T12:00:00+00:00\n",
       " \tend:              2020-01-01T12:00:15.996093+00:00\n",
       " \tsample rate:      256.0]"
      ]
     },
     "execution_count": 15,
     "metadata": {},
     "output_type": "execute_result"
    }
   ],
   "source": [
    "new_run_02 = new_station.add_run(\"mt001b\")\n",
    "new_run_02.from_runts(run_obj)"
   ]
  },
  {
   "cell_type": "code",
   "execution_count": null,
   "metadata": {},
   "outputs": [],
   "source": []
  }
 ],
 "metadata": {
  "kernelspec": {
   "display_name": "peacock",
   "language": "python",
   "name": "peacock"
  },
  "language_info": {
   "codemirror_mode": {
    "name": "ipython",
    "version": 3
   },
   "file_extension": ".py",
   "mimetype": "text/x-python",
   "name": "python",
   "nbconvert_exporter": "python",
   "pygments_lexer": "ipython3",
   "version": "3.8.5"
  }
 },
 "nbformat": 4,
 "nbformat_minor": 4
}
