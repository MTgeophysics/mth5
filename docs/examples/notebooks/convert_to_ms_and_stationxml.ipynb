{
 "cells": [
  {
   "cell_type": "markdown",
   "metadata": {},
   "source": [
    "# Convert MTH5 to miniseed"
   ]
  },
  {
   "cell_type": "code",
   "execution_count": 1,
   "metadata": {},
   "outputs": [],
   "source": [
    "from mth5.io.conversion import MTH5ToMiniSEEDStationXML"
   ]
  },
  {
   "cell_type": "code",
   "execution_count": null,
   "metadata": {},
   "outputs": [
    {
     "name": "stdout",
     "output_type": "stream",
     "text": [
      "\u001b[1m2025-03-12T16:05:40.525493-0700 | INFO | mth5.io.conversion | convert_mth5_to_ms_stationxml | Wrote miniSEED for Clearlake2022.cl008.sr1_0001 to c:\\Users\\jpeacock\\OneDrive - DOI\\MTData\\CL2021\\archive\\to_dmc\\Clearlake2022_cl008_sr1_0001.mseed\u001b[0m\n",
      "\u001b[1m2025-03-12T16:05:45.813670-0700 | INFO | mth5.timeseries.run_ts | _align_channels | Channels do not have a common end, using latest: 2021-04-30T18:59:43.996094000\u001b[0m\n",
      "\u001b[1m2025-03-12T16:05:51.699324-0700 | INFO | mth5.io.conversion | convert_mth5_to_ms_stationxml | Wrote miniSEED for Clearlake2022.cl008.sr256_0001 to c:\\Users\\jpeacock\\OneDrive - DOI\\MTData\\CL2021\\archive\\to_dmc\\Clearlake2022_cl008_sr256_0001.mseed\u001b[0m\n",
      "\u001b[1m2025-03-12T16:05:55.343596-0700 | INFO | mth5.timeseries.run_ts | _align_channels | Channels do not have a common end, using latest: 2021-04-30T19:09:43.998779296\u001b[0m\n",
      "\u001b[33m\u001b[1m2025-03-12T16:05:58.140022-0700 | WARNING | mth5.timeseries.run_ts | validate_metadata | end time of dataset 2021-04-30T19:09:43.998535156+00:00 does not match metadata end 2021-04-30T19:09:43.998779296+00:00 updating metatdata value to 2021-04-30T19:09:43.998535156+00:00\u001b[0m\n",
      "\u001b[1m2025-03-12T16:06:01.977114-0700 | INFO | mth5.io.conversion | convert_mth5_to_ms_stationxml | Wrote miniSEED for Clearlake2022.cl008.sr4096_0002 to c:\\Users\\jpeacock\\OneDrive - DOI\\MTData\\CL2021\\archive\\to_dmc\\Clearlake2022_cl008_sr4096_0002.mseed\u001b[0m\n",
      "\u001b[1m2025-03-12T16:06:08.729814-0700 | INFO | mth5.timeseries.run_ts | _align_channels | Channels do not have a common end, using latest: 2021-05-01T00:59:43.996094000\u001b[0m\n",
      "\u001b[1m2025-03-12T16:06:20.556656-0700 | INFO | mth5.io.conversion | convert_mth5_to_ms_stationxml | Wrote miniSEED for Clearlake2022.cl008.sr256_0003 to c:\\Users\\jpeacock\\OneDrive - DOI\\MTData\\CL2021\\archive\\to_dmc\\Clearlake2022_cl008_sr256_0003.mseed\u001b[0m\n",
      "\u001b[1m2025-03-12T16:06:24.526639-0700 | INFO | mth5.timeseries.run_ts | _align_channels | Channels do not have a common end, using latest: 2021-05-01T01:09:43.997803000\u001b[0m\n",
      "\u001b[1m2025-03-12T16:06:30.464540-0700 | INFO | mth5.io.conversion | convert_mth5_to_ms_stationxml | Wrote miniSEED for Clearlake2022.cl008.sr4096_0004 to c:\\Users\\jpeacock\\OneDrive - DOI\\MTData\\CL2021\\archive\\to_dmc\\Clearlake2022_cl008_sr4096_0004.mseed\u001b[0m\n",
      "\u001b[1m2025-03-12T16:06:37.302952-0700 | INFO | mth5.timeseries.run_ts | _align_channels | Channels do not have a common end, using latest: 2021-05-01T06:59:43.996094000\u001b[0m\n",
      "\u001b[1m2025-03-12T16:06:50.031143-0700 | INFO | mth5.io.conversion | convert_mth5_to_ms_stationxml | Wrote miniSEED for Clearlake2022.cl008.sr256_0005 to c:\\Users\\jpeacock\\OneDrive - DOI\\MTData\\CL2021\\archive\\to_dmc\\Clearlake2022_cl008_sr256_0005.mseed\u001b[0m\n",
      "\u001b[1m2025-03-12T16:06:53.734745-0700 | INFO | mth5.timeseries.run_ts | _align_channels | Channels do not have a common end, using latest: 2021-05-01T07:09:43.999512000\u001b[0m\n",
      "\u001b[1m2025-03-12T16:06:59.087111-0700 | INFO | mth5.io.conversion | convert_mth5_to_ms_stationxml | Wrote miniSEED for Clearlake2022.cl008.sr4096_0006 to c:\\Users\\jpeacock\\OneDrive - DOI\\MTData\\CL2021\\archive\\to_dmc\\Clearlake2022_cl008_sr4096_0006.mseed\u001b[0m\n",
      "\u001b[1m2025-03-12T16:07:05.943949-0700 | INFO | mth5.timeseries.run_ts | _align_channels | Channels do not have a common end, using latest: 2021-05-01T12:59:43.996094000\u001b[0m\n",
      "\u001b[1m2025-03-12T16:07:16.419471-0700 | INFO | mth5.io.conversion | convert_mth5_to_ms_stationxml | Wrote miniSEED for Clearlake2022.cl008.sr256_0007 to c:\\Users\\jpeacock\\OneDrive - DOI\\MTData\\CL2021\\archive\\to_dmc\\Clearlake2022_cl008_sr256_0007.mseed\u001b[0m\n",
      "\u001b[1m2025-03-12T16:07:19.822300-0700 | INFO | mth5.timeseries.run_ts | _align_channels | Channels do not have a common end, using latest: 2021-05-01T13:09:43.998535156\u001b[0m\n",
      "\u001b[33m\u001b[1m2025-03-12T16:07:22.395633-0700 | WARNING | mth5.timeseries.run_ts | validate_metadata | end time of dataset 2021-05-01T13:09:43.998291015+00:00 does not match metadata end 2021-05-01T13:09:43.998535156+00:00 updating metatdata value to 2021-05-01T13:09:43.998291015+00:00\u001b[0m\n",
      "\u001b[1m2025-03-12T16:07:25.393784-0700 | INFO | mth5.io.conversion | convert_mth5_to_ms_stationxml | Wrote miniSEED for Clearlake2022.cl008.sr4096_0008 to c:\\Users\\jpeacock\\OneDrive - DOI\\MTData\\CL2021\\archive\\to_dmc\\Clearlake2022_cl008_sr4096_0008.mseed\u001b[0m\n",
      "\u001b[1m2025-03-12T16:07:29.830686-0700 | INFO | mth5.timeseries.run_ts | _align_channels | Channels do not have a common end, using latest: 2021-05-01T15:13:34.996094000\u001b[0m\n"
     ]
    },
    {
     "name": "stderr",
     "output_type": "stream",
     "text": [
      "C:\\Users\\jpeacock\\OneDrive - DOI\\Documents\\GitHub\\mth5\\mth5\\timeseries\\channel_ts.py:1524: RuntimeWarning: invalid value encountered in cast\n",
      "  obspy_trace = Trace(self.ts.astype(encoding_dict[encoding]))\n"
     ]
    },
    {
     "name": "stdout",
     "output_type": "stream",
     "text": [
      "\u001b[1m2025-03-12T16:07:32.549610-0700 | INFO | mth5.io.conversion | convert_mth5_to_ms_stationxml | Wrote miniSEED for Clearlake2022.cl008.sr256_0009 to c:\\Users\\jpeacock\\OneDrive - DOI\\MTData\\CL2021\\archive\\to_dmc\\Clearlake2022_cl008_sr256_0009.mseed\u001b[0m\n",
      "\u001b[1m2025-03-12T16:07:33.617150-0700 | INFO | mth5.mth5 | close_mth5 | Flushing and closing c:\\Users\\jpeacock\\OneDrive - DOI\\MTData\\CL2021\\archive\\cl008.h5\u001b[0m\n",
      "\u001b[1m2025-03-12T16:07:35.551921-0700 | INFO | mth5.io.conversion | convert_mth5_to_ms_stationxml | Wrote StationXML to c:\\Users\\jpeacock\\OneDrive - DOI\\MTData\\CL2021\\archive\\to_dmc\\cl008.xml\u001b[0m\n"
     ]
    }
   ],
   "source": [
    "station_xml, ms_list = MTH5ToMiniSEEDStationXML.convert_mth5_to_ms_stationxml(\n",
    "    mth5_path=r\"c:\\Users\\jpeacock\\OneDrive - DOI\\MTData\\CL2021\\archive\\cl008.h5\",\n",
    "    save_path=r\"c:\\Users\\jpeacock\\OneDrive - DOI\\MTData\\CL2021\\archive\\to_dmc\",\n",
    "    network_code=\"ZU\",\n",
    "    encoding=\"INT32\",\n",
    ")"
   ]
  },
  {
   "cell_type": "code",
   "execution_count": 3,
   "metadata": {},
   "outputs": [
    {
     "data": {
      "text/plain": [
       "[WindowsPath('c:/Users/jpeacock/OneDrive - DOI/MTData/CL2021/archive/to_dmc/Clearlake2022_cl008_sr1_0001.mseed'),\n",
       " WindowsPath('c:/Users/jpeacock/OneDrive - DOI/MTData/CL2021/archive/to_dmc/Clearlake2022_cl008_sr256_0001.mseed'),\n",
       " WindowsPath('c:/Users/jpeacock/OneDrive - DOI/MTData/CL2021/archive/to_dmc/Clearlake2022_cl008_sr4096_0002.mseed'),\n",
       " WindowsPath('c:/Users/jpeacock/OneDrive - DOI/MTData/CL2021/archive/to_dmc/Clearlake2022_cl008_sr256_0003.mseed'),\n",
       " WindowsPath('c:/Users/jpeacock/OneDrive - DOI/MTData/CL2021/archive/to_dmc/Clearlake2022_cl008_sr4096_0004.mseed'),\n",
       " WindowsPath('c:/Users/jpeacock/OneDrive - DOI/MTData/CL2021/archive/to_dmc/Clearlake2022_cl008_sr256_0005.mseed'),\n",
       " WindowsPath('c:/Users/jpeacock/OneDrive - DOI/MTData/CL2021/archive/to_dmc/Clearlake2022_cl008_sr4096_0006.mseed'),\n",
       " WindowsPath('c:/Users/jpeacock/OneDrive - DOI/MTData/CL2021/archive/to_dmc/Clearlake2022_cl008_sr256_0007.mseed'),\n",
       " WindowsPath('c:/Users/jpeacock/OneDrive - DOI/MTData/CL2021/archive/to_dmc/Clearlake2022_cl008_sr4096_0008.mseed'),\n",
       " WindowsPath('c:/Users/jpeacock/OneDrive - DOI/MTData/CL2021/archive/to_dmc/Clearlake2022_cl008_sr256_0009.mseed')]"
      ]
     },
     "execution_count": 3,
     "metadata": {},
     "output_type": "execute_result"
    }
   ],
   "source": [
    "ms_list"
   ]
  },
  {
   "cell_type": "code",
   "execution_count": null,
   "metadata": {},
   "outputs": [],
   "source": []
  }
 ],
 "metadata": {
  "kernelspec": {
   "display_name": "py311",
   "language": "python",
   "name": "python3"
  },
  "language_info": {
   "codemirror_mode": {
    "name": "ipython",
    "version": 3
   },
   "file_extension": ".py",
   "mimetype": "text/x-python",
   "name": "python",
   "nbconvert_exporter": "python",
   "pygments_lexer": "ipython3",
   "version": "3.11.11"
  }
 },
 "nbformat": 4,
 "nbformat_minor": 2
}
