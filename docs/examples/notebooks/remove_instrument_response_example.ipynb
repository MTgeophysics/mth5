{
 "cells": [
  {
   "cell_type": "markdown",
   "id": "a3ad138d-fc73-4fa9-bf8b-45841ffb0dc5",
   "metadata": {},
   "source": [
    "# Remove Instrument Response\n",
    "\n",
    "This is an example notebook for removing the instrument response to calibrate the data into physical units.\n",
    "\n",
    "All the filters are represented as `mt_metadata.timeseries.filters` objects.  More information about these can be found in [mt_metadata filters](https://mt-metadata.readthedocs.io/en/latest/source/notebooks/filters_example.html).\n",
    "\n",
    "This example will read in an existing MTH5 that has one station `CAS04`, one run `a`, and 2 channels `ex` and `hx`. "
   ]
  },
  {
   "cell_type": "code",
   "execution_count": 11,
   "id": "52ab48c8-c08d-40dd-a8c1-ae6f7fa12d0a",
   "metadata": {},
   "outputs": [],
   "source": [
    "from mth5.mth5 import MTH5"
   ]
  },
  {
   "cell_type": "markdown",
   "id": "6e38b632-4525-4c48-94f5-a97b836817f2",
   "metadata": {},
   "source": [
    "## Open the MTH5 file\n",
    "\n",
    "This has 2 stations in it CAS04 and NVR08 both MTArray/Earthscope stations.  Each only has one run.  "
   ]
  },
  {
   "cell_type": "code",
   "execution_count": 12,
   "id": "2b83f17f-7b3f-458c-a525-9c6bbe2bf05c",
   "metadata": {},
   "outputs": [],
   "source": [
    "m = MTH5()\n",
    "m.open_mth5(r\"c:\\Users\\jpeacock\\Documents\\GitHub\\mth5\\docs\\examples\\notebooks\\ZU_CAS04_NVR08_small.h5\")"
   ]
  },
  {
   "cell_type": "markdown",
   "id": "5313b5f0-ae85-4176-84e1-f8e9fafc9e7f",
   "metadata": {},
   "source": [
    "Have a look at the channel summary.  This is a table of all the channels available in the MTH5 file."
   ]
  },
  {
   "cell_type": "code",
   "execution_count": 13,
   "id": "8bda6697-6f9e-437e-9cb1-f34d42103364",
   "metadata": {},
   "outputs": [
    {
     "data": {
      "text/html": [
       "<div>\n",
       "<style scoped>\n",
       "    .dataframe tbody tr th:only-of-type {\n",
       "        vertical-align: middle;\n",
       "    }\n",
       "\n",
       "    .dataframe tbody tr th {\n",
       "        vertical-align: top;\n",
       "    }\n",
       "\n",
       "    .dataframe thead th {\n",
       "        text-align: right;\n",
       "    }\n",
       "</style>\n",
       "<table border=\"1\" class=\"dataframe\">\n",
       "  <thead>\n",
       "    <tr style=\"text-align: right;\">\n",
       "      <th></th>\n",
       "      <th>survey</th>\n",
       "      <th>station</th>\n",
       "      <th>run</th>\n",
       "      <th>latitude</th>\n",
       "      <th>longitude</th>\n",
       "      <th>elevation</th>\n",
       "      <th>component</th>\n",
       "      <th>start</th>\n",
       "      <th>end</th>\n",
       "      <th>n_samples</th>\n",
       "      <th>sample_rate</th>\n",
       "      <th>measurement_type</th>\n",
       "      <th>azimuth</th>\n",
       "      <th>tilt</th>\n",
       "      <th>units</th>\n",
       "      <th>hdf5_reference</th>\n",
       "      <th>run_hdf5_reference</th>\n",
       "      <th>station_hdf5_reference</th>\n",
       "    </tr>\n",
       "  </thead>\n",
       "  <tbody>\n",
       "    <tr>\n",
       "      <th>0</th>\n",
       "      <td>CONUS South</td>\n",
       "      <td>CAS04</td>\n",
       "      <td>a</td>\n",
       "      <td>37.633351</td>\n",
       "      <td>-121.468382</td>\n",
       "      <td>329.3875</td>\n",
       "      <td>ex</td>\n",
       "      <td>2020-06-02 19:00:00+00:00</td>\n",
       "      <td>2020-06-02 22:07:46+00:00</td>\n",
       "      <td>11267</td>\n",
       "      <td>1.0</td>\n",
       "      <td>electric</td>\n",
       "      <td>13.2</td>\n",
       "      <td>0.0</td>\n",
       "      <td>digital counts</td>\n",
       "      <td>&lt;HDF5 object reference&gt;</td>\n",
       "      <td>&lt;HDF5 object reference&gt;</td>\n",
       "      <td>&lt;HDF5 object reference&gt;</td>\n",
       "    </tr>\n",
       "    <tr>\n",
       "      <th>1</th>\n",
       "      <td>CONUS South</td>\n",
       "      <td>CAS04</td>\n",
       "      <td>a</td>\n",
       "      <td>37.633351</td>\n",
       "      <td>-121.468382</td>\n",
       "      <td>329.3875</td>\n",
       "      <td>hx</td>\n",
       "      <td>2020-06-02 19:00:00+00:00</td>\n",
       "      <td>2020-06-02 22:07:46+00:00</td>\n",
       "      <td>11267</td>\n",
       "      <td>1.0</td>\n",
       "      <td>magnetic</td>\n",
       "      <td>13.2</td>\n",
       "      <td>0.0</td>\n",
       "      <td>digital counts</td>\n",
       "      <td>&lt;HDF5 object reference&gt;</td>\n",
       "      <td>&lt;HDF5 object reference&gt;</td>\n",
       "      <td>&lt;HDF5 object reference&gt;</td>\n",
       "    </tr>\n",
       "  </tbody>\n",
       "</table>\n",
       "</div>"
      ],
      "text/plain": [
       "        survey station run   latitude   longitude  elevation component  \\\n",
       "0  CONUS South   CAS04   a  37.633351 -121.468382   329.3875        ex   \n",
       "1  CONUS South   CAS04   a  37.633351 -121.468382   329.3875        hx   \n",
       "\n",
       "                      start                       end  n_samples  sample_rate  \\\n",
       "0 2020-06-02 19:00:00+00:00 2020-06-02 22:07:46+00:00      11267          1.0   \n",
       "1 2020-06-02 19:00:00+00:00 2020-06-02 22:07:46+00:00      11267          1.0   \n",
       "\n",
       "  measurement_type  azimuth  tilt           units           hdf5_reference  \\\n",
       "0         electric     13.2   0.0  digital counts  <HDF5 object reference>   \n",
       "1         magnetic     13.2   0.0  digital counts  <HDF5 object reference>   \n",
       "\n",
       "        run_hdf5_reference   station_hdf5_reference  \n",
       "0  <HDF5 object reference>  <HDF5 object reference>  \n",
       "1  <HDF5 object reference>  <HDF5 object reference>  "
      ]
     },
     "execution_count": 13,
     "metadata": {},
     "output_type": "execute_result"
    }
   ],
   "source": [
    "ch_df = m.channel_summary.to_dataframe()\n",
    "ch_df"
   ]
  },
  {
   "cell_type": "markdown",
   "id": "9ed278c9-fca5-436c-9308-645350dc0d33",
   "metadata": {},
   "source": [
    "## Get EX channel\n",
    "\n",
    "Here we will get an EX channel, it will return a `channel_dataset` object."
   ]
  },
  {
   "cell_type": "code",
   "execution_count": 14,
   "id": "09268f20-47fb-420b-aafc-023704f42a83",
   "metadata": {},
   "outputs": [],
   "source": [
    "ex = m.get_channel(\"CAS04\", \"a\", \"ex\", survey=\"CONUS_South\")"
   ]
  },
  {
   "cell_type": "code",
   "execution_count": 15,
   "id": "1b7170cc-095d-4e3c-9738-1e8327cff696",
   "metadata": {},
   "outputs": [
    {
     "data": {
      "text/plain": [
       "Channel Electric:\n",
       "-------------------\n",
       "\tcomponent:        ex\n",
       "\tdata type:        electric\n",
       "\tdata format:      int32\n",
       "\tdata shape:       (11267,)\n",
       "\tstart:            2020-06-02T19:00:00+00:00\n",
       "\tend:              2020-06-02T22:07:46+00:00\n",
       "\tsample rate:      1.0"
      ]
     },
     "execution_count": 15,
     "metadata": {},
     "output_type": "execute_result"
    }
   ],
   "source": [
    "ex"
   ]
  },
  {
   "cell_type": "markdown",
   "id": "215523f9-ce38-4345-8181-51bbe4ac2a83",
   "metadata": {},
   "source": [
    "### ChannelTS object\n",
    "\n",
    "Convert the `ex` channel to a `ChannelTS` object which is based on an `xarray.DataArray` and has methods to working with the data.  More information can be found [Time Series Objects](https://mth5.readthedocs.io/en/latest/source/ts.html)"
   ]
  },
  {
   "cell_type": "code",
   "execution_count": 16,
   "id": "52f91525-5eb6-4e6c-8865-4aee81c77795",
   "metadata": {},
   "outputs": [],
   "source": [
    "exts = ex.to_channel_ts()"
   ]
  },
  {
   "cell_type": "code",
   "execution_count": 17,
   "id": "7b4bf97e-5d14-4519-a6a8-b774f5506624",
   "metadata": {},
   "outputs": [
    {
     "data": {
      "text/plain": [
       "Filters Included:\n",
       "=========================\n",
       "pole_zero_filter:\n",
       "\tcalibration_date = 1980-01-01\n",
       "\tcomments = butterworth filter\n",
       "\tgain = 1.0\n",
       "\tname = electric field 5 pole butterworth low-pass\n",
       "\tnormalization_factor = 313383.601119193\n",
       "\tpoles = [ -3.883009+11.951875j  -3.883009-11.951875j -10.166194 +7.386513j\n",
       " -10.166194 -7.386513j -12.566371 +0.j      ]\n",
       "\ttype = zpk\n",
       "\tunits_in = mV/km\n",
       "\tunits_out = mV/km\n",
       "\tzeros = []\n",
       "--------------------\n",
       "pole_zero_filter:\n",
       "\tcalibration_date = 1980-01-01\n",
       "\tcomments = butterworth filter\n",
       "\tgain = 1.0\n",
       "\tname = electric field 1 pole butterworth high-pass\n",
       "\tnormalization_factor = 1.00000351809047\n",
       "\tpoles = [-0.000167+0.j]\n",
       "\ttype = zpk\n",
       "\tunits_in = mV/km\n",
       "\tunits_out = mV/km\n",
       "\tzeros = [ 0.+0.j]\n",
       "--------------------\n",
       "coefficient_filter:\n",
       "\tcalibration_date = 1980-01-01\n",
       "\tcomments = unit conversion\n",
       "\tgain = 1e-06\n",
       "\tname = mv per km to v per m\n",
       "\ttype = coefficient\n",
       "\tunits_in = mV/km\n",
       "\tunits_out = V/m\n",
       "--------------------\n",
       "coefficient_filter:\n",
       "\tcalibration_date = 1980-01-01\n",
       "\tcomments = electric dipole\n",
       "\tgain = 94.0\n",
       "\tname = v per m to v\n",
       "\ttype = coefficient\n",
       "\tunits_in = V/m\n",
       "\tunits_out = V\n",
       "--------------------\n",
       "coefficient_filter:\n",
       "\tcalibration_date = 1980-01-01\n",
       "\tcomments = analog to digital conversion\n",
       "\tgain = 484733700000000.0\n",
       "\tname = v to counts (electric)\n",
       "\ttype = coefficient\n",
       "\tunits_in = V\n",
       "\tunits_out = count\n",
       "--------------------\n",
       "time_delay_filter:\n",
       "\tcalibration_date = 1980-01-01\n",
       "\tcomments = time correction\n",
       "\tdelay = -0.285\n",
       "\tgain = 1.0\n",
       "\tname = electric time offset\n",
       "\ttype = time delay\n",
       "\tunits_in = count\n",
       "\tunits_out = count\n",
       "--------------------"
      ]
     },
     "execution_count": 17,
     "metadata": {},
     "output_type": "execute_result"
    }
   ],
   "source": [
    "exts.channel_response_filter"
   ]
  },
  {
   "cell_type": "code",
   "execution_count": 18,
   "id": "365bdc61-9cb1-4add-8c84-c2e21cbc065b",
   "metadata": {},
   "outputs": [
    {
     "data": {
      "text/plain": [
       "Filters Included:\n",
       "=========================\n",
       "pole_zero_filter:\n",
       "\tcalibration_date = 1980-01-01\n",
       "\tcomments = butterworth filter\n",
       "\tgain = 1.0\n",
       "\tname = electric field 5 pole butterworth low-pass\n",
       "\tnormalization_factor = 313383.601119193\n",
       "\tpoles = [ -3.883009+11.951875j  -3.883009-11.951875j -10.166194 +7.386513j\n",
       " -10.166194 -7.386513j -12.566371 +0.j      ]\n",
       "\ttype = zpk\n",
       "\tunits_in = mV/km\n",
       "\tunits_out = mV/km\n",
       "\tzeros = []\n",
       "--------------------\n",
       "pole_zero_filter:\n",
       "\tcalibration_date = 1980-01-01\n",
       "\tcomments = butterworth filter\n",
       "\tgain = 1.0\n",
       "\tname = electric field 1 pole butterworth high-pass\n",
       "\tnormalization_factor = 1.00000351809047\n",
       "\tpoles = [-0.000167+0.j]\n",
       "\ttype = zpk\n",
       "\tunits_in = mV/km\n",
       "\tunits_out = mV/km\n",
       "\tzeros = [ 0.+0.j]\n",
       "--------------------\n",
       "coefficient_filter:\n",
       "\tcalibration_date = 1980-01-01\n",
       "\tcomments = unit conversion\n",
       "\tgain = 1e-06\n",
       "\tname = mv per km to v per m\n",
       "\ttype = coefficient\n",
       "\tunits_in = mV/km\n",
       "\tunits_out = V/m\n",
       "--------------------\n",
       "coefficient_filter:\n",
       "\tcalibration_date = 1980-01-01\n",
       "\tcomments = electric dipole\n",
       "\tgain = 94.0\n",
       "\tname = v per m to v\n",
       "\ttype = coefficient\n",
       "\tunits_in = V/m\n",
       "\tunits_out = V\n",
       "--------------------\n",
       "coefficient_filter:\n",
       "\tcalibration_date = 1980-01-01\n",
       "\tcomments = analog to digital conversion\n",
       "\tgain = 484733700000000.0\n",
       "\tname = v to counts (electric)\n",
       "\ttype = coefficient\n",
       "\tunits_in = V\n",
       "\tunits_out = count\n",
       "--------------------\n",
       "time_delay_filter:\n",
       "\tcalibration_date = 1980-01-01\n",
       "\tcomments = time correction\n",
       "\tdelay = -0.285\n",
       "\tgain = 1.0\n",
       "\tname = electric time offset\n",
       "\ttype = time delay\n",
       "\tunits_in = count\n",
       "\tunits_out = count\n",
       "--------------------"
      ]
     },
     "execution_count": 18,
     "metadata": {},
     "output_type": "execute_result"
    }
   ],
   "source": [
    "ex.channel_response_filter"
   ]
  },
  {
   "cell_type": "code",
   "execution_count": 19,
   "id": "243fa817-400e-463c-bfa3-3d737d6ac74e",
   "metadata": {},
   "outputs": [
    {
     "data": {
      "text/plain": [
       "/:\n",
       "====================\n",
       "    |- Group: Experiment\n",
       "    --------------------\n",
       "        |- Group: Reports\n",
       "        -----------------\n",
       "        |- Group: Standards\n",
       "        -------------------\n",
       "            --> Dataset: summary\n",
       "            ......................\n",
       "        |- Group: Surveys\n",
       "        -----------------\n",
       "            |- Group: CONUS_South\n",
       "            ---------------------\n",
       "                |- Group: Filters\n",
       "                -----------------\n",
       "                    |- Group: coefficient\n",
       "                    ---------------------\n",
       "                        |- Group: mv per km to v per m\n",
       "                        ------------------------------\n",
       "                        |- Group: v per m to v\n",
       "                        ----------------------\n",
       "                        |- Group: v to counts (electric)\n",
       "                        --------------------------------\n",
       "                        |- Group: v to counts (magnetic)\n",
       "                        --------------------------------\n",
       "                    |- Group: fap\n",
       "                    -------------\n",
       "                    |- Group: fir\n",
       "                    -------------\n",
       "                    |- Group: time_delay\n",
       "                    --------------------\n",
       "                        |- Group: electric time offset\n",
       "                        ------------------------------\n",
       "                        |- Group: hx time offset\n",
       "                        ------------------------\n",
       "                        |- Group: hy time offset\n",
       "                        ------------------------\n",
       "                        |- Group: hz time offset\n",
       "                        ------------------------\n",
       "                    |- Group: zpk\n",
       "                    -------------\n",
       "                        |- Group: electric field 1 pole butterworth high-pass\n",
       "                        -----------------------------------------------------\n",
       "                            --> Dataset: poles\n",
       "                            ....................\n",
       "                            --> Dataset: zeros\n",
       "                            ....................\n",
       "                        |- Group: electric field 5 pole butterworth low-pass\n",
       "                        ----------------------------------------------------\n",
       "                            --> Dataset: poles\n",
       "                            ....................\n",
       "                            --> Dataset: zeros\n",
       "                            ....................\n",
       "                        |- Group: magnetic field 3 pole butterworth low-pass\n",
       "                        ----------------------------------------------------\n",
       "                            --> Dataset: poles\n",
       "                            ....................\n",
       "                            --> Dataset: zeros\n",
       "                            ....................\n",
       "                |- Group: Reports\n",
       "                -----------------\n",
       "                |- Group: Standards\n",
       "                -------------------\n",
       "                    --> Dataset: summary\n",
       "                    ......................\n",
       "                |- Group: Stations\n",
       "                ------------------\n",
       "                    |- Group: CAS04\n",
       "                    ---------------\n",
       "                        |- Group: Transfer_Functions\n",
       "                        ----------------------------\n",
       "                        |- Group: a\n",
       "                        -----------\n",
       "                            --> Dataset: ex\n",
       "                            .................\n",
       "                            --> Dataset: hx\n",
       "                            .................\n",
       "        --> Dataset: channel_summary\n",
       "        ..............................\n",
       "        --> Dataset: tf_summary\n",
       "        ........................."
      ]
     },
     "execution_count": 19,
     "metadata": {},
     "output_type": "execute_result"
    }
   ],
   "source": [
    "m"
   ]
  },
  {
   "cell_type": "code",
   "execution_count": 20,
   "id": "f5da15d5-c328-4b66-9603-ee32d900ce66",
   "metadata": {},
   "outputs": [
    {
     "name": "stderr",
     "output_type": "stream",
     "text": [
      "2022-04-05 16:34:39,255 [line 726] mth5.mth5.MTH5.close_mth5 - INFO: Flushing and closing c:\\Users\\jpeacock\\Documents\\GitHub\\mth5\\docs\\examples\\notebooks\\ZU_CAS04_NVR08_small.h5\n"
     ]
    }
   ],
   "source": [
    "m.close_mth5()"
   ]
  },
  {
   "cell_type": "code",
   "execution_count": null,
   "id": "c8bdb2b3-360b-4ddc-b775-e85d7573bc2b",
   "metadata": {},
   "outputs": [],
   "source": []
  }
 ],
 "metadata": {
  "kernelspec": {
   "display_name": "Python 3 (ipykernel)",
   "language": "python",
   "name": "python3"
  },
  "language_info": {
   "codemirror_mode": {
    "name": "ipython",
    "version": 3
   },
   "file_extension": ".py",
   "mimetype": "text/x-python",
   "name": "python",
   "nbconvert_exporter": "python",
   "pygments_lexer": "ipython3",
   "version": "3.7.11"
  }
 },
 "nbformat": 4,
 "nbformat_minor": 5
}
