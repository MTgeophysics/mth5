{
 "cells": [
  {
   "cell_type": "markdown",
   "id": "b0edfb4a-e73d-42e0-8bf1-62c7042c7406",
   "metadata": {
    "tags": []
   },
   "source": [
    "# Add Transfer Functions to an MTH5\n",
    "\n",
    "This examples demonstrates how transfer functions can be added to an MTH5 file.  The transfer functions are stored at the `Station` level in a group called `TransferFunctionsGroup`.  Within this group station transfer functions are stored as a single group for each transfer function `TransferFunctionGroup`.  Each `TransferFunctionGroup` has a data set for each statistical estimate provided within the transfer function.  Currently supported estimates are\n",
    "\n",
    "| Estimate           | Description                  |  Shape | Data Type |\n",
    "|--------------------|------------------------------|--------|---------- |\n",
    "| transfer_function  | Full transfer function       | n_periods x n_inputs x n_outputs | complex |\n",
    "| transfer_function_error  | Full transfer function error estimation      | n_periods x n_inputs x n_outputs | real |\n",
    "| impedance  | Only horizontal components, traditional impedance tensor       | n_periods x 2 x 2 |complex |\n",
    "| impedance_error  | Only horizontal components, traditional impedance tensor error       | n_periods x 2 x 2 |real |\n",
    "| tipper  | horizontal and vertical magnetic transfer function, Tipper  | n_periods x 1 x 2 | complex |\n",
    "| tipper_error  | horizontal and vertical magnetic transfer function, Tipper error  | n_periods x 1 x 2 |real |\n",
    "| inverse_signal_power  | covariance of input channels (sources)  | n_periods x n_inputs x n_inputs |complex |\n",
    "| residual_covariance  | covariance of output channels (responses) | n_periods x n_outputs x n_outputs |complex |\n",
    "\n",
    "**Note:** There are plans to add phase tensor and resitivity/phase estimations in the future.\n",
    "\n"
   ]
  },
  {
   "cell_type": "markdown",
   "id": "a6ad495f-36cc-437b-9214-e4a503985720",
   "metadata": {},
   "source": [
    "# TF object\n",
    "\n",
    "The TF object comes from `mt_metadata.transfer_functions.core.TF` and is meant to be the common container for transfer functions.  It has readers for:\n",
    "\n",
    "* EDI\n",
    "* EMFT XML\n",
    "* Z-files (EMTF output)\n",
    "* J-files (BIRRP output)\n",
    "* AVG files (Zonge output)\n",
    "\n",
    "The `TF` object has two important metadata objects `survey_metadata` and `station_metadata`.  Metadata from the other files are translated into these containers and translated back when writing a file.  \n",
    "\n",
    "The statistical estimates are stored as `xarray.Datasets` that have coordinates of `period`, `input_channels`, `output_channels`.  This way the transfer function can be generalized.  `impedance` and `tipper` are stored in `transfer_function` and `TF` provides convenience functions to access `impedance` and `tipper` and associated errors.  Variances are stored as covariances for input channels (`inverse_signal_power`) and output channels (`residual_covariance`) when possible, and the `transfer_function_error` is stored as well.  \n",
    "\n",
    "**Note:** There are future plans to include phase tensor and resistivity/phase representation as well.  "
   ]
  },
  {
   "cell_type": "code",
   "execution_count": 1,
   "id": "389f02a1-a84f-4be3-bdf1-1109c29dbf10",
   "metadata": {},
   "outputs": [
    {
     "name": "stdout",
     "output_type": "stream",
     "text": [
      "2022-03-17T21:22:44 [line 157] numexpr.utils._init_num_threads - INFO: NumExpr defaulting to 8 threads.\n"
     ]
    },
    {
     "name": "stderr",
     "output_type": "stream",
     "text": [
      "2022-03-17 21:22:47,367 [line 135] mth5.setup_logger - INFO: Logging file can be found C:\\Users\\jpeacock\\Documents\\GitHub\\mth5\\logs\\mth5_debug.log\n"
     ]
    }
   ],
   "source": [
    "from mth5.mth5 import MTH5\n",
    "\n",
    "from mt_metadata import TF_XML, TF_EDI_SPECTRA, TF_ZMM, TF_EDI_CGG\n",
    "from mt_metadata.transfer_functions.core import TF"
   ]
  },
  {
   "cell_type": "code",
   "execution_count": 2,
   "id": "5aaba4d3-6d50-4475-9f85-610f525413f1",
   "metadata": {},
   "outputs": [
    {
     "name": "stderr",
     "output_type": "stream",
     "text": [
      "2022-03-17 21:22:47,943 [line 601] mth5.mth5.MTH5.open_mth5 - WARNING: transfer_function_example.h5 will be overwritten in 'w' mode\n",
      "2022-03-17 21:22:48,309 [line 660] mth5.mth5.MTH5._initialize_file - INFO: Initialized MTH5 file transfer_function_example.h5 in mode w\n"
     ]
    }
   ],
   "source": [
    "m = MTH5(file_version=\"0.2.0\")\n",
    "m.open_mth5(r\"transfer_function_example.h5\", \"w\")"
   ]
  },
  {
   "cell_type": "markdown",
   "id": "c5ecc33c-6822-4405-8f0f-87d4b99f50dc",
   "metadata": {},
   "source": [
    "## Read in Transfer functions\n",
    "\n",
    "* **TF_XML**: An example of EMTF XML format, the preferred format for archiving\n",
    "* **TF_EDI_SPECTRA**: An example of an EDI file stored as spectra\n",
    "* **TF_EDI_CGG**: An example of an output file from a contractor\n",
    "* **TF_ZMM**: An example of an output file from EMFT\n"
   ]
  },
  {
   "cell_type": "code",
   "execution_count": 8,
   "id": "eff7a3d1-b0df-49d3-b439-ce8ad3da8488",
   "metadata": {},
   "outputs": [],
   "source": [
    "tf1 = TF(TF_XML)\n",
    "tf2 = TF(TF_EDI_SPECTRA)\n",
    "tf3 = TF(TF_EDI_CGG)\n",
    "tf4 = TF(TF_ZMM)"
   ]
  },
  {
   "cell_type": "markdown",
   "id": "92e1ede5-3481-4ef5-9373-dc5766f015c7",
   "metadata": {},
   "source": [
    "## Add TF_XML to the MTH5\n",
    "\n",
    "When we add a transfer function to an MTH5, it looks for the `survey.id` and `station.id`, if it doesn't find any then they are created.  If information is provided on which runs were processed and channels used those are filled in as well.\n",
    "\n",
    "**Note:** If you have multiple transfer functions for a given station be sure to rename the file, for an EDI this is in `HEADER` under the attribute `DATAID`. Name it something like `station_sample_rate` or `station_runs` "
   ]
  },
  {
   "cell_type": "code",
   "execution_count": 4,
   "id": "87d6bd11-644c-4a43-87c0-7a6d1bcf2394",
   "metadata": {},
   "outputs": [
    {
     "name": "stderr",
     "output_type": "stream",
     "text": [
      "2022-03-17 21:22:49,315 [line 935] mth5.mth5.MTH5.get_survey - WARNING: /Experiment/Surveys/CONUS_South does not exist, check survey_list for existing names\n"
     ]
    },
    {
     "data": {
      "text/plain": [
       "/Experiment/Surveys/CONUS_South/Stations/NMX20/Transfer_Functions/NMX20:\n",
       "====================\n",
       "    --> Dataset: inverse_signal_power\n",
       "    ...................................\n",
       "    --> Dataset: period\n",
       "    .....................\n",
       "    --> Dataset: residual_covariance\n",
       "    ..................................\n",
       "    --> Dataset: transfer_function\n",
       "    ................................\n",
       "    --> Dataset: transfer_function_error\n",
       "    ......................................"
      ]
     },
     "execution_count": 4,
     "metadata": {},
     "output_type": "execute_result"
    }
   ],
   "source": [
    "tf_group_01 = m.add_transfer_function(tf1)\n",
    "tf_group_01"
   ]
  },
  {
   "cell_type": "markdown",
   "id": "d0fb6f89-d4da-4b78-94e0-4db46dcb892e",
   "metadata": {},
   "source": [
    "### Have a look at what was added to the MTH5\n",
    "\n",
    "Note that an EMTF XML has comprehensive metadata which can be used to populate the MTH5 as necessary, including `Runs` and `Channels`"
   ]
  },
  {
   "cell_type": "code",
   "execution_count": 5,
   "id": "620bbe7c-1f3f-4d14-af49-efe2b63f50e8",
   "metadata": {},
   "outputs": [
    {
     "data": {
      "text/plain": [
       "/:\n",
       "====================\n",
       "    |- Group: Experiment\n",
       "    --------------------\n",
       "        |- Group: Reports\n",
       "        -----------------\n",
       "        |- Group: Standards\n",
       "        -------------------\n",
       "            --> Dataset: summary\n",
       "            ......................\n",
       "        |- Group: Surveys\n",
       "        -----------------\n",
       "            |- Group: CONUS_South\n",
       "            ---------------------\n",
       "                |- Group: Filters\n",
       "                -----------------\n",
       "                    |- Group: coefficient\n",
       "                    ---------------------\n",
       "                    |- Group: fap\n",
       "                    -------------\n",
       "                    |- Group: fir\n",
       "                    -------------\n",
       "                    |- Group: time_delay\n",
       "                    --------------------\n",
       "                    |- Group: zpk\n",
       "                    -------------\n",
       "                |- Group: Reports\n",
       "                -----------------\n",
       "                |- Group: Standards\n",
       "                -------------------\n",
       "                    --> Dataset: summary\n",
       "                    ......................\n",
       "                |- Group: Stations\n",
       "                ------------------\n",
       "                    |- Group: NMX20\n",
       "                    ---------------\n",
       "                        |- Group: NMX20a\n",
       "                        ----------------\n",
       "                            --> Dataset: ex\n",
       "                            .................\n",
       "                            --> Dataset: ey\n",
       "                            .................\n",
       "                            --> Dataset: hx\n",
       "                            .................\n",
       "                            --> Dataset: hy\n",
       "                            .................\n",
       "                            --> Dataset: hz\n",
       "                            .................\n",
       "                        |- Group: NMX20b\n",
       "                        ----------------\n",
       "                            --> Dataset: ex\n",
       "                            .................\n",
       "                            --> Dataset: ey\n",
       "                            .................\n",
       "                            --> Dataset: hx\n",
       "                            .................\n",
       "                            --> Dataset: hy\n",
       "                            .................\n",
       "                            --> Dataset: hz\n",
       "                            .................\n",
       "                        |- Group: Transfer_Functions\n",
       "                        ----------------------------\n",
       "                            |- Group: NMX20\n",
       "                            ---------------\n",
       "                                --> Dataset: inverse_signal_power\n",
       "                                ...................................\n",
       "                                --> Dataset: period\n",
       "                                .....................\n",
       "                                --> Dataset: residual_covariance\n",
       "                                ..................................\n",
       "                                --> Dataset: transfer_function\n",
       "                                ................................\n",
       "                                --> Dataset: transfer_function_error\n",
       "                                ......................................"
      ]
     },
     "execution_count": 5,
     "metadata": {},
     "output_type": "execute_result"
    }
   ],
   "source": [
    "m"
   ]
  },
  {
   "cell_type": "markdown",
   "id": "ca68ec41-7013-41b2-80aa-8fd85c270380",
   "metadata": {},
   "source": [
    "## Add an example EDI\n",
    "\n",
    "Here the survey is not specified therefore we need to fill that information in ourselves otherwise an error is raised, see below."
   ]
  },
  {
   "cell_type": "code",
   "execution_count": 6,
   "id": "ced41eda-b1f7-40f2-8783-6d7f4aba9858",
   "metadata": {},
   "outputs": [
    {
     "ename": "AttributeError",
     "evalue": "'NoneType' object has no attribute 'replace'",
     "output_type": "error",
     "traceback": [
      "\u001b[1;31m---------------------------------------------------------------------------\u001b[0m",
      "\u001b[1;31mAttributeError\u001b[0m                            Traceback (most recent call last)",
      "\u001b[1;32m~\\AppData\\Local\\Temp\\1/ipykernel_14892/2399190178.py\u001b[0m in \u001b[0;36m<module>\u001b[1;34m\u001b[0m\n\u001b[1;32m----> 1\u001b[1;33m \u001b[0mtf_group_02\u001b[0m \u001b[1;33m=\u001b[0m \u001b[0mm\u001b[0m\u001b[1;33m.\u001b[0m\u001b[0madd_transfer_function\u001b[0m\u001b[1;33m(\u001b[0m\u001b[0mtf2\u001b[0m\u001b[1;33m)\u001b[0m\u001b[1;33m\u001b[0m\u001b[1;33m\u001b[0m\u001b[0m\n\u001b[0m",
      "\u001b[1;32m~\\Documents\\GitHub\\mth5\\mth5\\mth5.py\u001b[0m in \u001b[0;36madd_transfer_function\u001b[1;34m(self, tf_object)\u001b[0m\n\u001b[0;32m   1335\u001b[0m         \u001b[1;32mif\u001b[0m \u001b[0mself\u001b[0m\u001b[1;33m.\u001b[0m\u001b[0mfile_version\u001b[0m \u001b[1;33m==\u001b[0m \u001b[1;34m\"0.2.0\"\u001b[0m\u001b[1;33m:\u001b[0m\u001b[1;33m\u001b[0m\u001b[1;33m\u001b[0m\u001b[0m\n\u001b[0;32m   1336\u001b[0m             \u001b[1;32mtry\u001b[0m\u001b[1;33m:\u001b[0m\u001b[1;33m\u001b[0m\u001b[1;33m\u001b[0m\u001b[0m\n\u001b[1;32m-> 1337\u001b[1;33m                 \u001b[0msurvey_group\u001b[0m \u001b[1;33m=\u001b[0m \u001b[0mself\u001b[0m\u001b[1;33m.\u001b[0m\u001b[0mget_survey\u001b[0m\u001b[1;33m(\u001b[0m\u001b[0mtf_object\u001b[0m\u001b[1;33m.\u001b[0m\u001b[0msurvey_metadata\u001b[0m\u001b[1;33m.\u001b[0m\u001b[0mid\u001b[0m\u001b[1;33m)\u001b[0m\u001b[1;33m\u001b[0m\u001b[1;33m\u001b[0m\u001b[0m\n\u001b[0m\u001b[0;32m   1338\u001b[0m             \u001b[1;32mexcept\u001b[0m \u001b[0mMTH5Error\u001b[0m\u001b[1;33m:\u001b[0m\u001b[1;33m\u001b[0m\u001b[1;33m\u001b[0m\u001b[0m\n\u001b[0;32m   1339\u001b[0m                 survey_group = self.add_survey(\n",
      "\u001b[1;32m~\\Documents\\GitHub\\mth5\\mth5\\mth5.py\u001b[0m in \u001b[0;36mget_survey\u001b[1;34m(self, survey_name)\u001b[0m\n\u001b[0;32m    922\u001b[0m         \"\"\"\n\u001b[0;32m    923\u001b[0m \u001b[1;33m\u001b[0m\u001b[0m\n\u001b[1;32m--> 924\u001b[1;33m         \u001b[0msurvey_name\u001b[0m \u001b[1;33m=\u001b[0m \u001b[0mhelpers\u001b[0m\u001b[1;33m.\u001b[0m\u001b[0mvalidate_name\u001b[0m\u001b[1;33m(\u001b[0m\u001b[0msurvey_name\u001b[0m\u001b[1;33m)\u001b[0m\u001b[1;33m\u001b[0m\u001b[1;33m\u001b[0m\u001b[0m\n\u001b[0m\u001b[0;32m    925\u001b[0m         \u001b[1;32mtry\u001b[0m\u001b[1;33m:\u001b[0m\u001b[1;33m\u001b[0m\u001b[1;33m\u001b[0m\u001b[0m\n\u001b[0;32m    926\u001b[0m             return groups.SurveyGroup(\n",
      "\u001b[1;32m~\\Documents\\GitHub\\mth5\\mth5\\helpers.py\u001b[0m in \u001b[0;36mvalidate_name\u001b[1;34m(name, pattern)\u001b[0m\n\u001b[0;32m    272\u001b[0m     \"\"\"\n\u001b[0;32m    273\u001b[0m \u001b[1;33m\u001b[0m\u001b[0m\n\u001b[1;32m--> 274\u001b[1;33m     \u001b[1;32mreturn\u001b[0m \u001b[0mname\u001b[0m\u001b[1;33m.\u001b[0m\u001b[0mreplace\u001b[0m\u001b[1;33m(\u001b[0m\u001b[1;34m\" \"\u001b[0m\u001b[1;33m,\u001b[0m \u001b[1;34m\"_\"\u001b[0m\u001b[1;33m)\u001b[0m\u001b[1;33m\u001b[0m\u001b[1;33m\u001b[0m\u001b[0m\n\u001b[0m",
      "\u001b[1;31mAttributeError\u001b[0m: 'NoneType' object has no attribute 'replace'"
     ]
    }
   ],
   "source": [
    "tf_group_02 = m.add_transfer_function(tf2)"
   ]
  },
  {
   "cell_type": "markdown",
   "id": "5244a069-1133-4434-803f-1a671931f383",
   "metadata": {},
   "source": [
    "Here we give the survey the id `unknown_survey`.  Also note that because the data are stored as spectra in the EDI we can calculate the `inverse_signal_power` and `residual_covariance`."
   ]
  },
  {
   "cell_type": "code",
   "execution_count": 17,
   "id": "b12a3baa-bebf-4020-9c24-46dc34845b89",
   "metadata": {},
   "outputs": [
    {
     "data": {
      "text/plain": [
       "/Experiment/Surveys/unknown_survey/Stations/SAGE_2005/Transfer_Functions/SAGE_2005:\n",
       "====================\n",
       "    --> Dataset: inverse_signal_power\n",
       "    ...................................\n",
       "    --> Dataset: period\n",
       "    .....................\n",
       "    --> Dataset: residual_covariance\n",
       "    ..................................\n",
       "    --> Dataset: transfer_function\n",
       "    ................................\n",
       "    --> Dataset: transfer_function_error\n",
       "    ......................................"
      ]
     },
     "execution_count": 17,
     "metadata": {},
     "output_type": "execute_result"
    }
   ],
   "source": [
    "tf2.survey_metadata.id = \"unknown_survey\"\n",
    "tf_group_02 = m.add_transfer_function(tf2)\n",
    "tf_group_02"
   ]
  },
  {
   "cell_type": "markdown",
   "id": "3c8ee84e-7bcf-4ec2-9c39-73a925d38535",
   "metadata": {},
   "source": [
    "## Add typical EDI file\n",
    "\n",
    "This file only has impedance and tipper and minimal metadata, which are converted into a full transfer function for storage."
   ]
  },
  {
   "cell_type": "code",
   "execution_count": 9,
   "id": "9e87dc23-6f76-461d-abd8-ffce1256d549",
   "metadata": {},
   "outputs": [
    {
     "name": "stderr",
     "output_type": "stream",
     "text": [
      "2022-03-17 21:27:22,495 [line 270] mth5.groups.base.TransferFunction.from_tf_object - WARNING: Did not find inverse_signal_power in TF. Skipping\n",
      "2022-03-17 21:27:22,497 [line 270] mth5.groups.base.TransferFunction.from_tf_object - WARNING: Did not find residual_covariance in TF. Skipping\n"
     ]
    },
    {
     "data": {
      "text/plain": [
       "/Experiment/Surveys/unknown_survey/Stations/TEST01/Transfer_Functions/TEST01:\n",
       "====================\n",
       "    --> Dataset: period\n",
       "    .....................\n",
       "    --> Dataset: transfer_function\n",
       "    ................................\n",
       "    --> Dataset: transfer_function_error\n",
       "    ......................................"
      ]
     },
     "execution_count": 9,
     "metadata": {},
     "output_type": "execute_result"
    }
   ],
   "source": [
    "tf3.survey_metadata.id = \"unknown_survey\"\n",
    "tf_group_03 = m.add_transfer_function(tf3)\n",
    "tf_group_03"
   ]
  },
  {
   "cell_type": "markdown",
   "id": "a2a505e5-0132-437b-a409-a0473d91174a",
   "metadata": {},
   "source": [
    "## Add an output from EMTF\n",
    "\n",
    "A ZMM file contains the full covariance and transfer functions but has minimal metadata"
   ]
  },
  {
   "cell_type": "code",
   "execution_count": null,
   "id": "b18a925f-be0d-4499-8833-820ae4c2a09f",
   "metadata": {},
   "outputs": [],
   "source": []
  },
  {
   "cell_type": "code",
   "execution_count": 11,
   "id": "464966c3-1d72-4ff6-9ab5-cecfb1d08c3d",
   "metadata": {},
   "outputs": [
    {
     "data": {
      "text/plain": [
       "/Experiment/Surveys/unknown_survey/Stations/300/Transfer_Functions/300:\n",
       "====================\n",
       "    --> Dataset: inverse_signal_power\n",
       "    ...................................\n",
       "    --> Dataset: period\n",
       "    .....................\n",
       "    --> Dataset: residual_covariance\n",
       "    ..................................\n",
       "    --> Dataset: transfer_function\n",
       "    ................................\n",
       "    --> Dataset: transfer_function_error\n",
       "    ......................................"
      ]
     },
     "execution_count": 11,
     "metadata": {},
     "output_type": "execute_result"
    }
   ],
   "source": [
    "tf4.survey_metadata.id = \"unknown_survey\"\n",
    "tf_group_04 = m.add_transfer_function(tf4)\n",
    "tf_group_04"
   ]
  },
  {
   "cell_type": "markdown",
   "id": "9afbeb5a-ff13-4d48-99b6-36a70f643a31",
   "metadata": {},
   "source": [
    "## Have a look at the MTH5 file\n",
    "\n",
    "Everything has been filled in now in the MTH5 including metadata about `runs` and `channels`"
   ]
  },
  {
   "cell_type": "code",
   "execution_count": 12,
   "id": "ca6de2e4-7548-4dc6-8ab5-c6305c5b4460",
   "metadata": {},
   "outputs": [
    {
     "data": {
      "text/plain": [
       "/:\n",
       "====================\n",
       "    |- Group: Experiment\n",
       "    --------------------\n",
       "        |- Group: Reports\n",
       "        -----------------\n",
       "        |- Group: Standards\n",
       "        -------------------\n",
       "            --> Dataset: summary\n",
       "            ......................\n",
       "        |- Group: Surveys\n",
       "        -----------------\n",
       "            |- Group: CONUS_South\n",
       "            ---------------------\n",
       "                |- Group: Filters\n",
       "                -----------------\n",
       "                    |- Group: coefficient\n",
       "                    ---------------------\n",
       "                    |- Group: fap\n",
       "                    -------------\n",
       "                    |- Group: fir\n",
       "                    -------------\n",
       "                    |- Group: time_delay\n",
       "                    --------------------\n",
       "                    |- Group: zpk\n",
       "                    -------------\n",
       "                |- Group: Reports\n",
       "                -----------------\n",
       "                |- Group: Standards\n",
       "                -------------------\n",
       "                    --> Dataset: summary\n",
       "                    ......................\n",
       "                |- Group: Stations\n",
       "                ------------------\n",
       "                    |- Group: NMX20\n",
       "                    ---------------\n",
       "                        |- Group: NMX20a\n",
       "                        ----------------\n",
       "                            --> Dataset: ex\n",
       "                            .................\n",
       "                            --> Dataset: ey\n",
       "                            .................\n",
       "                            --> Dataset: hx\n",
       "                            .................\n",
       "                            --> Dataset: hy\n",
       "                            .................\n",
       "                            --> Dataset: hz\n",
       "                            .................\n",
       "                        |- Group: NMX20b\n",
       "                        ----------------\n",
       "                            --> Dataset: ex\n",
       "                            .................\n",
       "                            --> Dataset: ey\n",
       "                            .................\n",
       "                            --> Dataset: hx\n",
       "                            .................\n",
       "                            --> Dataset: hy\n",
       "                            .................\n",
       "                            --> Dataset: hz\n",
       "                            .................\n",
       "                        |- Group: Transfer_Functions\n",
       "                        ----------------------------\n",
       "                            |- Group: NMX20\n",
       "                            ---------------\n",
       "                                --> Dataset: inverse_signal_power\n",
       "                                ...................................\n",
       "                                --> Dataset: period\n",
       "                                .....................\n",
       "                                --> Dataset: residual_covariance\n",
       "                                ..................................\n",
       "                                --> Dataset: transfer_function\n",
       "                                ................................\n",
       "                                --> Dataset: transfer_function_error\n",
       "                                ......................................\n",
       "            |- Group: unknown_survey\n",
       "            ------------------------\n",
       "                |- Group: Filters\n",
       "                -----------------\n",
       "                    |- Group: coefficient\n",
       "                    ---------------------\n",
       "                    |- Group: fap\n",
       "                    -------------\n",
       "                    |- Group: fir\n",
       "                    -------------\n",
       "                    |- Group: time_delay\n",
       "                    --------------------\n",
       "                    |- Group: zpk\n",
       "                    -------------\n",
       "                |- Group: Reports\n",
       "                -----------------\n",
       "                |- Group: Standards\n",
       "                -------------------\n",
       "                    --> Dataset: summary\n",
       "                    ......................\n",
       "                |- Group: Stations\n",
       "                ------------------\n",
       "                    |- Group: 300\n",
       "                    -------------\n",
       "                        |- Group: 300a\n",
       "                        --------------\n",
       "                            --> Dataset: ex\n",
       "                            .................\n",
       "                            --> Dataset: ey\n",
       "                            .................\n",
       "                            --> Dataset: hx\n",
       "                            .................\n",
       "                            --> Dataset: hy\n",
       "                            .................\n",
       "                            --> Dataset: hz\n",
       "                            .................\n",
       "                        |- Group: Transfer_Functions\n",
       "                        ----------------------------\n",
       "                            |- Group: 300\n",
       "                            -------------\n",
       "                                --> Dataset: inverse_signal_power\n",
       "                                ...................................\n",
       "                                --> Dataset: period\n",
       "                                .....................\n",
       "                                --> Dataset: residual_covariance\n",
       "                                ..................................\n",
       "                                --> Dataset: transfer_function\n",
       "                                ................................\n",
       "                                --> Dataset: transfer_function_error\n",
       "                                ......................................\n",
       "                    |- Group: SAGE_2005\n",
       "                    -------------------\n",
       "                        |- Group: SAGE_2005a\n",
       "                        --------------------\n",
       "                            --> Dataset: ex\n",
       "                            .................\n",
       "                            --> Dataset: ey\n",
       "                            .................\n",
       "                            --> Dataset: hx\n",
       "                            .................\n",
       "                            --> Dataset: hy\n",
       "                            .................\n",
       "                            --> Dataset: hz\n",
       "                            .................\n",
       "                        |- Group: Transfer_Functions\n",
       "                        ----------------------------\n",
       "                            |- Group: SAGE_2005\n",
       "                            -------------------\n",
       "                                --> Dataset: inverse_signal_power\n",
       "                                ...................................\n",
       "                                --> Dataset: period\n",
       "                                .....................\n",
       "                                --> Dataset: residual_covariance\n",
       "                                ..................................\n",
       "                                --> Dataset: transfer_function\n",
       "                                ................................\n",
       "                                --> Dataset: transfer_function_error\n",
       "                                ......................................\n",
       "                    |- Group: TEST01\n",
       "                    ----------------\n",
       "                        |- Group: TEST01a\n",
       "                        -----------------\n",
       "                            --> Dataset: ex\n",
       "                            .................\n",
       "                            --> Dataset: ey\n",
       "                            .................\n",
       "                            --> Dataset: hx\n",
       "                            .................\n",
       "                            --> Dataset: hy\n",
       "                            .................\n",
       "                            --> Dataset: hz\n",
       "                            .................\n",
       "                        |- Group: Transfer_Functions\n",
       "                        ----------------------------\n",
       "                            |- Group: TEST01\n",
       "                            ----------------\n",
       "                                --> Dataset: period\n",
       "                                .....................\n",
       "                                --> Dataset: transfer_function\n",
       "                                ................................\n",
       "                                --> Dataset: transfer_function_error\n",
       "                                ......................................"
      ]
     },
     "execution_count": 12,
     "metadata": {},
     "output_type": "execute_result"
    }
   ],
   "source": [
    "m"
   ]
  },
  {
   "cell_type": "markdown",
   "id": "95f954ce-7b3f-41f8-bab3-a002d25d5676",
   "metadata": {},
   "source": [
    "# Get a transfer function object from MTH5\n",
    "\n",
    "To retrieve a transfer function from the MTH5 file a convenience function `m.get_transfer_function` is supplied.  You only need to know the `station.id`, `tf.id`, and the `survey.id`.  Here the `tf.id` is the same as the `station.id`."
   ]
  },
  {
   "cell_type": "code",
   "execution_count": 13,
   "id": "c5f3ee5b-784e-4ba9-a480-a36c13b2a09c",
   "metadata": {},
   "outputs": [],
   "source": [
    "tf1_h5 = m.get_transfer_function(tf1.station_metadata.id, tf1.station_metadata.id, tf1.survey_metadata.id)"
   ]
  },
  {
   "cell_type": "code",
   "execution_count": 14,
   "id": "535ebb46-db7a-436f-a7e6-e2e2e500d17c",
   "metadata": {},
   "outputs": [
    {
     "name": "stdout",
     "output_type": "stream",
     "text": [
      "Station: NMX20\n",
      "--------------------------------------------------\n",
      "\tSurvey:            CONUS South\n",
      "\tProject:           USMTArray\n",
      "\tAcquired by:       National Geoelectromagnetic Facility\n",
      "\tAcquired date:     2020-09-20\n",
      "\tLatitude:          34.471\n",
      "\tLongitude:         -108.712\n",
      "\tElevation:         1940.050\n",
      "\tDeclination:   \n",
      "\t\tValue:     9.09\n",
      "\t\tModel:     WMM\n",
      "\tCoordinate System: geographic\n",
      "\tImpedance:         True\n",
      "\tTipper:            True\n",
      "\tN Periods:     33\n",
      "\tPeriod Range:\n",
      "\t\tMin:   4.65455E+00 s\n",
      "\t\tMax:   2.91271E+04 s\n",
      "\tFrequency Range:\n",
      "\t\tMin:   3.43323E-05 Hz\n",
      "\t\tMax:   2.14844E-01 Hz\n",
      "Station: NMX20\n",
      "--------------------------------------------------\n",
      "\tSurvey:            CONUS South\n",
      "\tProject:           USMTArray\n",
      "\tAcquired by:       National Geoelectromagnetic Facility\n",
      "\tAcquired date:     2020-09-20\n",
      "\tLatitude:          34.471\n",
      "\tLongitude:         -108.712\n",
      "\tElevation:         1940.050\n",
      "\tDeclination:   \n",
      "\t\tValue:     9.09\n",
      "\t\tModel:     WMM\n",
      "\tCoordinate System: geographic\n",
      "\tImpedance:         True\n",
      "\tTipper:            True\n",
      "\tN Periods:     33\n",
      "\tPeriod Range:\n",
      "\t\tMin:   4.65455E+00 s\n",
      "\t\tMax:   2.91271E+04 s\n",
      "\tFrequency Range:\n",
      "\t\tMin:   3.43323E-05 Hz\n",
      "\t\tMax:   2.14844E-01 Hz\n"
     ]
    }
   ],
   "source": [
    "print(tf1)\n",
    "print(tf1_h5)"
   ]
  },
  {
   "cell_type": "markdown",
   "id": "6e6d46d3-e01b-4b64-8e3a-710fcacd96ce",
   "metadata": {},
   "source": [
    "# MTpy\n",
    "\n",
    "To analyze, plot, prepare input files one should look to use `MTpy`.  **Note:** `MTpy version 2.0` will use `MTH5` as the storage mechanism and `TF` to read/write files."
   ]
  }
 ],
 "metadata": {
  "kernelspec": {
   "display_name": "Python 3 (ipykernel)",
   "language": "python",
   "name": "python3"
  },
  "language_info": {
   "codemirror_mode": {
    "name": "ipython",
    "version": 3
   },
   "file_extension": ".py",
   "mimetype": "text/x-python",
   "name": "python",
   "nbconvert_exporter": "python",
   "pygments_lexer": "ipython3",
   "version": "3.7.11"
  }
 },
 "nbformat": 4,
 "nbformat_minor": 5
}
